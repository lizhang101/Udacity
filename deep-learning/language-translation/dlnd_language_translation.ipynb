{
 "cells": [
  {
   "cell_type": "markdown",
   "metadata": {
    "collapsed": true,
    "deletable": true,
    "editable": true
   },
   "source": [
    "# Language Translation\n",
    "In this project, you’re going to take a peek into the realm of neural network machine translation.  You’ll be training a sequence to sequence model on a dataset of English and French sentences that can translate new sentences from English to French.\n",
    "## Get the Data\n",
    "Since translating the whole language of English to French will take lots of time to train, we have provided you with a small portion of the English corpus."
   ]
  },
  {
   "cell_type": "code",
   "execution_count": 1,
   "metadata": {
    "collapsed": false,
    "deletable": true,
    "editable": true
   },
   "outputs": [],
   "source": [
    "\"\"\"\n",
    "DON'T MODIFY ANYTHING IN THIS CELL\n",
    "\"\"\"\n",
    "import helper\n",
    "import problem_unittests as tests\n",
    "\n",
    "source_path = 'data/small_vocab_en'\n",
    "target_path = 'data/small_vocab_fr'\n",
    "source_text = helper.load_data(source_path)\n",
    "target_text = helper.load_data(target_path)"
   ]
  },
  {
   "cell_type": "markdown",
   "metadata": {
    "deletable": true,
    "editable": true
   },
   "source": [
    "## Explore the Data\n",
    "Play around with view_sentence_range to view different parts of the data."
   ]
  },
  {
   "cell_type": "code",
   "execution_count": 2,
   "metadata": {
    "collapsed": false,
    "deletable": true,
    "editable": true
   },
   "outputs": [
    {
     "name": "stdout",
     "output_type": "stream",
     "text": [
      "Dataset Stats\n",
      "Roughly the number of unique words: 227\n",
      "Number of sentences: 137861\n",
      "Average number of words in a sentence: 13.225277634719028\n",
      "\n",
      "English sentences 0 to 10:\n",
      "new jersey is sometimes quiet during autumn , and it is snowy in april .\n",
      "the united states is usually chilly during july , and it is usually freezing in november .\n",
      "california is usually quiet during march , and it is usually hot in june .\n",
      "the united states is sometimes mild during june , and it is cold in september .\n",
      "your least liked fruit is the grape , but my least liked is the apple .\n",
      "his favorite fruit is the orange , but my favorite is the grape .\n",
      "paris is relaxing during december , but it is usually chilly in july .\n",
      "new jersey is busy during spring , and it is never hot in march .\n",
      "our least liked fruit is the lemon , but my least liked is the grape .\n",
      "the united states is sometimes busy during january , and it is sometimes warm in november .\n",
      "\n",
      "French sentences 0 to 10:\n",
      "new jersey est parfois calme pendant l' automne , et il est neigeux en avril .\n",
      "les états-unis est généralement froid en juillet , et il gèle habituellement en novembre .\n",
      "california est généralement calme en mars , et il est généralement chaud en juin .\n",
      "les états-unis est parfois légère en juin , et il fait froid en septembre .\n",
      "votre moins aimé fruit est le raisin , mais mon moins aimé est la pomme .\n",
      "son fruit préféré est l'orange , mais mon préféré est le raisin .\n",
      "paris est relaxant en décembre , mais il est généralement froid en juillet .\n",
      "new jersey est occupé au printemps , et il est jamais chaude en mars .\n",
      "notre fruit est moins aimé le citron , mais mon moins aimé est le raisin .\n",
      "les états-unis est parfois occupé en janvier , et il est parfois chaud en novembre .\n"
     ]
    }
   ],
   "source": [
    "view_sentence_range = (0, 10)\n",
    "\n",
    "\"\"\"\n",
    "DON'T MODIFY ANYTHING IN THIS CELL\n",
    "\"\"\"\n",
    "import numpy as np\n",
    "\n",
    "print('Dataset Stats')\n",
    "print('Roughly the number of unique words: {}'.format(len({word: None for word in source_text.split()})))\n",
    "\n",
    "sentences = source_text.split('\\n')\n",
    "word_counts = [len(sentence.split()) for sentence in sentences]\n",
    "print('Number of sentences: {}'.format(len(sentences)))\n",
    "print('Average number of words in a sentence: {}'.format(np.average(word_counts)))\n",
    "\n",
    "print()\n",
    "print('English sentences {} to {}:'.format(*view_sentence_range))\n",
    "print('\\n'.join(source_text.split('\\n')[view_sentence_range[0]:view_sentence_range[1]]))\n",
    "print()\n",
    "print('French sentences {} to {}:'.format(*view_sentence_range))\n",
    "print('\\n'.join(target_text.split('\\n')[view_sentence_range[0]:view_sentence_range[1]]))"
   ]
  },
  {
   "cell_type": "markdown",
   "metadata": {
    "deletable": true,
    "editable": true
   },
   "source": [
    "## Implement Preprocessing Function\n",
    "### Text to Word Ids\n",
    "As you did with other RNNs, you must turn the text into a number so the computer can understand it. In the function `text_to_ids()`, you'll turn `source_text` and `target_text` from words to ids.  However, you need to add the `<EOS>` word id at the end of each sentence from `target_text`.  This will help the neural network predict when the sentence should end.\n",
    "\n",
    "You can get the `<EOS>` word id by doing:\n",
    "```python\n",
    "target_vocab_to_int['<EOS>']\n",
    "```\n",
    "You can get other word ids using `source_vocab_to_int` and `target_vocab_to_int`."
   ]
  },
  {
   "cell_type": "code",
   "execution_count": 3,
   "metadata": {
    "collapsed": false,
    "deletable": true,
    "editable": true
   },
   "outputs": [
    {
     "name": "stdout",
     "output_type": "stream",
     "text": [
      "Tests Passed\n"
     ]
    }
   ],
   "source": [
    "def text_to_ids(source_text, target_text, source_vocab_to_int, target_vocab_to_int):\n",
    "    \"\"\"\n",
    "    Convert source and target text to proper word ids\n",
    "    :param source_text: String that contains all the source text.\n",
    "    :param target_text: String that contains all the target text.\n",
    "    :param source_vocab_to_int: Dictionary to go from the source words to an id\n",
    "    :param target_vocab_to_int: Dictionary to go from the target words to an id\n",
    "    :return: A tuple of lists (source_id_text, target_id_text)\n",
    "    \"\"\"\n",
    "    source_id_text = [[source_vocab_to_int[w] for w in sentence.split()]\n",
    "                      for sentence in source_text.split('\\n')]\n",
    "    \n",
    "    #Only append <EOS> to target.\n",
    "    #First to add an <EOS> to the last sentence.\n",
    "    target_id_text = [[target_vocab_to_int[w] for w in sentence.split()] \n",
    "                      for sentence in (target_text + ' <EOS>').replace('\\n', ' <EOS>\\n').split('\\n')]\n",
    "    return source_id_text, target_id_text\n",
    "\n",
    "\"\"\"\n",
    "DON'T MODIFY ANYTHING IN THIS CELL THAT IS BELOW THIS LINE\n",
    "\"\"\"\n",
    "tests.test_text_to_ids(text_to_ids)"
   ]
  },
  {
   "cell_type": "markdown",
   "metadata": {
    "deletable": true,
    "editable": true
   },
   "source": [
    "### Preprocess all the data and save it\n",
    "Running the code cell below will preprocess all the data and save it to file."
   ]
  },
  {
   "cell_type": "code",
   "execution_count": 4,
   "metadata": {
    "collapsed": false,
    "deletable": true,
    "editable": true
   },
   "outputs": [],
   "source": [
    "\"\"\"\n",
    "DON'T MODIFY ANYTHING IN THIS CELL\n",
    "\"\"\"\n",
    "helper.preprocess_and_save_data(source_path, target_path, text_to_ids)"
   ]
  },
  {
   "cell_type": "markdown",
   "metadata": {
    "deletable": true,
    "editable": true
   },
   "source": [
    "# Check Point\n",
    "This is your first checkpoint. If you ever decide to come back to this notebook or have to restart the notebook, you can start from here. The preprocessed data has been saved to disk."
   ]
  },
  {
   "cell_type": "code",
   "execution_count": 5,
   "metadata": {
    "collapsed": false,
    "deletable": true,
    "editable": true
   },
   "outputs": [],
   "source": [
    "\"\"\"\n",
    "DON'T MODIFY ANYTHING IN THIS CELL\n",
    "\"\"\"\n",
    "import numpy as np\n",
    "import helper\n",
    "\n",
    "(source_int_text, target_int_text), (source_vocab_to_int, target_vocab_to_int), _ = helper.load_preprocess()"
   ]
  },
  {
   "cell_type": "markdown",
   "metadata": {
    "deletable": true,
    "editable": true
   },
   "source": [
    "### Check the Version of TensorFlow and Access to GPU\n",
    "This will check to make sure you have the correct version of TensorFlow and access to a GPU"
   ]
  },
  {
   "cell_type": "code",
   "execution_count": 6,
   "metadata": {
    "collapsed": false,
    "deletable": true,
    "editable": true
   },
   "outputs": [
    {
     "name": "stdout",
     "output_type": "stream",
     "text": [
      "TensorFlow Version: 1.0.0\n"
     ]
    },
    {
     "name": "stderr",
     "output_type": "stream",
     "text": [
      "/home/lizhang/.conda/envs/tf1.0/lib/python3.5/site-packages/ipykernel/__main__.py:14: UserWarning: No GPU found. Please use a GPU to train your neural network.\n"
     ]
    }
   ],
   "source": [
    "\"\"\"\n",
    "DON'T MODIFY ANYTHING IN THIS CELL\n",
    "\"\"\"\n",
    "from distutils.version import LooseVersion\n",
    "import warnings\n",
    "import tensorflow as tf\n",
    "\n",
    "# Check TensorFlow Version\n",
    "assert LooseVersion(tf.__version__) >= LooseVersion('1.0'), 'Please use TensorFlow version 1.0 or newer'\n",
    "print('TensorFlow Version: {}'.format(tf.__version__))\n",
    "\n",
    "# Check for a GPU\n",
    "if not tf.test.gpu_device_name():\n",
    "    warnings.warn('No GPU found. Please use a GPU to train your neural network.')\n",
    "else:\n",
    "    print('Default GPU Device: {}'.format(tf.test.gpu_device_name()))"
   ]
  },
  {
   "cell_type": "markdown",
   "metadata": {
    "deletable": true,
    "editable": true
   },
   "source": [
    "## Build the Neural Network\n",
    "You'll build the components necessary to build a Sequence-to-Sequence model by implementing the following functions below:\n",
    "- `model_inputs`\n",
    "- `process_decoding_input`\n",
    "- `encoding_layer`\n",
    "- `decoding_layer_train`\n",
    "- `decoding_layer_infer`\n",
    "- `decoding_layer`\n",
    "- `seq2seq_model`\n",
    "\n",
    "### Input\n",
    "Implement the `model_inputs()` function to create TF Placeholders for the Neural Network. It should create the following placeholders:\n",
    "\n",
    "- Input text placeholder named \"input\" using the TF Placeholder name parameter with rank 2.\n",
    "- Targets placeholder with rank 2.\n",
    "- Learning rate placeholder with rank 0.\n",
    "- Keep probability placeholder named \"keep_prob\" using the TF Placeholder name parameter with rank 0.\n",
    "\n",
    "Return the placeholders in the following the tuple (Input, Targets, Learing Rate, Keep Probability)"
   ]
  },
  {
   "cell_type": "code",
   "execution_count": 7,
   "metadata": {
    "collapsed": false,
    "deletable": true,
    "editable": true
   },
   "outputs": [
    {
     "name": "stdout",
     "output_type": "stream",
     "text": [
      "Tests Passed\n"
     ]
    }
   ],
   "source": [
    "def model_inputs():\n",
    "    \"\"\"\n",
    "    Create TF Placeholders for input, targets, and learning rate.\n",
    "    :return: Tuple (input, targets, learning rate, keep probability)\n",
    "    \"\"\" \n",
    "    inputs = tf.placeholder(tf.int32, [None, None], name='input')\n",
    "    targets = tf.placeholder(tf.int32, [None, None], name='target')\n",
    "    learning_rate = tf.placeholder(tf.float32, name='learning_rate')\n",
    "    keep_prob = tf.placeholder(tf.float32, name='keep_prob')\n",
    "    # TODO: Implement Function\n",
    "    return inputs, targets, learning_rate, keep_prob\n",
    "\n",
    "\"\"\"\n",
    "DON'T MODIFY ANYTHING IN THIS CELL THAT IS BELOW THIS LINE\n",
    "\"\"\"\n",
    "tests.test_model_inputs(model_inputs)"
   ]
  },
  {
   "cell_type": "markdown",
   "metadata": {
    "deletable": true,
    "editable": true
   },
   "source": [
    "### Process Decoding Input\n",
    "Implement `process_decoding_input` using TensorFlow to remove the last word id from each batch in `target_data` and concat the GO ID to the begining of each batch."
   ]
  },
  {
   "cell_type": "code",
   "execution_count": 8,
   "metadata": {
    "collapsed": false,
    "deletable": true,
    "editable": true
   },
   "outputs": [
    {
     "name": "stdout",
     "output_type": "stream",
     "text": [
      "Tests Passed\n"
     ]
    }
   ],
   "source": [
    "def process_decoding_input(target_data, target_vocab_to_int, batch_size):\n",
    "    \"\"\"\n",
    "    Preprocess target data for dencoding\n",
    "    :param target_data: Target Placehoder\n",
    "    :param target_vocab_to_int: Dictionary to go from the target words to an id\n",
    "    :param batch_size: Batch Size\n",
    "    :return: Preprocessed target data\n",
    "    \"\"\"\n",
    "    # TODO: Implement Function\n",
    "    removed_last = tf.strided_slice(target_data, [0, 0], [batch_size, -1], [1, 1])\n",
    "    decoding_input = tf.concat([tf.fill([batch_size, 1], target_vocab_to_int['<GO>']), removed_last], 1)\n",
    "    return decoding_input\n",
    "\n",
    "\"\"\"\n",
    "DON'T MODIFY ANYTHING IN THIS CELL THAT IS BELOW THIS LINE\n",
    "\"\"\"\n",
    "tests.test_process_decoding_input(process_decoding_input)"
   ]
  },
  {
   "cell_type": "markdown",
   "metadata": {
    "deletable": true,
    "editable": true
   },
   "source": [
    "### Encoding\n",
    "Implement `encoding_layer()` to create a Encoder RNN layer using [`tf.nn.dynamic_rnn()`](https://www.tensorflow.org/api_docs/python/tf/nn/dynamic_rnn)."
   ]
  },
  {
   "cell_type": "code",
   "execution_count": 9,
   "metadata": {
    "collapsed": false,
    "deletable": true,
    "editable": true
   },
   "outputs": [
    {
     "name": "stdout",
     "output_type": "stream",
     "text": [
      "Tests Passed\n"
     ]
    }
   ],
   "source": [
    "def encoding_layer(rnn_inputs, rnn_size, num_layers, keep_prob):\n",
    "    \"\"\"\n",
    "    Create encoding layer\n",
    "    :param rnn_inputs: Inputs for the RNN\n",
    "    :param rnn_size: RNN Size\n",
    "    :param num_layers: Number of layers\n",
    "    :param keep_prob: Dropout keep probability\n",
    "    :return: RNN state\n",
    "    \"\"\"\n",
    "    # TODO: Implement Function\n",
    "    \n",
    "    lstm = tf.contrib.rnn.BasicLSTMCell(rnn_size, state_is_tuple=True)\n",
    "    drop = tf.contrib.rnn.DropoutWrapper(lstm, output_keep_prob=keep_prob)\n",
    "    cell = tf.contrib.rnn.MultiRNNCell([drop] * num_layers, state_is_tuple=True)\n",
    "    #set initial state manually \n",
    "    #initial_state = cell.zero_state(rnn_inputs.shape[0], dtype=tf.float32)\n",
    "    #outputs, state = tf.nn.dynamic_rnn(cell, rnn_inputs, initial_state=initial_state)\n",
    "    outputs, state = tf.nn.dynamic_rnn(cell, rnn_inputs, dtype=tf.float32)\n",
    "    return state\n",
    "\n",
    "\n",
    "\"\"\"\n",
    "DON'T MODIFY ANYTHING IN THIS CELL THAT IS BELOW THIS LINE\n",
    "\"\"\"\n",
    "tests.test_encoding_layer(encoding_layer)"
   ]
  },
  {
   "cell_type": "markdown",
   "metadata": {
    "deletable": true,
    "editable": true
   },
   "source": [
    "### Decoding - Training\n",
    "Create training logits using [`tf.contrib.seq2seq.simple_decoder_fn_train()`](https://www.tensorflow.org/api_docs/python/tf/contrib/seq2seq/simple_decoder_fn_train) and [`tf.contrib.seq2seq.dynamic_rnn_decoder()`](https://www.tensorflow.org/api_docs/python/tf/contrib/seq2seq/dynamic_rnn_decoder).  Apply the `output_fn` to the [`tf.contrib.seq2seq.dynamic_rnn_decoder()`](https://www.tensorflow.org/api_docs/python/tf/contrib/seq2seq/dynamic_rnn_decoder) outputs."
   ]
  },
  {
   "cell_type": "code",
   "execution_count": 10,
   "metadata": {
    "collapsed": false,
    "deletable": true,
    "editable": true
   },
   "outputs": [
    {
     "name": "stdout",
     "output_type": "stream",
     "text": [
      "Tests Passed\n"
     ]
    }
   ],
   "source": [
    "def decoding_layer_train(encoder_state, dec_cell, dec_embed_input, sequence_length, decoding_scope,\n",
    "                         output_fn, keep_prob):\n",
    "    \"\"\"\n",
    "    Create a decoding layer for training\n",
    "    :param encoder_state: Encoder State\n",
    "    :param dec_cell: Decoder RNN Cell\n",
    "    :param dec_embed_input: Decoder embedded input\n",
    "    :param sequence_length: Sequence Length\n",
    "    :param decoding_scope: TenorFlow Variable Scope for decoding\n",
    "    :param output_fn: Function to apply the output layer\n",
    "    :param keep_prob: Dropout keep probability\n",
    "    :return: Train Logits\n",
    "    \"\"\"\n",
    "    # TODO: Implement Function\n",
    "    train_decoder_fn = tf.contrib.seq2seq.simple_decoder_fn_train(encoder_state)\n",
    "    train_pred, _, _ = tf.contrib.seq2seq.dynamic_rnn_decoder(\n",
    "        dec_cell, train_decoder_fn, dec_embed_input, sequence_length, scope=decoding_scope)\n",
    "    \n",
    "    train_logits =  output_fn(train_pred)\n",
    "    \n",
    "    return train_logits\n",
    "\n",
    "\"\"\"\n",
    "DON'T MODIFY ANYTHING IN THIS CELL THAT IS BELOW THIS LINE\n",
    "\"\"\"\n",
    "tests.test_decoding_layer_train(decoding_layer_train)"
   ]
  },
  {
   "cell_type": "markdown",
   "metadata": {
    "deletable": true,
    "editable": true
   },
   "source": [
    "### Decoding - Inference\n",
    "Create inference logits using [`tf.contrib.seq2seq.simple_decoder_fn_inference()`](https://www.tensorflow.org/api_docs/python/tf/contrib/seq2seq/simple_decoder_fn_inference) and [`tf.contrib.seq2seq.dynamic_rnn_decoder()`](https://www.tensorflow.org/api_docs/python/tf/contrib/seq2seq/dynamic_rnn_decoder). "
   ]
  },
  {
   "cell_type": "code",
   "execution_count": 11,
   "metadata": {
    "collapsed": false,
    "deletable": true,
    "editable": true
   },
   "outputs": [
    {
     "name": "stdout",
     "output_type": "stream",
     "text": [
      "Tests Passed\n"
     ]
    }
   ],
   "source": [
    "def decoding_layer_infer(encoder_state, dec_cell, dec_embeddings, start_of_sequence_id, end_of_sequence_id,\n",
    "                         maximum_length, vocab_size, decoding_scope, output_fn, keep_prob):\n",
    "    \"\"\"\n",
    "    Create a decoding layer for inference\n",
    "    :param encoder_state: Encoder state\n",
    "    :param dec_cell: Decoder RNN Cell\n",
    "    :param dec_embeddings: Decoder embeddings\n",
    "    :param start_of_sequence_id: GO ID\n",
    "    :param end_of_sequence_id: EOS Id\n",
    "    :param maximum_length: Maximum length of \n",
    "    :param vocab_size: Size of vocabulary\n",
    "    :param decoding_scope: TensorFlow Variable Scope for decoding\n",
    "    :param output_fn: Function to apply the output layer\n",
    "    :param keep_prob: Dropout keep probability\n",
    "    :return: Inference Logits\n",
    "    \"\"\"\n",
    "    infer_decoder_fn = tf.contrib.seq2seq.simple_decoder_fn_inference(\n",
    "    output_fn, encoder_state, dec_embeddings, start_of_sequence_id, end_of_sequence_id, \n",
    "    maximum_length - 1, vocab_size)\n",
    "    inference_logits, _, _ = tf.contrib.seq2seq.dynamic_rnn_decoder(dec_cell, infer_decoder_fn, scope=decoding_scope)\n",
    "    return inference_logits\n",
    "\n",
    "\n",
    "\"\"\"\n",
    "DON'T MODIFY ANYTHING IN THIS CELL THAT IS BELOW THIS LINE\n",
    "\"\"\"\n",
    "tests.test_decoding_layer_infer(decoding_layer_infer)"
   ]
  },
  {
   "cell_type": "markdown",
   "metadata": {
    "deletable": true,
    "editable": true
   },
   "source": [
    "### Build the Decoding Layer\n",
    "Implement `decoding_layer()` to create a Decoder RNN layer.\n",
    "\n",
    "- Create RNN cell for decoding using `rnn_size` and `num_layers`.\n",
    "- Create the output fuction using [`lambda`](https://docs.python.org/3/tutorial/controlflow.html#lambda-expressions) to transform it's input, logits, to class logits.\n",
    "- Use the your `decoding_layer_train(encoder_state, dec_cell, dec_embed_input, sequence_length, decoding_scope, output_fn, keep_prob)` function to get the training logits.\n",
    "- Use your `decoding_layer_infer(encoder_state, dec_cell, dec_embeddings, start_of_sequence_id, end_of_sequence_id, maximum_length, vocab_size, decoding_scope, output_fn, keep_prob)` function to get the inference logits.\n",
    "\n",
    "Note: You'll need to use [tf.variable_scope](https://www.tensorflow.org/api_docs/python/tf/variable_scope) to share variables between training and inference."
   ]
  },
  {
   "cell_type": "code",
   "execution_count": 40,
   "metadata": {
    "collapsed": false,
    "deletable": true,
    "editable": true
   },
   "outputs": [
    {
     "name": "stdout",
     "output_type": "stream",
     "text": [
      "Tests Passed\n"
     ]
    }
   ],
   "source": [
    "def decoding_layer(dec_embed_input, dec_embeddings, encoder_state, vocab_size, sequence_length, rnn_size,\n",
    "                   num_layers, target_vocab_to_int, keep_prob):\n",
    "    \"\"\"\n",
    "    Create decoding layer\n",
    "    :param dec_embed_input: Decoder embedded input\n",
    "    :param dec_embeddings: Decoder embeddings\n",
    "    :param encoder_state: The encoded state\n",
    "    :param vocab_size: Size of vocabulary\n",
    "    :param sequence_length: Sequence Length\n",
    "    :param rnn_size: RNN Size\n",
    "    :param num_layers: Number of layers\n",
    "    :param target_vocab_to_int: Dictionary to go from the target words to an id\n",
    "    :param keep_prob: Dropout keep probability\n",
    "    :return: Tuple of (Training Logits, Inference Logits)\n",
    "    \"\"\"\n",
    "    # TODO: Implement Function\n",
    "    dec_cell = tf.contrib.rnn.MultiRNNCell([tf.contrib.rnn.BasicLSTMCell(rnn_size)] * num_layers)\n",
    "    with tf.variable_scope(\"decoding\") as decoding_scope:\n",
    "        output_fn = lambda x: tf.contrib.layers.fully_connected(x, vocab_size, None, scope=decoding_scope)\n",
    "        \n",
    "        start_of_sequence_id = target_vocab_to_int['<GO>']\n",
    "        end_of_sequence_id = target_vocab_to_int['<EOS>']\n",
    "        dec_training_logits = decoding_layer_train(encoder_state, \n",
    "                                                   dec_cell, \n",
    "                                                   dec_embed_input, \n",
    "                                                   sequence_length, \n",
    "                                                   decoding_scope, \n",
    "                                                   output_fn, \n",
    "                                                   keep_prob)\n",
    "        \n",
    "        decoding_scope.reuse_variables()\n",
    "    #with tf.variable_scope(\"decoding\", reuse=True) as decoding_scope:\n",
    "        dec_inference_logits = decoding_layer_infer(encoder_state, \n",
    "                                                    dec_cell, \n",
    "                                                    dec_embeddings, \n",
    "                                                    start_of_sequence_id, \n",
    "                                                    end_of_sequence_id, \n",
    "                                                    sequence_length, \n",
    "                                                    vocab_size, \n",
    "                                                    decoding_scope, \n",
    "                                                    output_fn, \n",
    "                                                    keep_prob) \n",
    "    return dec_training_logits, dec_inference_logits\n",
    "\n",
    "\n",
    "\"\"\"\n",
    "DON'T MODIFY ANYTHING IN THIS CELL THAT IS BELOW THIS LINE\n",
    "\"\"\"\n",
    "tests.test_decoding_layer(decoding_layer)"
   ]
  },
  {
   "cell_type": "markdown",
   "metadata": {
    "deletable": true,
    "editable": true
   },
   "source": [
    "### Build the Neural Network\n",
    "Apply the functions you implemented above to:\n",
    "\n",
    "- Apply embedding to the input data for the encoder.\n",
    "- Encode the input using your `encoding_layer(rnn_inputs, rnn_size, num_layers, keep_prob)`.\n",
    "- Process target data using your `process_decoding_input(target_data, target_vocab_to_int, batch_size)` function.\n",
    "- Apply embedding to the target data for the decoder.\n",
    "- Decode the encoded input using your `decoding_layer(dec_embed_input, dec_embeddings, encoder_state, vocab_size, sequence_length, rnn_size, num_layers, target_vocab_to_int, keep_prob)`."
   ]
  },
  {
   "cell_type": "code",
   "execution_count": 41,
   "metadata": {
    "collapsed": false,
    "deletable": true,
    "editable": true
   },
   "outputs": [
    {
     "name": "stdout",
     "output_type": "stream",
     "text": [
      "Tests Passed\n"
     ]
    }
   ],
   "source": [
    "def seq2seq_model(input_data, target_data, keep_prob, batch_size, sequence_length, source_vocab_size, target_vocab_size,\n",
    "                  enc_embedding_size, dec_embedding_size, rnn_size, num_layers, target_vocab_to_int):\n",
    "    \"\"\"\n",
    "    Build the Sequence-to-Sequence part of the neural network\n",
    "    :param input_data: Input placeholder\n",
    "    :param target_data: Target placeholder\n",
    "    :param keep_prob: Dropout keep probability placeholder\n",
    "    :param batch_size: Batch Size\n",
    "    :param sequence_length: Sequence Length\n",
    "    :param source_vocab_size: Source vocabulary size\n",
    "    :param target_vocab_size: Target vocabulary size\n",
    "    :param enc_embedding_size: Decoder embedding size\n",
    "    :param dec_embedding_size: Encoder embedding size\n",
    "    :param rnn_size: RNN Size\n",
    "    :param num_layers: Number of layers\n",
    "    :param target_vocab_to_int: Dictionary to go from the target words to an id\n",
    "    :return: Tuple of (Training Logits, Inference Logits)\n",
    "    \"\"\"\n",
    "    enc_embed_input = tf.contrib.layers.embed_sequence(input_data, source_vocab_size, enc_embedding_size)\n",
    "    encoder_state = encoding_layer(enc_embed_input, rnn_size, num_layers, keep_prob)\n",
    "    \n",
    "    dec_input = process_decoding_input(target_data, target_vocab_to_int, batch_size)\n",
    "    #dec_embed_input = tf.contrib.layers.embed_sequence(dec_input, target_vocab_to_int, dec_embedding_size)\n",
    "    dec_embeddings = tf.Variable(tf.random_uniform([target_vocab_size, dec_embedding_size]))\n",
    "    dec_embed_input = tf.nn.embedding_lookup(dec_embeddings, dec_input)\n",
    "    \n",
    "    dec_training_logits, dec_inference_logits = decoding_layer(dec_embed_input, \n",
    "                                                               dec_embeddings, \n",
    "                                                               encoder_state, \n",
    "                                                               target_vocab_size, \n",
    "                                                               sequence_length, \n",
    "                                                               rnn_size, \n",
    "                                                               num_layers, \n",
    "                                                               target_vocab_to_int, \n",
    "                                                               keep_prob)\n",
    "    \n",
    "    # TODO: Implement Function\n",
    "    return dec_training_logits, dec_inference_logits\n",
    "\n",
    "\n",
    "\"\"\"\n",
    "DON'T MODIFY ANYTHING IN THIS CELL THAT IS BELOW THIS LINE\n",
    "\"\"\"\n",
    "tests.test_seq2seq_model(seq2seq_model)"
   ]
  },
  {
   "cell_type": "markdown",
   "metadata": {
    "deletable": true,
    "editable": true
   },
   "source": [
    "## Neural Network Training\n",
    "### Hyperparameters\n",
    "Tune the following parameters:\n",
    "\n",
    "- Set `epochs` to the number of epochs.\n",
    "- Set `batch_size` to the batch size.\n",
    "- Set `rnn_size` to the size of the RNNs.\n",
    "- Set `num_layers` to the number of layers.\n",
    "- Set `encoding_embedding_size` to the size of the embedding for the encoder.\n",
    "- Set `decoding_embedding_size` to the size of the embedding for the decoder.\n",
    "- Set `learning_rate` to the learning rate.\n",
    "- Set `keep_probability` to the Dropout keep probability"
   ]
  },
  {
   "cell_type": "code",
   "execution_count": 42,
   "metadata": {
    "collapsed": false
   },
   "outputs": [
    {
     "name": "stdout",
     "output_type": "stream",
     "text": [
      "lenth of target text: 15.2266123124\n"
     ]
    }
   ],
   "source": [
    "print (\"lenth of target text:\", np.mean([len(s) for s in target_int_text]))"
   ]
  },
  {
   "cell_type": "code",
   "execution_count": 43,
   "metadata": {
    "collapsed": false,
    "deletable": true,
    "editable": true
   },
   "outputs": [
    {
     "name": "stdout",
     "output_type": "stream",
     "text": [
      "source vocab size: 231\n",
      "target vocab size: 358\n",
      "lenth of source text: 137861\n",
      "lenth of target text: 137861\n",
      "average sentence length of source: 13.2252776347\n",
      "average sentence length of target: 15.2266123124\n"
     ]
    }
   ],
   "source": [
    "#Get a sense of the dataset basic stats:\n",
    "print (\"source vocab size:\", len(source_vocab_to_int))\n",
    "print (\"target vocab size:\", len(target_vocab_to_int))\n",
    "print (\"lenth of source text:\", len(source_int_text))\n",
    "print (\"lenth of target text:\", len(target_int_text))\n",
    "print (\"average sentence length of source:\", np.mean([len(s) for s in source_int_text]))\n",
    "print (\"average sentence length of target:\", np.mean([len(s) for s in target_int_text]))\n",
    "# Number of Epochs\n",
    "epochs = 1\n",
    "# Batch Size\n",
    "batch_size = 32\n",
    "# RNN Size\n",
    "rnn_size = 32\n",
    "# Number of Layers\n",
    "num_layers = 2\n",
    "# Embedding Size\n",
    "encoding_embedding_size = 32\n",
    "decoding_embedding_size = 32 \n",
    "# Learning Rate\n",
    "learning_rate = 0.01\n",
    "# Dropout Keep Probability\n",
    "keep_probability = 0.8"
   ]
  },
  {
   "cell_type": "markdown",
   "metadata": {
    "deletable": true,
    "editable": true
   },
   "source": [
    "### Build the Graph\n",
    "Build the graph using the neural network you implemented."
   ]
  },
  {
   "cell_type": "code",
   "execution_count": 44,
   "metadata": {
    "collapsed": false,
    "deletable": true,
    "editable": true
   },
   "outputs": [],
   "source": [
    "\"\"\"\n",
    "DON'T MODIFY ANYTHING IN THIS CELL\n",
    "\"\"\"\n",
    "save_path = 'checkpoints/dev'\n",
    "(source_int_text, target_int_text), (source_vocab_to_int, target_vocab_to_int), _ = helper.load_preprocess()\n",
    "max_target_sentence_length = max([len(sentence) for sentence in source_int_text])\n",
    "\n",
    "train_graph = tf.Graph()\n",
    "with train_graph.as_default():\n",
    "    input_data, targets, lr, keep_prob = model_inputs()\n",
    "    sequence_length = tf.placeholder_with_default(max_target_sentence_length, None, name='sequence_length')\n",
    "    input_shape = tf.shape(input_data)\n",
    "    \n",
    "    train_logits, inference_logits = seq2seq_model(\n",
    "        tf.reverse(input_data, [-1]), targets, keep_prob, batch_size, sequence_length, len(source_vocab_to_int), len(target_vocab_to_int),\n",
    "        encoding_embedding_size, decoding_embedding_size, rnn_size, num_layers, target_vocab_to_int)\n",
    "\n",
    "    tf.identity(inference_logits, 'logits')\n",
    "    with tf.name_scope(\"optimization\"):\n",
    "        # Loss function\n",
    "        cost = tf.contrib.seq2seq.sequence_loss(\n",
    "            train_logits,\n",
    "            targets,\n",
    "            tf.ones([input_shape[0], sequence_length]))\n",
    "\n",
    "        # Optimizer\n",
    "        optimizer = tf.train.AdamOptimizer(lr)\n",
    "\n",
    "        # Gradient Clipping\n",
    "        gradients = optimizer.compute_gradients(cost)\n",
    "        capped_gradients = [(tf.clip_by_value(grad, -1., 1.), var) for grad, var in gradients if grad is not None]\n",
    "        train_op = optimizer.apply_gradients(capped_gradients)"
   ]
  },
  {
   "cell_type": "markdown",
   "metadata": {
    "deletable": true,
    "editable": true
   },
   "source": [
    "### Train\n",
    "Train the neural network on the preprocessed data. If you have a hard time getting a good loss, check the forms to see if anyone is having the same problem."
   ]
  },
  {
   "cell_type": "code",
   "execution_count": 45,
   "metadata": {
    "collapsed": false,
    "deletable": true,
    "editable": true,
    "scrolled": false
   },
   "outputs": [
    {
     "name": "stdout",
     "output_type": "stream",
     "text": [
      "Epoch   0 Batch    0/4308 - Train Accuracy:  0.276, Validation Accuracy:  0.181, Loss:  5.883\n",
      "Epoch   0 Batch    1/4308 - Train Accuracy:  0.252, Validation Accuracy:  0.181, Loss:  5.783\n",
      "Epoch   0 Batch    2/4308 - Train Accuracy:  0.228, Validation Accuracy:  0.181, Loss:  5.615\n",
      "Epoch   0 Batch    3/4308 - Train Accuracy:  0.283, Validation Accuracy:  0.181, Loss:  5.356\n",
      "Epoch   0 Batch    4/4308 - Train Accuracy:  0.258, Validation Accuracy:  0.181, Loss:  5.109\n",
      "Epoch   0 Batch    5/4308 - Train Accuracy:  0.261, Validation Accuracy:  0.181, Loss:  4.800\n",
      "Epoch   0 Batch    6/4308 - Train Accuracy:  0.232, Validation Accuracy:  0.181, Loss:  4.561\n",
      "Epoch   0 Batch    7/4308 - Train Accuracy:  0.186, Validation Accuracy:  0.186, Loss:  4.302\n",
      "Epoch   0 Batch    8/4308 - Train Accuracy:  0.196, Validation Accuracy:  0.186, Loss:  4.161\n",
      "Epoch   0 Batch    9/4308 - Train Accuracy:  0.169, Validation Accuracy:  0.186, Loss:  4.064\n",
      "Epoch   0 Batch   10/4308 - Train Accuracy:  0.263, Validation Accuracy:  0.207, Loss:  3.825\n",
      "Epoch   0 Batch   11/4308 - Train Accuracy:  0.250, Validation Accuracy:  0.225, Loss:  3.760\n",
      "Epoch   0 Batch   12/4308 - Train Accuracy:  0.258, Validation Accuracy:  0.220, Loss:  3.692\n",
      "Epoch   0 Batch   13/4308 - Train Accuracy:  0.243, Validation Accuracy:  0.220, Loss:  3.682\n",
      "Epoch   0 Batch   14/4308 - Train Accuracy:  0.198, Validation Accuracy:  0.220, Loss:  3.747\n",
      "Epoch   0 Batch   15/4308 - Train Accuracy:  0.219, Validation Accuracy:  0.220, Loss:  3.808\n",
      "Epoch   0 Batch   16/4308 - Train Accuracy:  0.270, Validation Accuracy:  0.220, Loss:  3.495\n",
      "Epoch   0 Batch   17/4308 - Train Accuracy:  0.177, Validation Accuracy:  0.220, Loss:  3.747\n",
      "Epoch   0 Batch   18/4308 - Train Accuracy:  0.235, Validation Accuracy:  0.220, Loss:  3.618\n",
      "Epoch   0 Batch   19/4308 - Train Accuracy:  0.234, Validation Accuracy:  0.220, Loss:  3.545\n",
      "Epoch   0 Batch   20/4308 - Train Accuracy:  0.278, Validation Accuracy:  0.220, Loss:  3.413\n",
      "Epoch   0 Batch   21/4308 - Train Accuracy:  0.206, Validation Accuracy:  0.220, Loss:  3.542\n",
      "Epoch   0 Batch   22/4308 - Train Accuracy:  0.256, Validation Accuracy:  0.220, Loss:  3.413\n",
      "Epoch   0 Batch   23/4308 - Train Accuracy:  0.214, Validation Accuracy:  0.220, Loss:  3.502\n",
      "Epoch   0 Batch   24/4308 - Train Accuracy:  0.255, Validation Accuracy:  0.220, Loss:  3.566\n",
      "Epoch   0 Batch   25/4308 - Train Accuracy:  0.248, Validation Accuracy:  0.220, Loss:  3.417\n",
      "Epoch   0 Batch   26/4308 - Train Accuracy:  0.278, Validation Accuracy:  0.220, Loss:  3.463\n",
      "Epoch   0 Batch   27/4308 - Train Accuracy:  0.240, Validation Accuracy:  0.220, Loss:  3.344\n",
      "Epoch   0 Batch   28/4308 - Train Accuracy:  0.262, Validation Accuracy:  0.220, Loss:  3.476\n",
      "Epoch   0 Batch   29/4308 - Train Accuracy:  0.284, Validation Accuracy:  0.220, Loss:  3.301\n",
      "Epoch   0 Batch   30/4308 - Train Accuracy:  0.217, Validation Accuracy:  0.220, Loss:  3.384\n",
      "Epoch   0 Batch   31/4308 - Train Accuracy:  0.237, Validation Accuracy:  0.224, Loss:  3.377\n",
      "Epoch   0 Batch   32/4308 - Train Accuracy:  0.303, Validation Accuracy:  0.234, Loss:  3.166\n",
      "Epoch   0 Batch   33/4308 - Train Accuracy:  0.306, Validation Accuracy:  0.260, Loss:  3.215\n",
      "Epoch   0 Batch   34/4308 - Train Accuracy:  0.291, Validation Accuracy:  0.260, Loss:  3.162\n",
      "Epoch   0 Batch   35/4308 - Train Accuracy:  0.273, Validation Accuracy:  0.248, Loss:  3.234\n",
      "Epoch   0 Batch   36/4308 - Train Accuracy:  0.226, Validation Accuracy:  0.258, Loss:  3.363\n",
      "Epoch   0 Batch   37/4308 - Train Accuracy:  0.289, Validation Accuracy:  0.260, Loss:  3.221\n",
      "Epoch   0 Batch   38/4308 - Train Accuracy:  0.296, Validation Accuracy:  0.260, Loss:  3.151\n",
      "Epoch   0 Batch   39/4308 - Train Accuracy:  0.297, Validation Accuracy:  0.260, Loss:  3.188\n",
      "Epoch   0 Batch   40/4308 - Train Accuracy:  0.238, Validation Accuracy:  0.260, Loss:  3.349\n",
      "Epoch   0 Batch   41/4308 - Train Accuracy:  0.285, Validation Accuracy:  0.253, Loss:  3.103\n",
      "Epoch   0 Batch   42/4308 - Train Accuracy:  0.297, Validation Accuracy:  0.248, Loss:  3.042\n",
      "Epoch   0 Batch   43/4308 - Train Accuracy:  0.275, Validation Accuracy:  0.250, Loss:  3.141\n",
      "Epoch   0 Batch   44/4308 - Train Accuracy:  0.266, Validation Accuracy:  0.240, Loss:  3.234\n",
      "Epoch   0 Batch   45/4308 - Train Accuracy:  0.257, Validation Accuracy:  0.234, Loss:  3.120\n",
      "Epoch   0 Batch   46/4308 - Train Accuracy:  0.232, Validation Accuracy:  0.234, Loss:  3.316\n",
      "Epoch   0 Batch   47/4308 - Train Accuracy:  0.252, Validation Accuracy:  0.230, Loss:  3.357\n",
      "Epoch   0 Batch   48/4308 - Train Accuracy:  0.298, Validation Accuracy:  0.235, Loss:  2.967\n",
      "Epoch   0 Batch   49/4308 - Train Accuracy:  0.248, Validation Accuracy:  0.248, Loss:  3.215\n",
      "Epoch   0 Batch   50/4308 - Train Accuracy:  0.311, Validation Accuracy:  0.260, Loss:  2.956\n",
      "Epoch   0 Batch   51/4308 - Train Accuracy:  0.302, Validation Accuracy:  0.260, Loss:  3.090\n",
      "Epoch   0 Batch   52/4308 - Train Accuracy:  0.322, Validation Accuracy:  0.260, Loss:  2.984\n",
      "Epoch   0 Batch   53/4308 - Train Accuracy:  0.240, Validation Accuracy:  0.260, Loss:  3.185\n",
      "Epoch   0 Batch   54/4308 - Train Accuracy:  0.289, Validation Accuracy:  0.265, Loss:  3.084\n",
      "Epoch   0 Batch   55/4308 - Train Accuracy:  0.319, Validation Accuracy:  0.266, Loss:  2.946\n",
      "Epoch   0 Batch   56/4308 - Train Accuracy:  0.275, Validation Accuracy:  0.263, Loss:  3.102\n",
      "Epoch   0 Batch   57/4308 - Train Accuracy:  0.341, Validation Accuracy:  0.260, Loss:  3.072\n",
      "Epoch   0 Batch   58/4308 - Train Accuracy:  0.265, Validation Accuracy:  0.257, Loss:  3.081\n",
      "Epoch   0 Batch   59/4308 - Train Accuracy:  0.255, Validation Accuracy:  0.260, Loss:  3.227\n",
      "Epoch   0 Batch   60/4308 - Train Accuracy:  0.318, Validation Accuracy:  0.257, Loss:  2.860\n",
      "Epoch   0 Batch   61/4308 - Train Accuracy:  0.250, Validation Accuracy:  0.266, Loss:  3.095\n",
      "Epoch   0 Batch   62/4308 - Train Accuracy:  0.300, Validation Accuracy:  0.281, Loss:  2.920\n",
      "Epoch   0 Batch   63/4308 - Train Accuracy:  0.328, Validation Accuracy:  0.291, Loss:  2.970\n",
      "Epoch   0 Batch   64/4308 - Train Accuracy:  0.323, Validation Accuracy:  0.299, Loss:  2.956\n",
      "Epoch   0 Batch   65/4308 - Train Accuracy:  0.280, Validation Accuracy:  0.286, Loss:  3.082\n",
      "Epoch   0 Batch   66/4308 - Train Accuracy:  0.281, Validation Accuracy:  0.291, Loss:  3.133\n",
      "Epoch   0 Batch   67/4308 - Train Accuracy:  0.316, Validation Accuracy:  0.291, Loss:  3.029\n",
      "Epoch   0 Batch   68/4308 - Train Accuracy:  0.394, Validation Accuracy:  0.294, Loss:  2.765\n",
      "Epoch   0 Batch   69/4308 - Train Accuracy:  0.303, Validation Accuracy:  0.293, Loss:  3.008\n",
      "Epoch   0 Batch   70/4308 - Train Accuracy:  0.291, Validation Accuracy:  0.286, Loss:  3.090\n",
      "Epoch   0 Batch   71/4308 - Train Accuracy:  0.316, Validation Accuracy:  0.314, Loss:  3.136\n",
      "Epoch   0 Batch   72/4308 - Train Accuracy:  0.344, Validation Accuracy:  0.281, Loss:  2.812\n",
      "Epoch   0 Batch   73/4308 - Train Accuracy:  0.345, Validation Accuracy:  0.296, Loss:  2.759\n",
      "Epoch   0 Batch   74/4308 - Train Accuracy:  0.350, Validation Accuracy:  0.317, Loss:  2.877\n",
      "Epoch   0 Batch   75/4308 - Train Accuracy:  0.340, Validation Accuracy:  0.322, Loss:  2.904\n",
      "Epoch   0 Batch   76/4308 - Train Accuracy:  0.352, Validation Accuracy:  0.334, Loss:  2.930\n",
      "Epoch   0 Batch   77/4308 - Train Accuracy:  0.358, Validation Accuracy:  0.319, Loss:  2.863\n",
      "Epoch   0 Batch   78/4308 - Train Accuracy:  0.348, Validation Accuracy:  0.309, Loss:  2.891\n",
      "Epoch   0 Batch   79/4308 - Train Accuracy:  0.372, Validation Accuracy:  0.326, Loss:  2.790\n",
      "Epoch   0 Batch   80/4308 - Train Accuracy:  0.427, Validation Accuracy:  0.350, Loss:  2.709\n",
      "Epoch   0 Batch   81/4308 - Train Accuracy:  0.347, Validation Accuracy:  0.332, Loss:  2.859\n",
      "Epoch   0 Batch   82/4308 - Train Accuracy:  0.349, Validation Accuracy:  0.350, Loss:  2.819\n",
      "Epoch   0 Batch   83/4308 - Train Accuracy:  0.370, Validation Accuracy:  0.365, Loss:  2.868\n",
      "Epoch   0 Batch   84/4308 - Train Accuracy:  0.390, Validation Accuracy:  0.357, Loss:  2.736\n",
      "Epoch   0 Batch   85/4308 - Train Accuracy:  0.391, Validation Accuracy:  0.347, Loss:  2.774\n",
      "Epoch   0 Batch   86/4308 - Train Accuracy:  0.373, Validation Accuracy:  0.365, Loss:  2.743\n",
      "Epoch   0 Batch   87/4308 - Train Accuracy:  0.385, Validation Accuracy:  0.360, Loss:  2.694\n",
      "Epoch   0 Batch   88/4308 - Train Accuracy:  0.314, Validation Accuracy:  0.354, Loss:  3.074\n",
      "Epoch   0 Batch   89/4308 - Train Accuracy:  0.347, Validation Accuracy:  0.363, Loss:  2.851\n",
      "Epoch   0 Batch   90/4308 - Train Accuracy:  0.382, Validation Accuracy:  0.362, Loss:  2.767\n",
      "Epoch   0 Batch   91/4308 - Train Accuracy:  0.368, Validation Accuracy:  0.345, Loss:  2.911\n",
      "Epoch   0 Batch   92/4308 - Train Accuracy:  0.351, Validation Accuracy:  0.365, Loss:  2.918\n",
      "Epoch   0 Batch   93/4308 - Train Accuracy:  0.395, Validation Accuracy:  0.370, Loss:  2.659\n",
      "Epoch   0 Batch   94/4308 - Train Accuracy:  0.372, Validation Accuracy:  0.370, Loss:  2.817\n",
      "Epoch   0 Batch   95/4308 - Train Accuracy:  0.430, Validation Accuracy:  0.363, Loss:  2.593\n",
      "Epoch   0 Batch   96/4308 - Train Accuracy:  0.420, Validation Accuracy:  0.362, Loss:  2.578\n",
      "Epoch   0 Batch   97/4308 - Train Accuracy:  0.350, Validation Accuracy:  0.365, Loss:  2.884\n",
      "Epoch   0 Batch   98/4308 - Train Accuracy:  0.372, Validation Accuracy:  0.342, Loss:  2.790\n",
      "Epoch   0 Batch   99/4308 - Train Accuracy:  0.389, Validation Accuracy:  0.359, Loss:  2.592\n",
      "Epoch   0 Batch  100/4308 - Train Accuracy:  0.434, Validation Accuracy:  0.377, Loss:  2.550\n",
      "Epoch   0 Batch  101/4308 - Train Accuracy:  0.393, Validation Accuracy:  0.363, Loss:  2.667\n",
      "Epoch   0 Batch  102/4308 - Train Accuracy:  0.398, Validation Accuracy:  0.347, Loss:  2.704\n",
      "Epoch   0 Batch  103/4308 - Train Accuracy:  0.370, Validation Accuracy:  0.319, Loss:  2.667\n",
      "Epoch   0 Batch  104/4308 - Train Accuracy:  0.372, Validation Accuracy:  0.299, Loss:  2.658\n",
      "Epoch   0 Batch  105/4308 - Train Accuracy:  0.384, Validation Accuracy:  0.312, Loss:  2.633\n",
      "Epoch   0 Batch  106/4308 - Train Accuracy:  0.406, Validation Accuracy:  0.337, Loss:  2.443\n",
      "Epoch   0 Batch  107/4308 - Train Accuracy:  0.360, Validation Accuracy:  0.339, Loss:  2.632\n",
      "Epoch   0 Batch  108/4308 - Train Accuracy:  0.388, Validation Accuracy:  0.345, Loss:  2.536\n",
      "Epoch   0 Batch  109/4308 - Train Accuracy:  0.317, Validation Accuracy:  0.345, Loss:  2.762\n",
      "Epoch   0 Batch  110/4308 - Train Accuracy:  0.378, Validation Accuracy:  0.332, Loss:  2.495\n",
      "Epoch   0 Batch  111/4308 - Train Accuracy:  0.395, Validation Accuracy:  0.319, Loss:  2.394\n",
      "Epoch   0 Batch  112/4308 - Train Accuracy:  0.355, Validation Accuracy:  0.303, Loss:  2.504\n",
      "Epoch   0 Batch  113/4308 - Train Accuracy:  0.426, Validation Accuracy:  0.312, Loss:  2.259\n",
      "Epoch   0 Batch  114/4308 - Train Accuracy:  0.393, Validation Accuracy:  0.311, Loss:  2.384\n",
      "Epoch   0 Batch  115/4308 - Train Accuracy:  0.377, Validation Accuracy:  0.317, Loss:  2.355\n",
      "Epoch   0 Batch  116/4308 - Train Accuracy:  0.409, Validation Accuracy:  0.312, Loss:  2.354\n",
      "Epoch   0 Batch  117/4308 - Train Accuracy:  0.332, Validation Accuracy:  0.342, Loss:  2.586\n",
      "Epoch   0 Batch  118/4308 - Train Accuracy:  0.377, Validation Accuracy:  0.317, Loss:  2.392\n",
      "Epoch   0 Batch  119/4308 - Train Accuracy:  0.385, Validation Accuracy:  0.350, Loss:  2.469\n",
      "Epoch   0 Batch  120/4308 - Train Accuracy:  0.392, Validation Accuracy:  0.362, Loss:  2.340\n",
      "Epoch   0 Batch  121/4308 - Train Accuracy:  0.408, Validation Accuracy:  0.367, Loss:  2.503\n",
      "Epoch   0 Batch  122/4308 - Train Accuracy:  0.378, Validation Accuracy:  0.368, Loss:  2.424\n",
      "Epoch   0 Batch  123/4308 - Train Accuracy:  0.388, Validation Accuracy:  0.340, Loss:  2.260\n",
      "Epoch   0 Batch  124/4308 - Train Accuracy:  0.400, Validation Accuracy:  0.336, Loss:  2.163\n",
      "Epoch   0 Batch  125/4308 - Train Accuracy:  0.370, Validation Accuracy:  0.337, Loss:  2.467\n",
      "Epoch   0 Batch  126/4308 - Train Accuracy:  0.369, Validation Accuracy:  0.368, Loss:  2.314\n",
      "Epoch   0 Batch  127/4308 - Train Accuracy:  0.403, Validation Accuracy:  0.362, Loss:  2.426\n",
      "Epoch   0 Batch  128/4308 - Train Accuracy:  0.373, Validation Accuracy:  0.359, Loss:  2.366\n",
      "Epoch   0 Batch  129/4308 - Train Accuracy:  0.405, Validation Accuracy:  0.373, Loss:  2.330\n",
      "Epoch   0 Batch  130/4308 - Train Accuracy:  0.383, Validation Accuracy:  0.352, Loss:  2.241\n",
      "Epoch   0 Batch  131/4308 - Train Accuracy:  0.370, Validation Accuracy:  0.336, Loss:  2.282\n",
      "Epoch   0 Batch  132/4308 - Train Accuracy:  0.427, Validation Accuracy:  0.336, Loss:  2.100\n",
      "Epoch   0 Batch  133/4308 - Train Accuracy:  0.427, Validation Accuracy:  0.340, Loss:  2.096\n",
      "Epoch   0 Batch  134/4308 - Train Accuracy:  0.463, Validation Accuracy:  0.357, Loss:  1.995\n",
      "Epoch   0 Batch  135/4308 - Train Accuracy:  0.370, Validation Accuracy:  0.349, Loss:  2.229\n",
      "Epoch   0 Batch  136/4308 - Train Accuracy:  0.372, Validation Accuracy:  0.349, Loss:  2.155\n",
      "Epoch   0 Batch  137/4308 - Train Accuracy:  0.367, Validation Accuracy:  0.289, Loss:  2.188\n",
      "Epoch   0 Batch  138/4308 - Train Accuracy:  0.458, Validation Accuracy:  0.293, Loss:  1.977\n",
      "Epoch   0 Batch  139/4308 - Train Accuracy:  0.352, Validation Accuracy:  0.322, Loss:  2.248\n",
      "Epoch   0 Batch  140/4308 - Train Accuracy:  0.383, Validation Accuracy:  0.362, Loss:  2.066\n",
      "Epoch   0 Batch  141/4308 - Train Accuracy:  0.362, Validation Accuracy:  0.352, Loss:  2.172\n",
      "Epoch   0 Batch  142/4308 - Train Accuracy:  0.370, Validation Accuracy:  0.352, Loss:  2.216\n",
      "Epoch   0 Batch  143/4308 - Train Accuracy:  0.380, Validation Accuracy:  0.349, Loss:  2.221\n",
      "Epoch   0 Batch  144/4308 - Train Accuracy:  0.395, Validation Accuracy:  0.327, Loss:  2.209\n",
      "Epoch   0 Batch  145/4308 - Train Accuracy:  0.316, Validation Accuracy:  0.304, Loss:  2.245\n",
      "Epoch   0 Batch  146/4308 - Train Accuracy:  0.385, Validation Accuracy:  0.327, Loss:  2.173\n",
      "Epoch   0 Batch  147/4308 - Train Accuracy:  0.400, Validation Accuracy:  0.349, Loss:  1.983\n",
      "Epoch   0 Batch  148/4308 - Train Accuracy:  0.417, Validation Accuracy:  0.372, Loss:  2.014\n",
      "Epoch   0 Batch  149/4308 - Train Accuracy:  0.375, Validation Accuracy:  0.362, Loss:  2.232\n",
      "Epoch   0 Batch  150/4308 - Train Accuracy:  0.453, Validation Accuracy:  0.360, Loss:  1.923\n",
      "Epoch   0 Batch  151/4308 - Train Accuracy:  0.385, Validation Accuracy:  0.360, Loss:  2.159\n",
      "Epoch   0 Batch  152/4308 - Train Accuracy:  0.352, Validation Accuracy:  0.344, Loss:  2.236\n",
      "Epoch   0 Batch  153/4308 - Train Accuracy:  0.405, Validation Accuracy:  0.347, Loss:  2.097\n",
      "Epoch   0 Batch  154/4308 - Train Accuracy:  0.414, Validation Accuracy:  0.372, Loss:  1.966\n",
      "Epoch   0 Batch  155/4308 - Train Accuracy:  0.378, Validation Accuracy:  0.383, Loss:  2.119\n",
      "Epoch   0 Batch  156/4308 - Train Accuracy:  0.385, Validation Accuracy:  0.377, Loss:  2.201\n",
      "Epoch   0 Batch  157/4308 - Train Accuracy:  0.323, Validation Accuracy:  0.352, Loss:  2.316\n",
      "Epoch   0 Batch  158/4308 - Train Accuracy:  0.380, Validation Accuracy:  0.349, Loss:  2.052\n",
      "Epoch   0 Batch  159/4308 - Train Accuracy:  0.352, Validation Accuracy:  0.347, Loss:  2.108\n",
      "Epoch   0 Batch  160/4308 - Train Accuracy:  0.411, Validation Accuracy:  0.355, Loss:  1.995\n",
      "Epoch   0 Batch  161/4308 - Train Accuracy:  0.354, Validation Accuracy:  0.359, Loss:  2.081\n",
      "Epoch   0 Batch  162/4308 - Train Accuracy:  0.367, Validation Accuracy:  0.362, Loss:  2.028\n",
      "Epoch   0 Batch  163/4308 - Train Accuracy:  0.370, Validation Accuracy:  0.362, Loss:  2.016\n",
      "Epoch   0 Batch  164/4308 - Train Accuracy:  0.377, Validation Accuracy:  0.344, Loss:  1.958\n",
      "Epoch   0 Batch  165/4308 - Train Accuracy:  0.329, Validation Accuracy:  0.340, Loss:  2.122\n",
      "Epoch   0 Batch  166/4308 - Train Accuracy:  0.414, Validation Accuracy:  0.345, Loss:  1.880\n",
      "Epoch   0 Batch  167/4308 - Train Accuracy:  0.324, Validation Accuracy:  0.367, Loss:  2.155\n",
      "Epoch   0 Batch  168/4308 - Train Accuracy:  0.375, Validation Accuracy:  0.367, Loss:  2.036\n",
      "Epoch   0 Batch  169/4308 - Train Accuracy:  0.423, Validation Accuracy:  0.373, Loss:  1.917\n",
      "Epoch   0 Batch  170/4308 - Train Accuracy:  0.445, Validation Accuracy:  0.362, Loss:  1.715\n",
      "Epoch   0 Batch  171/4308 - Train Accuracy:  0.439, Validation Accuracy:  0.352, Loss:  1.794\n",
      "Epoch   0 Batch  172/4308 - Train Accuracy:  0.377, Validation Accuracy:  0.355, Loss:  1.909\n",
      "Epoch   0 Batch  173/4308 - Train Accuracy:  0.373, Validation Accuracy:  0.367, Loss:  1.971\n",
      "Epoch   0 Batch  174/4308 - Train Accuracy:  0.344, Validation Accuracy:  0.372, Loss:  1.964\n",
      "Epoch   0 Batch  175/4308 - Train Accuracy:  0.370, Validation Accuracy:  0.370, Loss:  1.916\n",
      "Epoch   0 Batch  176/4308 - Train Accuracy:  0.372, Validation Accuracy:  0.355, Loss:  1.878\n",
      "Epoch   0 Batch  177/4308 - Train Accuracy:  0.378, Validation Accuracy:  0.339, Loss:  1.750\n",
      "Epoch   0 Batch  178/4308 - Train Accuracy:  0.324, Validation Accuracy:  0.329, Loss:  1.823\n",
      "Epoch   0 Batch  179/4308 - Train Accuracy:  0.334, Validation Accuracy:  0.334, Loss:  1.938\n",
      "Epoch   0 Batch  180/4308 - Train Accuracy:  0.368, Validation Accuracy:  0.362, Loss:  1.926\n",
      "Epoch   0 Batch  181/4308 - Train Accuracy:  0.347, Validation Accuracy:  0.373, Loss:  1.952\n",
      "Epoch   0 Batch  182/4308 - Train Accuracy:  0.340, Validation Accuracy:  0.349, Loss:  1.762\n",
      "Epoch   0 Batch  183/4308 - Train Accuracy:  0.366, Validation Accuracy:  0.360, Loss:  1.801\n",
      "Epoch   0 Batch  184/4308 - Train Accuracy:  0.345, Validation Accuracy:  0.357, Loss:  1.853\n",
      "Epoch   0 Batch  185/4308 - Train Accuracy:  0.344, Validation Accuracy:  0.332, Loss:  1.834\n",
      "Epoch   0 Batch  186/4308 - Train Accuracy:  0.391, Validation Accuracy:  0.319, Loss:  1.689\n",
      "Epoch   0 Batch  187/4308 - Train Accuracy:  0.377, Validation Accuracy:  0.344, Loss:  1.862\n",
      "Epoch   0 Batch  188/4308 - Train Accuracy:  0.358, Validation Accuracy:  0.354, Loss:  1.804\n",
      "Epoch   0 Batch  189/4308 - Train Accuracy:  0.382, Validation Accuracy:  0.340, Loss:  1.822\n",
      "Epoch   0 Batch  190/4308 - Train Accuracy:  0.367, Validation Accuracy:  0.365, Loss:  1.711\n",
      "Epoch   0 Batch  191/4308 - Train Accuracy:  0.411, Validation Accuracy:  0.362, Loss:  1.762\n",
      "Epoch   0 Batch  192/4308 - Train Accuracy:  0.330, Validation Accuracy:  0.360, Loss:  1.603\n",
      "Epoch   0 Batch  193/4308 - Train Accuracy:  0.375, Validation Accuracy:  0.370, Loss:  1.690\n",
      "Epoch   0 Batch  194/4308 - Train Accuracy:  0.319, Validation Accuracy:  0.360, Loss:  1.847\n",
      "Epoch   0 Batch  195/4308 - Train Accuracy:  0.390, Validation Accuracy:  0.365, Loss:  1.774\n",
      "Epoch   0 Batch  196/4308 - Train Accuracy:  0.372, Validation Accuracy:  0.363, Loss:  1.652\n",
      "Epoch   0 Batch  197/4308 - Train Accuracy:  0.419, Validation Accuracy:  0.360, Loss:  1.626\n",
      "Epoch   0 Batch  198/4308 - Train Accuracy:  0.413, Validation Accuracy:  0.362, Loss:  1.746\n",
      "Epoch   0 Batch  199/4308 - Train Accuracy:  0.385, Validation Accuracy:  0.368, Loss:  1.732\n",
      "Epoch   0 Batch  200/4308 - Train Accuracy:  0.440, Validation Accuracy:  0.380, Loss:  1.487\n",
      "Epoch   0 Batch  201/4308 - Train Accuracy:  0.394, Validation Accuracy:  0.354, Loss:  1.662\n",
      "Epoch   0 Batch  202/4308 - Train Accuracy:  0.336, Validation Accuracy:  0.332, Loss:  1.812\n",
      "Epoch   0 Batch  203/4308 - Train Accuracy:  0.383, Validation Accuracy:  0.326, Loss:  1.600\n",
      "Epoch   0 Batch  204/4308 - Train Accuracy:  0.397, Validation Accuracy:  0.331, Loss:  1.580\n",
      "Epoch   0 Batch  205/4308 - Train Accuracy:  0.311, Validation Accuracy:  0.345, Loss:  1.785\n",
      "Epoch   0 Batch  206/4308 - Train Accuracy:  0.384, Validation Accuracy:  0.322, Loss:  1.602\n",
      "Epoch   0 Batch  207/4308 - Train Accuracy:  0.332, Validation Accuracy:  0.306, Loss:  1.624\n",
      "Epoch   0 Batch  208/4308 - Train Accuracy:  0.370, Validation Accuracy:  0.293, Loss:  1.515\n",
      "Epoch   0 Batch  209/4308 - Train Accuracy:  0.350, Validation Accuracy:  0.289, Loss:  1.557\n",
      "Epoch   0 Batch  210/4308 - Train Accuracy:  0.360, Validation Accuracy:  0.285, Loss:  1.515\n",
      "Epoch   0 Batch  211/4308 - Train Accuracy:  0.342, Validation Accuracy:  0.322, Loss:  1.483\n",
      "Epoch   0 Batch  212/4308 - Train Accuracy:  0.319, Validation Accuracy:  0.327, Loss:  1.456\n",
      "Epoch   0 Batch  213/4308 - Train Accuracy:  0.309, Validation Accuracy:  0.283, Loss:  1.619\n",
      "Epoch   0 Batch  214/4308 - Train Accuracy:  0.301, Validation Accuracy:  0.285, Loss:  1.561\n",
      "Epoch   0 Batch  215/4308 - Train Accuracy:  0.295, Validation Accuracy:  0.286, Loss:  1.460\n",
      "Epoch   0 Batch  216/4308 - Train Accuracy:  0.370, Validation Accuracy:  0.296, Loss:  1.445\n",
      "Epoch   0 Batch  217/4308 - Train Accuracy:  0.382, Validation Accuracy:  0.298, Loss:  1.445\n",
      "Epoch   0 Batch  218/4308 - Train Accuracy:  0.312, Validation Accuracy:  0.319, Loss:  1.489\n",
      "Epoch   0 Batch  219/4308 - Train Accuracy:  0.278, Validation Accuracy:  0.316, Loss:  1.632\n",
      "Epoch   0 Batch  220/4308 - Train Accuracy:  0.337, Validation Accuracy:  0.321, Loss:  1.585\n",
      "Epoch   0 Batch  221/4308 - Train Accuracy:  0.395, Validation Accuracy:  0.286, Loss:  1.481\n",
      "Epoch   0 Batch  222/4308 - Train Accuracy:  0.276, Validation Accuracy:  0.308, Loss:  1.615\n",
      "Epoch   0 Batch  223/4308 - Train Accuracy:  0.423, Validation Accuracy:  0.308, Loss:  1.392\n",
      "Epoch   0 Batch  224/4308 - Train Accuracy:  0.326, Validation Accuracy:  0.299, Loss:  1.402\n",
      "Epoch   0 Batch  225/4308 - Train Accuracy:  0.377, Validation Accuracy:  0.281, Loss:  1.396\n",
      "Epoch   0 Batch  226/4308 - Train Accuracy:  0.386, Validation Accuracy:  0.273, Loss:  1.284\n",
      "Epoch   0 Batch  227/4308 - Train Accuracy:  0.328, Validation Accuracy:  0.281, Loss:  1.377\n",
      "Epoch   0 Batch  228/4308 - Train Accuracy:  0.344, Validation Accuracy:  0.317, Loss:  1.483\n",
      "Epoch   0 Batch  229/4308 - Train Accuracy:  0.383, Validation Accuracy:  0.329, Loss:  1.369\n",
      "Epoch   0 Batch  230/4308 - Train Accuracy:  0.298, Validation Accuracy:  0.311, Loss:  1.507\n",
      "Epoch   0 Batch  231/4308 - Train Accuracy:  0.409, Validation Accuracy:  0.336, Loss:  1.248\n",
      "Epoch   0 Batch  232/4308 - Train Accuracy:  0.364, Validation Accuracy:  0.332, Loss:  1.333\n",
      "Epoch   0 Batch  233/4308 - Train Accuracy:  0.350, Validation Accuracy:  0.339, Loss:  1.418\n",
      "Epoch   0 Batch  234/4308 - Train Accuracy:  0.394, Validation Accuracy:  0.324, Loss:  1.272\n",
      "Epoch   0 Batch  235/4308 - Train Accuracy:  0.330, Validation Accuracy:  0.309, Loss:  1.401\n",
      "Epoch   0 Batch  236/4308 - Train Accuracy:  0.385, Validation Accuracy:  0.319, Loss:  1.448\n",
      "Epoch   0 Batch  237/4308 - Train Accuracy:  0.364, Validation Accuracy:  0.393, Loss:  1.296\n",
      "Epoch   0 Batch  238/4308 - Train Accuracy:  0.439, Validation Accuracy:  0.340, Loss:  1.396\n",
      "Epoch   0 Batch  239/4308 - Train Accuracy:  0.311, Validation Accuracy:  0.334, Loss:  1.543\n",
      "Epoch   0 Batch  240/4308 - Train Accuracy:  0.383, Validation Accuracy:  0.367, Loss:  1.321\n",
      "Epoch   0 Batch  241/4308 - Train Accuracy:  0.354, Validation Accuracy:  0.410, Loss:  1.329\n",
      "Epoch   0 Batch  242/4308 - Train Accuracy:  0.373, Validation Accuracy:  0.368, Loss:  1.340\n",
      "Epoch   0 Batch  243/4308 - Train Accuracy:  0.410, Validation Accuracy:  0.331, Loss:  1.337\n",
      "Epoch   0 Batch  244/4308 - Train Accuracy:  0.424, Validation Accuracy:  0.344, Loss:  1.269\n",
      "Epoch   0 Batch  245/4308 - Train Accuracy:  0.422, Validation Accuracy:  0.334, Loss:  1.380\n",
      "Epoch   0 Batch  246/4308 - Train Accuracy:  0.322, Validation Accuracy:  0.350, Loss:  1.394\n",
      "Epoch   0 Batch  247/4308 - Train Accuracy:  0.362, Validation Accuracy:  0.368, Loss:  1.374\n",
      "Epoch   0 Batch  248/4308 - Train Accuracy:  0.348, Validation Accuracy:  0.357, Loss:  1.326\n",
      "Epoch   0 Batch  249/4308 - Train Accuracy:  0.461, Validation Accuracy:  0.357, Loss:  1.239\n",
      "Epoch   0 Batch  250/4308 - Train Accuracy:  0.326, Validation Accuracy:  0.321, Loss:  1.305\n",
      "Epoch   0 Batch  251/4308 - Train Accuracy:  0.416, Validation Accuracy:  0.385, Loss:  1.334\n",
      "Epoch   0 Batch  252/4308 - Train Accuracy:  0.355, Validation Accuracy:  0.428, Loss:  1.463\n",
      "Epoch   0 Batch  253/4308 - Train Accuracy:  0.345, Validation Accuracy:  0.429, Loss:  1.250\n",
      "Epoch   0 Batch  254/4308 - Train Accuracy:  0.324, Validation Accuracy:  0.429, Loss:  1.296\n",
      "Epoch   0 Batch  255/4308 - Train Accuracy:  0.408, Validation Accuracy:  0.383, Loss:  1.241\n",
      "Epoch   0 Batch  256/4308 - Train Accuracy:  0.326, Validation Accuracy:  0.293, Loss:  1.248\n",
      "Epoch   0 Batch  257/4308 - Train Accuracy:  0.357, Validation Accuracy:  0.293, Loss:  1.271\n",
      "Epoch   0 Batch  258/4308 - Train Accuracy:  0.367, Validation Accuracy:  0.317, Loss:  1.323\n",
      "Epoch   0 Batch  259/4308 - Train Accuracy:  0.357, Validation Accuracy:  0.408, Loss:  1.250\n",
      "Epoch   0 Batch  260/4308 - Train Accuracy:  0.391, Validation Accuracy:  0.370, Loss:  1.304\n",
      "Epoch   0 Batch  261/4308 - Train Accuracy:  0.489, Validation Accuracy:  0.436, Loss:  1.184\n",
      "Epoch   0 Batch  262/4308 - Train Accuracy:  0.405, Validation Accuracy:  0.444, Loss:  1.234\n",
      "Epoch   0 Batch  263/4308 - Train Accuracy:  0.345, Validation Accuracy:  0.401, Loss:  1.296\n",
      "Epoch   0 Batch  264/4308 - Train Accuracy:  0.382, Validation Accuracy:  0.375, Loss:  1.237\n",
      "Epoch   0 Batch  265/4308 - Train Accuracy:  0.388, Validation Accuracy:  0.375, Loss:  1.258\n",
      "Epoch   0 Batch  266/4308 - Train Accuracy:  0.354, Validation Accuracy:  0.352, Loss:  1.275\n",
      "Epoch   0 Batch  267/4308 - Train Accuracy:  0.334, Validation Accuracy:  0.340, Loss:  1.207\n",
      "Epoch   0 Batch  268/4308 - Train Accuracy:  0.458, Validation Accuracy:  0.362, Loss:  1.151\n",
      "Epoch   0 Batch  269/4308 - Train Accuracy:  0.345, Validation Accuracy:  0.385, Loss:  1.262\n",
      "Epoch   0 Batch  270/4308 - Train Accuracy:  0.384, Validation Accuracy:  0.308, Loss:  1.209\n",
      "Epoch   0 Batch  271/4308 - Train Accuracy:  0.305, Validation Accuracy:  0.344, Loss:  1.301\n",
      "Epoch   0 Batch  272/4308 - Train Accuracy:  0.318, Validation Accuracy:  0.387, Loss:  1.431\n",
      "Epoch   0 Batch  273/4308 - Train Accuracy:  0.436, Validation Accuracy:  0.393, Loss:  1.237\n",
      "Epoch   0 Batch  274/4308 - Train Accuracy:  0.415, Validation Accuracy:  0.451, Loss:  1.161\n",
      "Epoch   0 Batch  275/4308 - Train Accuracy:  0.396, Validation Accuracy:  0.431, Loss:  1.109\n",
      "Epoch   0 Batch  276/4308 - Train Accuracy:  0.359, Validation Accuracy:  0.363, Loss:  1.287\n",
      "Epoch   0 Batch  277/4308 - Train Accuracy:  0.408, Validation Accuracy:  0.377, Loss:  1.191\n",
      "Epoch   0 Batch  278/4308 - Train Accuracy:  0.389, Validation Accuracy:  0.352, Loss:  1.158\n",
      "Epoch   0 Batch  279/4308 - Train Accuracy:  0.433, Validation Accuracy:  0.355, Loss:  1.230\n",
      "Epoch   0 Batch  280/4308 - Train Accuracy:  0.318, Validation Accuracy:  0.421, Loss:  1.326\n",
      "Epoch   0 Batch  281/4308 - Train Accuracy:  0.442, Validation Accuracy:  0.410, Loss:  1.182\n",
      "Epoch   0 Batch  282/4308 - Train Accuracy:  0.398, Validation Accuracy:  0.387, Loss:  1.305\n",
      "Epoch   0 Batch  283/4308 - Train Accuracy:  0.396, Validation Accuracy:  0.373, Loss:  1.188\n",
      "Epoch   0 Batch  284/4308 - Train Accuracy:  0.498, Validation Accuracy:  0.383, Loss:  1.125\n",
      "Epoch   0 Batch  285/4308 - Train Accuracy:  0.370, Validation Accuracy:  0.393, Loss:  1.150\n",
      "Epoch   0 Batch  286/4308 - Train Accuracy:  0.459, Validation Accuracy:  0.449, Loss:  1.206\n",
      "Epoch   0 Batch  287/4308 - Train Accuracy:  0.487, Validation Accuracy:  0.444, Loss:  1.162\n",
      "Epoch   0 Batch  288/4308 - Train Accuracy:  0.464, Validation Accuracy:  0.449, Loss:  1.156\n",
      "Epoch   0 Batch  289/4308 - Train Accuracy:  0.384, Validation Accuracy:  0.446, Loss:  1.098\n",
      "Epoch   0 Batch  290/4308 - Train Accuracy:  0.541, Validation Accuracy:  0.439, Loss:  1.104\n",
      "Epoch   0 Batch  291/4308 - Train Accuracy:  0.438, Validation Accuracy:  0.421, Loss:  1.214\n",
      "Epoch   0 Batch  292/4308 - Train Accuracy:  0.458, Validation Accuracy:  0.424, Loss:  1.140\n",
      "Epoch   0 Batch  293/4308 - Train Accuracy:  0.418, Validation Accuracy:  0.413, Loss:  1.105\n",
      "Epoch   0 Batch  294/4308 - Train Accuracy:  0.434, Validation Accuracy:  0.408, Loss:  1.103\n",
      "Epoch   0 Batch  295/4308 - Train Accuracy:  0.390, Validation Accuracy:  0.431, Loss:  1.167\n",
      "Epoch   0 Batch  296/4308 - Train Accuracy:  0.417, Validation Accuracy:  0.439, Loss:  1.105\n",
      "Epoch   0 Batch  297/4308 - Train Accuracy:  0.514, Validation Accuracy:  0.462, Loss:  1.155\n",
      "Epoch   0 Batch  298/4308 - Train Accuracy:  0.474, Validation Accuracy:  0.457, Loss:  1.137\n",
      "Epoch   0 Batch  299/4308 - Train Accuracy:  0.503, Validation Accuracy:  0.446, Loss:  1.043\n",
      "Epoch   0 Batch  300/4308 - Train Accuracy:  0.474, Validation Accuracy:  0.465, Loss:  1.207\n",
      "Epoch   0 Batch  301/4308 - Train Accuracy:  0.461, Validation Accuracy:  0.449, Loss:  1.102\n",
      "Epoch   0 Batch  302/4308 - Train Accuracy:  0.397, Validation Accuracy:  0.459, Loss:  1.044\n",
      "Epoch   0 Batch  303/4308 - Train Accuracy:  0.503, Validation Accuracy:  0.454, Loss:  1.057\n",
      "Epoch   0 Batch  304/4308 - Train Accuracy:  0.502, Validation Accuracy:  0.465, Loss:  1.089\n",
      "Epoch   0 Batch  305/4308 - Train Accuracy:  0.517, Validation Accuracy:  0.446, Loss:  1.111\n",
      "Epoch   0 Batch  306/4308 - Train Accuracy:  0.523, Validation Accuracy:  0.411, Loss:  0.998\n",
      "Epoch   0 Batch  307/4308 - Train Accuracy:  0.475, Validation Accuracy:  0.451, Loss:  1.096\n",
      "Epoch   0 Batch  308/4308 - Train Accuracy:  0.441, Validation Accuracy:  0.442, Loss:  1.170\n",
      "Epoch   0 Batch  309/4308 - Train Accuracy:  0.492, Validation Accuracy:  0.451, Loss:  0.984\n",
      "Epoch   0 Batch  310/4308 - Train Accuracy:  0.423, Validation Accuracy:  0.464, Loss:  1.028\n",
      "Epoch   0 Batch  311/4308 - Train Accuracy:  0.513, Validation Accuracy:  0.444, Loss:  1.058\n",
      "Epoch   0 Batch  312/4308 - Train Accuracy:  0.474, Validation Accuracy:  0.439, Loss:  1.099\n",
      "Epoch   0 Batch  313/4308 - Train Accuracy:  0.418, Validation Accuracy:  0.442, Loss:  1.108\n",
      "Epoch   0 Batch  314/4308 - Train Accuracy:  0.394, Validation Accuracy:  0.464, Loss:  1.111\n",
      "Epoch   0 Batch  315/4308 - Train Accuracy:  0.422, Validation Accuracy:  0.456, Loss:  1.140\n",
      "Epoch   0 Batch  316/4308 - Train Accuracy:  0.465, Validation Accuracy:  0.452, Loss:  1.108\n",
      "Epoch   0 Batch  317/4308 - Train Accuracy:  0.398, Validation Accuracy:  0.451, Loss:  1.120\n",
      "Epoch   0 Batch  318/4308 - Train Accuracy:  0.461, Validation Accuracy:  0.434, Loss:  1.118\n",
      "Epoch   0 Batch  319/4308 - Train Accuracy:  0.410, Validation Accuracy:  0.431, Loss:  1.151\n",
      "Epoch   0 Batch  320/4308 - Train Accuracy:  0.470, Validation Accuracy:  0.426, Loss:  1.070\n",
      "Epoch   0 Batch  321/4308 - Train Accuracy:  0.456, Validation Accuracy:  0.442, Loss:  1.143\n",
      "Epoch   0 Batch  322/4308 - Train Accuracy:  0.405, Validation Accuracy:  0.456, Loss:  1.140\n",
      "Epoch   0 Batch  323/4308 - Train Accuracy:  0.495, Validation Accuracy:  0.447, Loss:  1.060\n",
      "Epoch   0 Batch  324/4308 - Train Accuracy:  0.463, Validation Accuracy:  0.452, Loss:  0.970\n",
      "Epoch   0 Batch  325/4308 - Train Accuracy:  0.446, Validation Accuracy:  0.457, Loss:  1.104\n",
      "Epoch   0 Batch  326/4308 - Train Accuracy:  0.378, Validation Accuracy:  0.456, Loss:  1.125\n",
      "Epoch   0 Batch  327/4308 - Train Accuracy:  0.522, Validation Accuracy:  0.451, Loss:  0.941\n",
      "Epoch   0 Batch  328/4308 - Train Accuracy:  0.453, Validation Accuracy:  0.436, Loss:  1.034\n",
      "Epoch   0 Batch  329/4308 - Train Accuracy:  0.365, Validation Accuracy:  0.456, Loss:  1.086\n",
      "Epoch   0 Batch  330/4308 - Train Accuracy:  0.360, Validation Accuracy:  0.446, Loss:  1.086\n",
      "Epoch   0 Batch  331/4308 - Train Accuracy:  0.533, Validation Accuracy:  0.454, Loss:  1.039\n",
      "Epoch   0 Batch  332/4308 - Train Accuracy:  0.473, Validation Accuracy:  0.441, Loss:  0.880\n",
      "Epoch   0 Batch  333/4308 - Train Accuracy:  0.459, Validation Accuracy:  0.431, Loss:  1.011\n",
      "Epoch   0 Batch  334/4308 - Train Accuracy:  0.441, Validation Accuracy:  0.456, Loss:  1.055\n",
      "Epoch   0 Batch  335/4308 - Train Accuracy:  0.521, Validation Accuracy:  0.444, Loss:  1.021\n",
      "Epoch   0 Batch  336/4308 - Train Accuracy:  0.451, Validation Accuracy:  0.444, Loss:  1.110\n",
      "Epoch   0 Batch  337/4308 - Train Accuracy:  0.467, Validation Accuracy:  0.452, Loss:  1.168\n",
      "Epoch   0 Batch  338/4308 - Train Accuracy:  0.505, Validation Accuracy:  0.439, Loss:  0.991\n",
      "Epoch   0 Batch  339/4308 - Train Accuracy:  0.451, Validation Accuracy:  0.438, Loss:  1.022\n",
      "Epoch   0 Batch  340/4308 - Train Accuracy:  0.438, Validation Accuracy:  0.436, Loss:  1.117\n",
      "Epoch   0 Batch  341/4308 - Train Accuracy:  0.405, Validation Accuracy:  0.442, Loss:  1.002\n",
      "Epoch   0 Batch  342/4308 - Train Accuracy:  0.474, Validation Accuracy:  0.426, Loss:  1.032\n",
      "Epoch   0 Batch  343/4308 - Train Accuracy:  0.408, Validation Accuracy:  0.423, Loss:  1.061\n",
      "Epoch   0 Batch  344/4308 - Train Accuracy:  0.503, Validation Accuracy:  0.414, Loss:  0.898\n",
      "Epoch   0 Batch  345/4308 - Train Accuracy:  0.373, Validation Accuracy:  0.403, Loss:  1.075\n",
      "Epoch   0 Batch  346/4308 - Train Accuracy:  0.487, Validation Accuracy:  0.429, Loss:  0.897\n",
      "Epoch   0 Batch  347/4308 - Train Accuracy:  0.516, Validation Accuracy:  0.429, Loss:  0.979\n",
      "Epoch   0 Batch  348/4308 - Train Accuracy:  0.508, Validation Accuracy:  0.426, Loss:  1.098\n",
      "Epoch   0 Batch  349/4308 - Train Accuracy:  0.461, Validation Accuracy:  0.439, Loss:  0.977\n",
      "Epoch   0 Batch  350/4308 - Train Accuracy:  0.469, Validation Accuracy:  0.438, Loss:  1.122\n",
      "Epoch   0 Batch  351/4308 - Train Accuracy:  0.472, Validation Accuracy:  0.454, Loss:  1.021\n",
      "Epoch   0 Batch  352/4308 - Train Accuracy:  0.495, Validation Accuracy:  0.442, Loss:  1.093\n",
      "Epoch   0 Batch  353/4308 - Train Accuracy:  0.500, Validation Accuracy:  0.414, Loss:  1.020\n",
      "Epoch   0 Batch  354/4308 - Train Accuracy:  0.456, Validation Accuracy:  0.439, Loss:  1.044\n",
      "Epoch   0 Batch  355/4308 - Train Accuracy:  0.487, Validation Accuracy:  0.446, Loss:  0.965\n",
      "Epoch   0 Batch  356/4308 - Train Accuracy:  0.429, Validation Accuracy:  0.433, Loss:  1.047\n",
      "Epoch   0 Batch  357/4308 - Train Accuracy:  0.535, Validation Accuracy:  0.446, Loss:  1.015\n",
      "Epoch   0 Batch  358/4308 - Train Accuracy:  0.505, Validation Accuracy:  0.454, Loss:  1.068\n",
      "Epoch   0 Batch  359/4308 - Train Accuracy:  0.500, Validation Accuracy:  0.439, Loss:  1.016\n",
      "Epoch   0 Batch  360/4308 - Train Accuracy:  0.490, Validation Accuracy:  0.452, Loss:  1.062\n",
      "Epoch   0 Batch  361/4308 - Train Accuracy:  0.487, Validation Accuracy:  0.447, Loss:  0.975\n",
      "Epoch   0 Batch  362/4308 - Train Accuracy:  0.477, Validation Accuracy:  0.459, Loss:  1.006\n",
      "Epoch   0 Batch  363/4308 - Train Accuracy:  0.481, Validation Accuracy:  0.456, Loss:  1.076\n",
      "Epoch   0 Batch  364/4308 - Train Accuracy:  0.489, Validation Accuracy:  0.454, Loss:  1.001\n",
      "Epoch   0 Batch  365/4308 - Train Accuracy:  0.444, Validation Accuracy:  0.456, Loss:  0.998\n",
      "Epoch   0 Batch  366/4308 - Train Accuracy:  0.449, Validation Accuracy:  0.456, Loss:  1.122\n",
      "Epoch   0 Batch  367/4308 - Train Accuracy:  0.460, Validation Accuracy:  0.447, Loss:  0.914\n",
      "Epoch   0 Batch  368/4308 - Train Accuracy:  0.482, Validation Accuracy:  0.436, Loss:  0.965\n",
      "Epoch   0 Batch  369/4308 - Train Accuracy:  0.536, Validation Accuracy:  0.428, Loss:  0.948\n",
      "Epoch   0 Batch  370/4308 - Train Accuracy:  0.502, Validation Accuracy:  0.465, Loss:  0.917\n",
      "Epoch   0 Batch  371/4308 - Train Accuracy:  0.498, Validation Accuracy:  0.469, Loss:  1.052\n",
      "Epoch   0 Batch  372/4308 - Train Accuracy:  0.444, Validation Accuracy:  0.438, Loss:  0.999\n",
      "Epoch   0 Batch  373/4308 - Train Accuracy:  0.458, Validation Accuracy:  0.456, Loss:  1.009\n",
      "Epoch   0 Batch  374/4308 - Train Accuracy:  0.461, Validation Accuracy:  0.456, Loss:  1.017\n",
      "Epoch   0 Batch  375/4308 - Train Accuracy:  0.469, Validation Accuracy:  0.469, Loss:  0.954\n",
      "Epoch   0 Batch  376/4308 - Train Accuracy:  0.525, Validation Accuracy:  0.488, Loss:  1.105\n",
      "Epoch   0 Batch  377/4308 - Train Accuracy:  0.416, Validation Accuracy:  0.469, Loss:  1.024\n",
      "Epoch   0 Batch  378/4308 - Train Accuracy:  0.463, Validation Accuracy:  0.461, Loss:  0.897\n",
      "Epoch   0 Batch  379/4308 - Train Accuracy:  0.457, Validation Accuracy:  0.467, Loss:  1.009\n",
      "Epoch   0 Batch  380/4308 - Train Accuracy:  0.509, Validation Accuracy:  0.459, Loss:  0.878\n",
      "Epoch   0 Batch  381/4308 - Train Accuracy:  0.467, Validation Accuracy:  0.431, Loss:  0.900\n",
      "Epoch   0 Batch  382/4308 - Train Accuracy:  0.490, Validation Accuracy:  0.444, Loss:  0.967\n",
      "Epoch   0 Batch  383/4308 - Train Accuracy:  0.444, Validation Accuracy:  0.441, Loss:  1.083\n",
      "Epoch   0 Batch  384/4308 - Train Accuracy:  0.559, Validation Accuracy:  0.452, Loss:  0.993\n",
      "Epoch   0 Batch  385/4308 - Train Accuracy:  0.472, Validation Accuracy:  0.452, Loss:  1.048\n",
      "Epoch   0 Batch  386/4308 - Train Accuracy:  0.487, Validation Accuracy:  0.442, Loss:  0.961\n",
      "Epoch   0 Batch  387/4308 - Train Accuracy:  0.492, Validation Accuracy:  0.442, Loss:  0.920\n"
     ]
    },
    {
     "ename": "KeyboardInterrupt",
     "evalue": "",
     "output_type": "error",
     "traceback": [
      "\u001b[0;31m---------------------------------------------------------------------------\u001b[0m",
      "\u001b[0;31mKeyboardInterrupt\u001b[0m                         Traceback (most recent call last)",
      "\u001b[0;32m<ipython-input-45-29c4deffcdd2>\u001b[0m in \u001b[0;36m<module>\u001b[0;34m()\u001b[0m\n\u001b[1;32m     49\u001b[0m             batch_valid_logits = sess.run(\n\u001b[1;32m     50\u001b[0m                 \u001b[0minference_logits\u001b[0m\u001b[0;34m,\u001b[0m\u001b[0;34m\u001b[0m\u001b[0m\n\u001b[0;32m---> 51\u001b[0;31m                 {input_data: valid_source, keep_prob: 1.0})\n\u001b[0m\u001b[1;32m     52\u001b[0m \u001b[0;34m\u001b[0m\u001b[0m\n\u001b[1;32m     53\u001b[0m             \u001b[0mtrain_acc\u001b[0m \u001b[0;34m=\u001b[0m \u001b[0mget_accuracy\u001b[0m\u001b[0;34m(\u001b[0m\u001b[0mtarget_batch\u001b[0m\u001b[0;34m,\u001b[0m \u001b[0mbatch_train_logits\u001b[0m\u001b[0;34m)\u001b[0m\u001b[0;34m\u001b[0m\u001b[0m\n",
      "\u001b[0;32m/home/lizhang/.conda/envs/tf1.0/lib/python3.5/site-packages/tensorflow/python/client/session.py\u001b[0m in \u001b[0;36mrun\u001b[0;34m(self, fetches, feed_dict, options, run_metadata)\u001b[0m\n\u001b[1;32m    765\u001b[0m     \u001b[0;32mtry\u001b[0m\u001b[0;34m:\u001b[0m\u001b[0;34m\u001b[0m\u001b[0m\n\u001b[1;32m    766\u001b[0m       result = self._run(None, fetches, feed_dict, options_ptr,\n\u001b[0;32m--> 767\u001b[0;31m                          run_metadata_ptr)\n\u001b[0m\u001b[1;32m    768\u001b[0m       \u001b[0;32mif\u001b[0m \u001b[0mrun_metadata\u001b[0m\u001b[0;34m:\u001b[0m\u001b[0;34m\u001b[0m\u001b[0m\n\u001b[1;32m    769\u001b[0m         \u001b[0mproto_data\u001b[0m \u001b[0;34m=\u001b[0m \u001b[0mtf_session\u001b[0m\u001b[0;34m.\u001b[0m\u001b[0mTF_GetBuffer\u001b[0m\u001b[0;34m(\u001b[0m\u001b[0mrun_metadata_ptr\u001b[0m\u001b[0;34m)\u001b[0m\u001b[0;34m\u001b[0m\u001b[0m\n",
      "\u001b[0;32m/home/lizhang/.conda/envs/tf1.0/lib/python3.5/site-packages/tensorflow/python/client/session.py\u001b[0m in \u001b[0;36m_run\u001b[0;34m(self, handle, fetches, feed_dict, options, run_metadata)\u001b[0m\n\u001b[1;32m    963\u001b[0m     \u001b[0;32mif\u001b[0m \u001b[0mfinal_fetches\u001b[0m \u001b[0;32mor\u001b[0m \u001b[0mfinal_targets\u001b[0m\u001b[0;34m:\u001b[0m\u001b[0;34m\u001b[0m\u001b[0m\n\u001b[1;32m    964\u001b[0m       results = self._do_run(handle, final_targets, final_fetches,\n\u001b[0;32m--> 965\u001b[0;31m                              feed_dict_string, options, run_metadata)\n\u001b[0m\u001b[1;32m    966\u001b[0m     \u001b[0;32melse\u001b[0m\u001b[0;34m:\u001b[0m\u001b[0;34m\u001b[0m\u001b[0m\n\u001b[1;32m    967\u001b[0m       \u001b[0mresults\u001b[0m \u001b[0;34m=\u001b[0m \u001b[0;34m[\u001b[0m\u001b[0;34m]\u001b[0m\u001b[0;34m\u001b[0m\u001b[0m\n",
      "\u001b[0;32m/home/lizhang/.conda/envs/tf1.0/lib/python3.5/site-packages/tensorflow/python/client/session.py\u001b[0m in \u001b[0;36m_do_run\u001b[0;34m(self, handle, target_list, fetch_list, feed_dict, options, run_metadata)\u001b[0m\n\u001b[1;32m   1013\u001b[0m     \u001b[0;32mif\u001b[0m \u001b[0mhandle\u001b[0m \u001b[0;32mis\u001b[0m \u001b[0;32mNone\u001b[0m\u001b[0;34m:\u001b[0m\u001b[0;34m\u001b[0m\u001b[0m\n\u001b[1;32m   1014\u001b[0m       return self._do_call(_run_fn, self._session, feed_dict, fetch_list,\n\u001b[0;32m-> 1015\u001b[0;31m                            target_list, options, run_metadata)\n\u001b[0m\u001b[1;32m   1016\u001b[0m     \u001b[0;32melse\u001b[0m\u001b[0;34m:\u001b[0m\u001b[0;34m\u001b[0m\u001b[0m\n\u001b[1;32m   1017\u001b[0m       return self._do_call(_prun_fn, self._session, handle, feed_dict,\n",
      "\u001b[0;32m/home/lizhang/.conda/envs/tf1.0/lib/python3.5/site-packages/tensorflow/python/client/session.py\u001b[0m in \u001b[0;36m_do_call\u001b[0;34m(self, fn, *args)\u001b[0m\n\u001b[1;32m   1020\u001b[0m   \u001b[0;32mdef\u001b[0m \u001b[0m_do_call\u001b[0m\u001b[0;34m(\u001b[0m\u001b[0mself\u001b[0m\u001b[0;34m,\u001b[0m \u001b[0mfn\u001b[0m\u001b[0;34m,\u001b[0m \u001b[0;34m*\u001b[0m\u001b[0margs\u001b[0m\u001b[0;34m)\u001b[0m\u001b[0;34m:\u001b[0m\u001b[0;34m\u001b[0m\u001b[0m\n\u001b[1;32m   1021\u001b[0m     \u001b[0;32mtry\u001b[0m\u001b[0;34m:\u001b[0m\u001b[0;34m\u001b[0m\u001b[0m\n\u001b[0;32m-> 1022\u001b[0;31m       \u001b[0;32mreturn\u001b[0m \u001b[0mfn\u001b[0m\u001b[0;34m(\u001b[0m\u001b[0;34m*\u001b[0m\u001b[0margs\u001b[0m\u001b[0;34m)\u001b[0m\u001b[0;34m\u001b[0m\u001b[0m\n\u001b[0m\u001b[1;32m   1023\u001b[0m     \u001b[0;32mexcept\u001b[0m \u001b[0merrors\u001b[0m\u001b[0;34m.\u001b[0m\u001b[0mOpError\u001b[0m \u001b[0;32mas\u001b[0m \u001b[0me\u001b[0m\u001b[0;34m:\u001b[0m\u001b[0;34m\u001b[0m\u001b[0m\n\u001b[1;32m   1024\u001b[0m       \u001b[0mmessage\u001b[0m \u001b[0;34m=\u001b[0m \u001b[0mcompat\u001b[0m\u001b[0;34m.\u001b[0m\u001b[0mas_text\u001b[0m\u001b[0;34m(\u001b[0m\u001b[0me\u001b[0m\u001b[0;34m.\u001b[0m\u001b[0mmessage\u001b[0m\u001b[0;34m)\u001b[0m\u001b[0;34m\u001b[0m\u001b[0m\n",
      "\u001b[0;32m/home/lizhang/.conda/envs/tf1.0/lib/python3.5/site-packages/tensorflow/python/client/session.py\u001b[0m in \u001b[0;36m_run_fn\u001b[0;34m(session, feed_dict, fetch_list, target_list, options, run_metadata)\u001b[0m\n\u001b[1;32m   1002\u001b[0m         return tf_session.TF_Run(session, options,\n\u001b[1;32m   1003\u001b[0m                                  \u001b[0mfeed_dict\u001b[0m\u001b[0;34m,\u001b[0m \u001b[0mfetch_list\u001b[0m\u001b[0;34m,\u001b[0m \u001b[0mtarget_list\u001b[0m\u001b[0;34m,\u001b[0m\u001b[0;34m\u001b[0m\u001b[0m\n\u001b[0;32m-> 1004\u001b[0;31m                                  status, run_metadata)\n\u001b[0m\u001b[1;32m   1005\u001b[0m \u001b[0;34m\u001b[0m\u001b[0m\n\u001b[1;32m   1006\u001b[0m     \u001b[0;32mdef\u001b[0m \u001b[0m_prun_fn\u001b[0m\u001b[0;34m(\u001b[0m\u001b[0msession\u001b[0m\u001b[0;34m,\u001b[0m \u001b[0mhandle\u001b[0m\u001b[0;34m,\u001b[0m \u001b[0mfeed_dict\u001b[0m\u001b[0;34m,\u001b[0m \u001b[0mfetch_list\u001b[0m\u001b[0;34m)\u001b[0m\u001b[0;34m:\u001b[0m\u001b[0;34m\u001b[0m\u001b[0m\n",
      "\u001b[0;31mKeyboardInterrupt\u001b[0m: "
     ]
    }
   ],
   "source": [
    "\"\"\"\n",
    "DON'T MODIFY ANYTHING IN THIS CELL\n",
    "\"\"\"\n",
    "import time\n",
    "\n",
    "def get_accuracy(target, logits):\n",
    "    \"\"\"\n",
    "    Calculate accuracy\n",
    "    \"\"\"\n",
    "    max_seq = max(target.shape[1], logits.shape[1])\n",
    "    if max_seq - target.shape[1]:\n",
    "        target = np.pad(\n",
    "            target_batch,\n",
    "            [(0,0),(0,max_seq - target_batch.shape[1]), (0,0)],\n",
    "            'constant')\n",
    "    if max_seq - batch_train_logits.shape[1]:\n",
    "        logits = np.pad(\n",
    "            logits,\n",
    "            [(0,0),(0,max_seq - logits.shape[1]), (0,0)],\n",
    "            'constant')\n",
    "\n",
    "    return np.mean(np.equal(target, np.argmax(logits, 2)))\n",
    "\n",
    "train_source = source_int_text[batch_size:]\n",
    "train_target = target_int_text[batch_size:]\n",
    "\n",
    "valid_source = helper.pad_sentence_batch(source_int_text[:batch_size])\n",
    "valid_target = helper.pad_sentence_batch(target_int_text[:batch_size])\n",
    "\n",
    "with tf.Session(graph=train_graph) as sess:\n",
    "    sess.run(tf.global_variables_initializer())\n",
    "\n",
    "    for epoch_i in range(epochs):\n",
    "        for batch_i, (source_batch, target_batch) in enumerate(\n",
    "                helper.batch_data(train_source, train_target, batch_size)):\n",
    "            start_time = time.time()\n",
    "            \n",
    "            _, loss = sess.run(\n",
    "                [train_op, cost],\n",
    "                {input_data: source_batch,\n",
    "                 targets: target_batch,\n",
    "                 lr: learning_rate,\n",
    "                 sequence_length: target_batch.shape[1],\n",
    "                 keep_prob: keep_probability})\n",
    "            \n",
    "            batch_train_logits = sess.run(\n",
    "                inference_logits,\n",
    "                {input_data: source_batch, keep_prob: 1.0})\n",
    "            batch_valid_logits = sess.run(\n",
    "                inference_logits,\n",
    "                {input_data: valid_source, keep_prob: 1.0})\n",
    "                \n",
    "            train_acc = get_accuracy(target_batch, batch_train_logits)\n",
    "            valid_acc = get_accuracy(np.array(valid_target), batch_valid_logits)\n",
    "            end_time = time.time()\n",
    "            print('Epoch {:>3} Batch {:>4}/{} - Train Accuracy: {:>6.3f}, Validation Accuracy: {:>6.3f}, Loss: {:>6.3f}'\n",
    "                  .format(epoch_i, batch_i, len(source_int_text) // batch_size, train_acc, valid_acc, loss))\n",
    "\n",
    "    # Save Model\n",
    "    saver = tf.train.Saver()\n",
    "    saver.save(sess, save_path)\n",
    "    print('Model Trained and Saved')"
   ]
  },
  {
   "cell_type": "markdown",
   "metadata": {
    "deletable": true,
    "editable": true
   },
   "source": [
    "### Save Parameters\n",
    "Save the `batch_size` and `save_path` parameters for inference."
   ]
  },
  {
   "cell_type": "code",
   "execution_count": null,
   "metadata": {
    "collapsed": false,
    "deletable": true,
    "editable": true
   },
   "outputs": [],
   "source": [
    "\"\"\"\n",
    "DON'T MODIFY ANYTHING IN THIS CELL\n",
    "\"\"\"\n",
    "# Save parameters for checkpoint\n",
    "helper.save_params(save_path)"
   ]
  },
  {
   "cell_type": "markdown",
   "metadata": {
    "deletable": true,
    "editable": true
   },
   "source": [
    "# Checkpoint"
   ]
  },
  {
   "cell_type": "code",
   "execution_count": null,
   "metadata": {
    "collapsed": false,
    "deletable": true,
    "editable": true
   },
   "outputs": [],
   "source": [
    "\"\"\"\n",
    "DON'T MODIFY ANYTHING IN THIS CELL\n",
    "\"\"\"\n",
    "import tensorflow as tf\n",
    "import numpy as np\n",
    "import helper\n",
    "import problem_unittests as tests\n",
    "\n",
    "_, (source_vocab_to_int, target_vocab_to_int), (source_int_to_vocab, target_int_to_vocab) = helper.load_preprocess()\n",
    "load_path = helper.load_params()"
   ]
  },
  {
   "cell_type": "markdown",
   "metadata": {
    "deletable": true,
    "editable": true
   },
   "source": [
    "## Sentence to Sequence\n",
    "To feed a sentence into the model for translation, you first need to preprocess it.  Implement the function `sentence_to_seq()` to preprocess new sentences.\n",
    "\n",
    "- Convert the sentence to lowercase\n",
    "- Convert words into ids using `vocab_to_int`\n",
    " - Convert words not in the vocabulary, to the `<UNK>` word id."
   ]
  },
  {
   "cell_type": "code",
   "execution_count": null,
   "metadata": {
    "collapsed": false,
    "deletable": true,
    "editable": true
   },
   "outputs": [],
   "source": [
    "def sentence_to_seq(sentence, vocab_to_int):\n",
    "    \"\"\"\n",
    "    Convert a sentence to a sequence of ids\n",
    "    :param sentence: String\n",
    "    :param vocab_to_int: Dictionary to go from the words to an id\n",
    "    :return: List of word ids\n",
    "    \"\"\"\n",
    "    # TODO: Implement Function\n",
    "    return None\n",
    "\n",
    "\n",
    "\"\"\"\n",
    "DON'T MODIFY ANYTHING IN THIS CELL THAT IS BELOW THIS LINE\n",
    "\"\"\"\n",
    "tests.test_sentence_to_seq(sentence_to_seq)"
   ]
  },
  {
   "cell_type": "markdown",
   "metadata": {
    "deletable": true,
    "editable": true
   },
   "source": [
    "## Translate\n",
    "This will translate `translate_sentence` from English to French."
   ]
  },
  {
   "cell_type": "code",
   "execution_count": null,
   "metadata": {
    "collapsed": false,
    "deletable": true,
    "editable": true
   },
   "outputs": [],
   "source": [
    "translate_sentence = 'he saw a old yellow truck .'\n",
    "\n",
    "\n",
    "\"\"\"\n",
    "DON'T MODIFY ANYTHING IN THIS CELL\n",
    "\"\"\"\n",
    "translate_sentence = sentence_to_seq(translate_sentence, source_vocab_to_int)\n",
    "\n",
    "loaded_graph = tf.Graph()\n",
    "with tf.Session(graph=loaded_graph) as sess:\n",
    "    # Load saved model\n",
    "    loader = tf.train.import_meta_graph(load_path + '.meta')\n",
    "    loader.restore(sess, load_path)\n",
    "\n",
    "    input_data = loaded_graph.get_tensor_by_name('input:0')\n",
    "    logits = loaded_graph.get_tensor_by_name('logits:0')\n",
    "    keep_prob = loaded_graph.get_tensor_by_name('keep_prob:0')\n",
    "\n",
    "    translate_logits = sess.run(logits, {input_data: [translate_sentence], keep_prob: 1.0})[0]\n",
    "\n",
    "print('Input')\n",
    "print('  Word Ids:      {}'.format([i for i in translate_sentence]))\n",
    "print('  English Words: {}'.format([source_int_to_vocab[i] for i in translate_sentence]))\n",
    "\n",
    "print('\\nPrediction')\n",
    "print('  Word Ids:      {}'.format([i for i in np.argmax(translate_logits, 1)]))\n",
    "print('  French Words: {}'.format([target_int_to_vocab[i] for i in np.argmax(translate_logits, 1)]))"
   ]
  },
  {
   "cell_type": "markdown",
   "metadata": {
    "deletable": true,
    "editable": true
   },
   "source": [
    "## Imperfect Translation\n",
    "You might notice that some sentences translate better than others.  Since the dataset you're using only has a vocabulary of 227 English words of the thousands that you use, you're only going to see good results using these words.  For this project, you don't need a perfect translation. However, if you want to create a better translation model, you'll need better data.\n",
    "\n",
    "You can train on the [WMT10 French-English corpus](http://www.statmt.org/wmt10/training-giga-fren.tar).  This dataset has more vocabulary and richer in topics discussed.  However, this will take you days to train, so make sure you've a GPU and the neural network is performing well on dataset we provided.  Just make sure you play with the WMT10 corpus after you've submitted this project.\n",
    "## Submitting This Project\n",
    "When submitting this project, make sure to run all the cells before saving the notebook. Save the notebook file as \"dlnd_language_translation.ipynb\" and save it as a HTML file under \"File\" -> \"Download as\". Include the \"helper.py\" and \"problem_unittests.py\" files in your submission."
   ]
  }
 ],
 "metadata": {
  "kernelspec": {
   "display_name": "tf1.0-py3.5",
   "language": "python",
   "name": "tf1.0"
  },
  "language_info": {
   "codemirror_mode": {
    "name": "ipython",
    "version": 3
   },
   "file_extension": ".py",
   "mimetype": "text/x-python",
   "name": "python",
   "nbconvert_exporter": "python",
   "pygments_lexer": "ipython3",
   "version": "3.5.2"
  }
 },
 "nbformat": 4,
 "nbformat_minor": 0
}
