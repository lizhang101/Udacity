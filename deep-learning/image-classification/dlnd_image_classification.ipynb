{
 "cells": [
  {
   "cell_type": "markdown",
   "metadata": {
    "collapsed": true
   },
   "source": [
    "# Image Classification\n",
    "In this project, you'll classify images from the [CIFAR-10 dataset](https://www.cs.toronto.edu/~kriz/cifar.html).  The dataset consists of airplanes, dogs, cats, and other objects. You'll preprocess the images, then train a convolutional neural network on all the samples. The images need to be normalized and the labels need to be one-hot encoded.  You'll get to apply what you learned and build a convolutional, max pooling, dropout, and fully connected layers.  At the end, you'll get to see your neural network's predictions on the sample images.\n",
    "## Get the Data\n",
    "Run the following cell to download the [CIFAR-10 dataset for python](https://www.cs.toronto.edu/~kriz/cifar-10-python.tar.gz)."
   ]
  },
  {
   "cell_type": "code",
   "execution_count": 1,
   "metadata": {
    "collapsed": false
   },
   "outputs": [
    {
     "name": "stdout",
     "output_type": "stream",
     "text": [
      "All files found!\n"
     ]
    }
   ],
   "source": [
    "\"\"\"\n",
    "DON'T MODIFY ANYTHING IN THIS CELL THAT IS BELOW THIS LINE\n",
    "\"\"\"\n",
    "from urllib.request import urlretrieve\n",
    "from os.path import isfile, isdir\n",
    "from tqdm import tqdm\n",
    "import problem_unittests as tests\n",
    "import tarfile\n",
    "\n",
    "cifar10_dataset_folder_path = 'cifar-10-batches-py'\n",
    "\n",
    "class DLProgress(tqdm):\n",
    "    last_block = 0\n",
    "\n",
    "    def hook(self, block_num=1, block_size=1, total_size=None):\n",
    "        self.total = total_size\n",
    "        self.update((block_num - self.last_block) * block_size)\n",
    "        self.last_block = block_num\n",
    "\n",
    "if not isfile('cifar-10-python.tar.gz'):\n",
    "    with DLProgress(unit='B', unit_scale=True, miniters=1, desc='CIFAR-10 Dataset') as pbar:\n",
    "        urlretrieve(\n",
    "            'https://www.cs.toronto.edu/~kriz/cifar-10-python.tar.gz',\n",
    "            'cifar-10-python.tar.gz',\n",
    "            pbar.hook)\n",
    "\n",
    "if not isdir(cifar10_dataset_folder_path):\n",
    "    with tarfile.open('cifar-10-python.tar.gz') as tar:\n",
    "        tar.extractall()\n",
    "        tar.close()\n",
    "\n",
    "\n",
    "tests.test_folder_path(cifar10_dataset_folder_path)"
   ]
  },
  {
   "cell_type": "markdown",
   "metadata": {},
   "source": [
    "## Explore the Data\n",
    "The dataset is broken into batches to prevent your machine from running out of memory.  The CIFAR-10 dataset consists of 5 batches, named `data_batch_1`, `data_batch_2`, etc.. Each batch contains the labels and images that are one of the following:\n",
    "* airplane\n",
    "* automobile\n",
    "* bird\n",
    "* cat\n",
    "* deer\n",
    "* dog\n",
    "* frog\n",
    "* horse\n",
    "* ship\n",
    "* truck\n",
    "\n",
    "Understanding a dataset is part of making predictions on the data.  Play around with the code cell below by changing the `batch_id` and `sample_id`. The `batch_id` is the id for a batch (1-5). The `sample_id` is the id for a image and label pair in the batch.\n",
    "\n",
    "Ask yourself \"What are all possible labels?\", \"What is the range of values for the image data?\", \"Are the labels in order or random?\".  Answers to questions like these will help you preprocess the data and end up with better predictions."
   ]
  },
  {
   "cell_type": "code",
   "execution_count": 2,
   "metadata": {
    "collapsed": false
   },
   "outputs": [
    {
     "name": "stdout",
     "output_type": "stream",
     "text": [
      "\n",
      "Stats of batch 1:\n",
      "Samples: 10000\n",
      "Label Counts: {0: 1005, 1: 974, 2: 1032, 3: 1016, 4: 999, 5: 937, 6: 1030, 7: 1001, 8: 1025, 9: 981}\n",
      "First 20 Labels: [6, 9, 9, 4, 1, 1, 2, 7, 8, 3, 4, 7, 7, 2, 9, 9, 9, 3, 2, 6]\n",
      "\n",
      "Example of Image 5:\n",
      "Image - Min Value: 0 Max Value: 252\n",
      "Image - Shape: (32, 32, 3)\n",
      "Label - Label Id: 1 Name: automobile\n"
     ]
    },
    {
     "data": {
      "image/png": "[encoded data removed]",
      "text/plain": [
       "<matplotlib.figure.Figure at 0x7fea70f0e8d0>"
      ]
     },
     "metadata": {
      "image/png": {
       "height": 250,
       "width": 253
      }
     },
     "output_type": "display_data"
    }
   ],
   "source": [
    "%matplotlib inline\n",
    "%config InlineBackend.figure_format = 'retina'\n",
    "\n",
    "import helper\n",
    "import numpy as np\n",
    "\n",
    "# Explore the dataset\n",
    "batch_id = 1\n",
    "sample_id = 5\n",
    "helper.display_stats(cifar10_dataset_folder_path, batch_id, sample_id)"
   ]
  },
  {
   "cell_type": "code",
   "execution_count": 3,
   "metadata": {
    "collapsed": false
   },
   "outputs": [
    {
     "name": "stdout",
     "output_type": "stream",
     "text": [
      "\n",
      "Stats of batch 2:\n",
      "Samples: 10000\n",
      "Label Counts: {0: 984, 1: 1007, 2: 1010, 3: 995, 4: 1010, 5: 988, 6: 1008, 7: 1026, 8: 987, 9: 985}\n",
      "First 20 Labels: [1, 6, 6, 8, 8, 3, 4, 6, 0, 6, 0, 3, 6, 6, 5, 4, 8, 3, 2, 6]\n",
      "\n",
      "Example of Image 5000:\n",
      "Image - Min Value: 68 Max Value: 233\n",
      "Image - Shape: (32, 32, 3)\n",
      "Label - Label Id: 0 Name: airplane\n"
     ]
    },
    {
     "data": {
      "image/png": "[encoded data removed]",
      "text/plain": [
       "<matplotlib.figure.Figure at 0x7feabc63d710>"
      ]
     },
     "metadata": {
      "image/png": {
       "height": 250,
       "width": 253
      }
     },
     "output_type": "display_data"
    }
   ],
   "source": [
    "batch_id = 2\n",
    "sample_id = 5000\n",
    "helper.display_stats(cifar10_dataset_folder_path, batch_id, sample_id)"
   ]
  },
  {
   "cell_type": "code",
   "execution_count": 4,
   "metadata": {
    "collapsed": false,
    "scrolled": true
   },
   "outputs": [
    {
     "name": "stdout",
     "output_type": "stream",
     "text": [
      "\n",
      "Stats of batch 4:\n",
      "Samples: 10000\n",
      "Label Counts: {0: 1003, 1: 963, 2: 1041, 3: 976, 4: 1004, 5: 1021, 6: 1004, 7: 981, 8: 1024, 9: 983}\n",
      "First 20 Labels: [0, 6, 0, 2, 7, 2, 1, 2, 4, 1, 5, 6, 6, 3, 1, 3, 5, 5, 8, 1]\n",
      "\n",
      "Example of Image 9999:\n",
      "Image - Min Value: 0 Max Value: 255\n",
      "Image - Shape: (32, 32, 3)\n",
      "Label - Label Id: 8 Name: ship\n"
     ]
    },
    {
     "data": {
      "image/png": "[encoded data removed]",
      "text/plain": [
       "<matplotlib.figure.Figure at 0x7fea61240e48>"
      ]
     },
     "metadata": {
      "image/png": {
       "height": 250,
       "width": 253
      }
     },
     "output_type": "display_data"
    }
   ],
   "source": [
    "batch_id = 4\n",
    "sample_id = 9999\n",
    "helper.display_stats(cifar10_dataset_folder_path, batch_id, sample_id)"
   ]
  },
  {
   "cell_type": "markdown",
   "metadata": {},
   "source": [
    "##Lizhang \n",
    "\n",
    "There are total 10 classes. Each class is almost equaly split into these 5 batches. Labels are in random order. And the range of values of the image data is [0, 255].  \n",
    "Q1: Should I scale the range to [0, 255] for every image?   \n",
    "Q2 : If Yes, Linear scaling or depending on some statistic characteristic of that image?  "
   ]
  },
  {
   "cell_type": "markdown",
   "metadata": {},
   "source": [
    "## Implement Preprocess Functions\n",
    "### Normalize\n",
    "In the cell below, implement the `normalize` function to take in image data, `x`, and return it as a normalized Numpy array. The values should be in the range of 0 to 1, inclusive.  The return object should be the same shape as `x`."
   ]
  },
  {
   "cell_type": "code",
   "execution_count": 5,
   "metadata": {
    "collapsed": false
   },
   "outputs": [
    {
     "name": "stdout",
     "output_type": "stream",
     "text": [
      "Tests Passed\n"
     ]
    }
   ],
   "source": [
    "import numpy as np\n",
    "def normalize(x):\n",
    "    \"\"\"\n",
    "    Normalize a list of sample image data in the range of 0 to 1\n",
    "    : x: List of image data.  The image shape is (32, 32, 3)\n",
    "    : return: Numpy array of normalize data\n",
    "    \"\"\"\n",
    "    \n",
    "    # TODO: Implement Function\n",
    "#     x_ = x.astype(float)\n",
    "#     for img in x_:\n",
    "        \n",
    "#         for i in range(img.shape[0]):\n",
    "#             for j in range(img.shape[1]):\n",
    "#                 img[i,j,:] = (img[i,j,:] / sum(img[i, j, :]))\n",
    "#     return x_\n",
    "\n",
    "#     print (x.mean(), x.std())\n",
    "#     return (x - x.mean()) / x.std()\n",
    "    return x/255.0\n",
    "\n",
    "\n",
    "\"\"\"\n",
    "DON'T MODIFY ANYTHING IN THIS CELL THAT IS BELOW THIS LINE\n",
    "\"\"\"\n",
    "tests.test_normalize(normalize)"
   ]
  },
  {
   "cell_type": "code",
   "execution_count": 6,
   "metadata": {
    "collapsed": false
   },
   "outputs": [
    {
     "name": "stdout",
     "output_type": "stream",
     "text": [
      "(32, 32, 3)\n"
     ]
    }
   ],
   "source": [
    "x = np.random.rand(32,32,3)\n",
    "s = np.dsplit(x,3)\n",
    "mins = np.array([c.min() for c in s])\n",
    "maxs = np.array([c.max() for c in s])\n",
    "scale = 255. / (maxs - mins)\n",
    "y = np.array([(s[i] - mins[i]) * scale[i] for i in range(len(s))])\n",
    "y = np.dstack(y)\n",
    "print (y.shape)"
   ]
  },
  {
   "cell_type": "markdown",
   "metadata": {},
   "source": [
    "### One-hot encode\n",
    "Just like the previous code cell, you'll be implementing a function for preprocessing.  This time, you'll implement the `one_hot_encode` function. The input, `x`, are a list of labels.  Implement the function to return the list of labels as One-Hot encoded Numpy array.  The possible values for labels are 0 to 9. The one-hot encoding function should return the same encoding for each value between each call to `one_hot_encode`.  Make sure to save the map of encodings outside the function.\n",
    "\n",
    "Hint: Don't reinvent the wheel."
   ]
  },
  {
   "cell_type": "code",
   "execution_count": 7,
   "metadata": {
    "collapsed": false
   },
   "outputs": [
    {
     "name": "stdout",
     "output_type": "stream",
     "text": [
      "Tests Passed\n"
     ]
    }
   ],
   "source": [
    "def one_hot_encode(x):\n",
    "    \"\"\"\n",
    "    One hot encode a list of sample labels. Return a one-hot encoded vector for each label.\n",
    "    : x: List of sample Labels\n",
    "    : return: Numpy array of one-hot encoded labels\n",
    "    \"\"\"\n",
    "    # TODO: Implement Function\n",
    "    #alloc memory first\n",
    "    encodings = np.zeros((len(x), 10))\n",
    "    for i, l in enumerate(x):\n",
    "        encodings[i][l] = 1.\n",
    "    return encodings\n",
    "\n",
    "\n",
    "\"\"\"\n",
    "DON'T MODIFY ANYTHING IN THIS CELL THAT IS BELOW THIS LINE\n",
    "\"\"\"\n",
    "tests.test_one_hot_encode(one_hot_encode)"
   ]
  },
  {
   "cell_type": "markdown",
   "metadata": {},
   "source": [
    "### Randomize Data\n",
    "As you saw from exploring the data above, the order of the samples are randomized.  It doesn't hurt to randomize it again, but you don't need to for this dataset."
   ]
  },
  {
   "cell_type": "markdown",
   "metadata": {},
   "source": [
    "## Preprocess all the data and save it\n",
    "Running the code cell below will preprocess all the CIFAR-10 data and save it to file. The code below also uses 10% of the training data for validation."
   ]
  },
  {
   "cell_type": "code",
   "execution_count": 8,
   "metadata": {
    "collapsed": false
   },
   "outputs": [],
   "source": [
    "\"\"\"\n",
    "DON'T MODIFY ANYTHING IN THIS CELL\n",
    "\"\"\"\n",
    "# Preprocess Training, Validation, and Testing Data\n",
    "helper.preprocess_and_save_data(cifar10_dataset_folder_path, normalize, one_hot_encode)"
   ]
  },
  {
   "cell_type": "markdown",
   "metadata": {},
   "source": [
    "# Check Point\n",
    "This is your first checkpoint.  If you ever decide to come back to this notebook or have to restart the notebook, you can start from here.  The preprocessed data has been saved to disk."
   ]
  },
  {
   "cell_type": "code",
   "execution_count": 1,
   "metadata": {
    "collapsed": true
   },
   "outputs": [],
   "source": [
    "\"\"\"\n",
    "DON'T MODIFY ANYTHING IN THIS CELL\n",
    "\"\"\"\n",
    "import pickle\n",
    "import problem_unittests as tests\n",
    "import helper\n",
    "\n",
    "# Load the Preprocessed Validation data\n",
    "valid_features, valid_labels = pickle.load(open('preprocess_validation.p', mode='rb'))"
   ]
  },
  {
   "cell_type": "markdown",
   "metadata": {},
   "source": [
    "## Build the network\n",
    "For the neural network, you'll build each layer into a function.  Most of the code you've seen has been outside of functions. To test your code more thoroughly, we require that you put each layer in a function.  This allows us to give you better feedback and test for simple mistakes using our unittests before you submit your project.\n",
    "\n",
    "If you're finding it hard to dedicate enough time for this course a week, we've provided a small shortcut to this part of the project. In the next couple of problems, you'll have the option to use [TensorFlow Layers](https://www.tensorflow.org/api_docs/python/tf/layers) or [TensorFlow Layers (contrib)](https://www.tensorflow.org/api_guides/python/contrib.layers) to build each layer, except \"Convolutional & Max Pooling\" layer.  TF Layers is similar to Keras's and TFLearn's abstraction to layers, so it's easy to pickup.\n",
    "\n",
    "If you would like to get the most of this course, try to solve all the problems without TF Layers.  Let's begin!\n",
    "### Input\n",
    "The neural network needs to read the image data, one-hot encoded labels, and dropout keep probability. Implement the following functions\n",
    "* Implement `neural_net_image_input`\n",
    " * Return a [TF Placeholder](https://www.tensorflow.org/api_docs/python/tf/placeholder)\n",
    " * Set the shape using `image_shape` with batch size set to `None`.\n",
    " * Name the TensorFlow placeholder \"x\" using the TensorFlow `name` parameter in the [TF Placeholder](https://www.tensorflow.org/api_docs/python/tf/placeholder).\n",
    "* Implement `neural_net_label_input`\n",
    " * Return a [TF Placeholder](https://www.tensorflow.org/api_docs/python/tf/placeholder)\n",
    " * Set the shape using `n_classes` with batch size set to `None`.\n",
    " * Name the TensorFlow placeholder \"y\" using the TensorFlow `name` parameter in the [TF Placeholder](https://www.tensorflow.org/api_docs/python/tf/placeholder).\n",
    "* Implement `neural_net_keep_prob_input`\n",
    " * Return a [TF Placeholder](https://www.tensorflow.org/api_docs/python/tf/placeholder) for dropout keep probability.\n",
    " * Name the TensorFlow placeholder \"keep_prob\" using the TensorFlow `name` parameter in the [TF Placeholder](https://www.tensorflow.org/api_docs/python/tf/placeholder).\n",
    "\n",
    "These names will be used at the end of the project to load your saved model.\n",
    "\n",
    "Note: `None` for shapes in TensorFlow allow for a dynamic size."
   ]
  },
  {
   "cell_type": "code",
   "execution_count": 2,
   "metadata": {
    "collapsed": false
   },
   "outputs": [
    {
     "name": "stdout",
     "output_type": "stream",
     "text": [
      "(32, 32, 3)\n",
      "Image Input Tests Passed.\n",
      "Label Input Tests Passed.\n",
      "Keep Prob Tests Passed.\n"
     ]
    }
   ],
   "source": [
    "import tensorflow as tf\n",
    "\n",
    "def neural_net_image_input(image_shape):\n",
    "    \"\"\"\n",
    "    Return a Tensor for a bach of image input\n",
    "    : image_shape: Shape of the images\n",
    "    : return: Tensor for image input.\n",
    "    \"\"\"\n",
    "    # TODO: Implement Function\n",
    "    print (image_shape)\n",
    "    x = tf.placeholder(tf.float32, shape=[None]+list(image_shape), name='x')\n",
    "    return x\n",
    "\n",
    "\n",
    "def neural_net_label_input(n_classes):\n",
    "    \"\"\"\n",
    "    Return a Tensor for a batch of label input\n",
    "    : n_classes: Number of classes\n",
    "    : return: Tensor for label input.\n",
    "    \"\"\"\n",
    "    # TODO: Implement Function\n",
    "    y = tf.placeholder(tf.float32, shape=[None, n_classes], name='y')\n",
    "    return y\n",
    "\n",
    "\n",
    "def neural_net_keep_prob_input():\n",
    "    \"\"\"\n",
    "    Return a Tensor for keep probability\n",
    "    : return: Tensor for keep probability.\n",
    "    \"\"\"\n",
    "    # TODO: Implement Function\n",
    "    k = tf.placeholder(tf.float32, name='keep_prob')\n",
    "    return k\n",
    "\n",
    "\n",
    "\"\"\"\n",
    "DON'T MODIFY ANYTHING IN THIS CELL THAT IS BELOW THIS LINE\n",
    "\"\"\"\n",
    "tf.reset_default_graph()\n",
    "tests.test_nn_image_inputs(neural_net_image_input)\n",
    "tests.test_nn_label_inputs(neural_net_label_input)\n",
    "tests.test_nn_keep_prob_inputs(neural_net_keep_prob_input)"
   ]
  },
  {
   "cell_type": "markdown",
   "metadata": {},
   "source": [
    "### Convolution and Max Pooling Layer\n",
    "Convolution layers have a lot of success with images. For this code cell, you should implement the function `conv2d_maxpool` to apply convolution then max pooling:\n",
    "* Create the weight and bias using `conv_ksize`, `conv_num_outputs` and the shape of `x_tensor`.\n",
    "* Apply a convolution to `x_tensor` using weight and `conv_strides`.\n",
    " * We recommend you use same padding, but you're welcome to use any padding.\n",
    "* Add bias\n",
    "* Add a nonlinear activation to the convolution.\n",
    "* Apply Max Pooling using `pool_ksize` and `pool_strides`.\n",
    " * We recommend you use same padding, but you're welcome to use any padding.\n",
    "\n",
    "Note: You **can't** use [TensorFlow Layers](https://www.tensorflow.org/api_docs/python/tf/layers) or [TensorFlow Layers (contrib)](https://www.tensorflow.org/api_guides/python/contrib.layers) for this layer.  You're free to use any TensorFlow package for all the other layers."
   ]
  },
  {
   "cell_type": "markdown",
   "metadata": {},
   "source": [
    "[tf.slice](https://www.tensorflow.org/api_docs/python/tf/slice)  \n",
    "[tf.reshape](https://www.tensorflow.org/api_docs/python/tf/reshape)  \n",
    "[tf.slice_stride](https://www.tensorflow.org/api_docs/python/tf/strided_slice)  \n",
    "[tf.transpose](https://www.tensorflow.org/api_docs/python/tf/transpose)  \n",
    "[tf.nn.convolution](https://www.tensorflow.org/versions/master/api_docs/python/nn/convolution)  \n",
    "[stackoverflow conv2d](https://stackoverflow.com/questions/34619177/what-does-tf-nn-conv2d-do-in-tensorflow/34698115#34698115)  \n"
   ]
  },
  {
   "cell_type": "code",
   "execution_count": 3,
   "metadata": {
    "collapsed": false
   },
   "outputs": [
    {
     "name": "stdout",
     "output_type": "stream",
     "text": [
      "Tests Passed\n"
     ]
    }
   ],
   "source": [
    "def conv2d_maxpool(x_tensor, conv_num_outputs, conv_ksize, conv_strides, pool_ksize, pool_strides):\n",
    "    \"\"\"\n",
    "    Apply convolution then max pooling to x_tensor\n",
    "    :param x_tensor: TensorFlow Tensor\n",
    "    :param conv_num_outputs: Number of outputs for the convolutional layer\n",
    "    :param conv_strides: Stride 2-D Tuple for convolution\n",
    "    :param pool_ksize: kernal size 2-D Tuple for pool\n",
    "    :param pool_strides: Stride 2-D Tuple for pool\n",
    "    : return: A tensor that represents convolution and max pooling of x_tensor\n",
    "    \"\"\"\n",
    "    # TODO: Implement Function\n",
    "\n",
    "    #print (conv_num_outputs, conv_ksize, conv_strides, pool_ksize, pool_strides)\n",
    "    input_shape = x_tensor.get_shape().as_list()\n",
    "   \n",
    "\n",
    "    W = tf.Variable(tf.random_normal([conv_ksize[0], conv_ksize[1], input_shape[3], conv_num_outputs]))\n",
    "    b = tf.Variable(tf.random_normal([conv_num_outputs]))\n",
    "    \n",
    "    x = tf.nn.conv2d(x_tensor, W, strides=[1, conv_strides[0], conv_strides[1], 1], padding='SAME')\n",
    "    x = tf.nn.bias_add(x, b)\n",
    "    x = tf.nn.relu(x)\n",
    "    \n",
    "    x = tf.nn.max_pool(x, ksize=[1, pool_ksize[0], pool_ksize[1], 1], strides=[1, pool_strides[0], pool_strides[1], 1], padding='SAME')\n",
    "    return x \n",
    "\n",
    "\n",
    "\"\"\"\n",
    "DON'T MODIFY ANYTHING IN THIS CELL THAT IS BELOW THIS LINE\n",
    "\"\"\"\n",
    "tests.test_con_pool(conv2d_maxpool)"
   ]
  },
  {
   "cell_type": "markdown",
   "metadata": {},
   "source": [
    "### Flatten Layer\n",
    "Implement the `flatten` function to change the dimension of `x_tensor` from a 4-D tensor to a 2-D tensor.  The output should be the shape (*Batch Size*, *Flattened Image Size*). You can use [TensorFlow Layers](https://www.tensorflow.org/api_docs/python/tf/layers) or [TensorFlow Layers (contrib)](https://www.tensorflow.org/api_guides/python/contrib.layers) for this layer."
   ]
  },
  {
   "cell_type": "code",
   "execution_count": 4,
   "metadata": {
    "collapsed": false
   },
   "outputs": [
    {
     "name": "stdout",
     "output_type": "stream",
     "text": [
      "Tests Passed\n"
     ]
    }
   ],
   "source": [
    "def flatten(x_tensor):\n",
    "    \"\"\"\n",
    "    Flatten x_tensor to (Batch Size, Flattened Image Size)\n",
    "    : x_tensor: A tensor of size (Batch Size, ...), where ... are the image dimensions.\n",
    "    : return: A tensor of size (Batch Size, Flattened Image Size).\n",
    "    \"\"\"\n",
    "    # TODO: Implement Function\n",
    "    from functools import reduce\n",
    "    flat_length = reduce(lambda x,y: x*y, x_tensor.get_shape().as_list()[1:])\n",
    "    return tf.reshape(x_tensor, [-1, flat_length])\n",
    "\n",
    "\n",
    "\"\"\"\n",
    "DON'T MODIFY ANYTHING IN THIS CELL THAT IS BELOW THIS LINE\n",
    "\"\"\"\n",
    "tests.test_flatten(flatten)"
   ]
  },
  {
   "cell_type": "markdown",
   "metadata": {},
   "source": [
    "### Fully-Connected Layer\n",
    "Implement the `fully_conn` function to apply a fully connected layer to `x_tensor` with the shape (*Batch Size*, *num_outputs*). You can use [TensorFlow Layers](https://www.tensorflow.org/api_docs/python/tf/layers) or [TensorFlow Layers (contrib)](https://www.tensorflow.org/api_guides/python/contrib.layers) for this layer."
   ]
  },
  {
   "cell_type": "code",
   "execution_count": 5,
   "metadata": {
    "collapsed": false
   },
   "outputs": [
    {
     "name": "stdout",
     "output_type": "stream",
     "text": [
      "Tests Passed\n"
     ]
    }
   ],
   "source": [
    "def fully_conn(x_tensor, num_outputs):\n",
    "    \"\"\"\n",
    "    Apply a fully connected layer to x_tensor using weight and bias\n",
    "    : x_tensor: A 2-D tensor where the first dimension is batch size.\n",
    "    : num_outputs: The number of output that the new tensor should be.\n",
    "    : return: A 2-D tensor where the second dimension is num_outputs.\n",
    "    \"\"\"\n",
    "    # TODO: Implement Function\n",
    "    w = tf.Variable(tf.random_normal([x_tensor.get_shape().as_list()[1], num_outputs]))\n",
    "    b = tf.Variable(tf.random_normal([num_outputs]))\n",
    "    y = tf.nn.relu(tf.add(tf.matmul(x_tensor, w), b))\n",
    "    return y\n",
    "\n",
    "\n",
    "\"\"\"\n",
    "DON'T MODIFY ANYTHING IN THIS CELL THAT IS BELOW THIS LINE\n",
    "\"\"\"\n",
    "tests.test_fully_conn(fully_conn)"
   ]
  },
  {
   "cell_type": "markdown",
   "metadata": {},
   "source": [
    "### Output Layer\n",
    "Implement the `output` function to apply a fully connected layer to `x_tensor` with the shape (*Batch Size*, *num_outputs*). You can use [TensorFlow Layers](https://www.tensorflow.org/api_docs/python/tf/layers) or [TensorFlow Layers (contrib)](https://www.tensorflow.org/api_guides/python/contrib.layers) for this layer.\n",
    "\n",
    "Note: Activation, softmax, or cross entropy shouldn't be applied to this."
   ]
  },
  {
   "cell_type": "code",
   "execution_count": 6,
   "metadata": {
    "collapsed": false
   },
   "outputs": [
    {
     "name": "stdout",
     "output_type": "stream",
     "text": [
      "Tests Passed\n"
     ]
    }
   ],
   "source": [
    "def output(x_tensor, num_outputs):\n",
    "    \"\"\"\n",
    "    Apply a output layer to x_tensor using weight and bias\n",
    "    : x_tensor: A 2-D tensor where the first dimension is batch size.\n",
    "    : num_outputs: The number of output that the new tensor should be.\n",
    "    : return: A 2-D tensor where the second dimension is num_outputs.\n",
    "    \"\"\"\n",
    "    # TODO: Implement Function\n",
    "    w = tf.Variable(tf.random_normal([x_tensor.get_shape().as_list()[1], num_outputs]))\n",
    "    b = tf.Variable(tf.random_normal([num_outputs]))\n",
    "    y = tf.add(tf.matmul(x_tensor, w), b)\n",
    "    return y\n",
    "\n",
    "\n",
    "\"\"\"\n",
    "DON'T MODIFY ANYTHING IN THIS CELL THAT IS BELOW THIS LINE\n",
    "\"\"\"\n",
    "tests.test_output(output)"
   ]
  },
  {
   "cell_type": "markdown",
   "metadata": {},
   "source": [
    "### Create Convolutional Model\n",
    "Implement the function `conv_net` to create a convolutional neural network model. The function takes in a batch of images, `x`, and outputs logits.  Use the layers you created above to create this model:\n",
    "\n",
    "* Apply 1, 2, or 3 Convolution and Max Pool layers\n",
    "* Apply a Flatten Layer\n",
    "* Apply 1, 2, or 3 Fully Connected Layers\n",
    "* Apply an Output Layer\n",
    "* Return the output\n",
    "* Apply [TensorFlow's Dropout](https://www.tensorflow.org/api_docs/python/tf/nn/dropout) to one or more layers in the model using `keep_prob`. "
   ]
  },
  {
   "cell_type": "code",
   "execution_count": 7,
   "metadata": {
    "collapsed": false
   },
   "outputs": [
    {
     "name": "stdout",
     "output_type": "stream",
     "text": [
      "(32, 32, 3)\n",
      "Neural Network Built!\n"
     ]
    }
   ],
   "source": [
    "def conv_net(x, keep_prob):\n",
    "    \"\"\"\n",
    "    Create a convolutional neural network model\n",
    "    : x: Placeholder tensor that holds image data.\n",
    "    : keep_prob: Placeholder tensor that hold dropout keep probability.\n",
    "    : return: Tensor that represents logits\n",
    "    \"\"\"\n",
    "    # TODO: Apply 1, 2, or 3 Convolution and Max Pool layers\n",
    "    #    Play around with different number of outputs, kernel size and stride\n",
    "    # Function Definition from Above:\n",
    "    #    conv2d_maxpool(x_tensor, conv_num_outputs, conv_ksize, conv_strides, pool_ksize, pool_strides)\n",
    "    \n",
    "    #source image: 32x32x3\n",
    "    \n",
    "    conv = conv2d_maxpool(x, 64, [5,5], [1,1], [2,2], [2,2])\n",
    "\n",
    "    #conv = tf.nn.dropout(conv, keep_prob)\n",
    "    conv = conv2d_maxpool(conv, 128, [5,5],[1,1],[2,2],[2,2])\n",
    "    #conv = conv2d_maxpool(conv, 256, [5,5],[1,1],[2,2],[2,2])\n",
    "    #conv = tf.nn.dropout(conv, keep_prob)\n",
    "\n",
    "    # TODO: Apply a Flatten Layer\n",
    "    # Function Definition from Above:\n",
    "    #   flatten(x_tensor)\n",
    "    conv_out = flatten(conv)\n",
    "    \n",
    "\n",
    "    # TODO: Apply 1, 2, or 3 Fully Connected Layers\n",
    "    #    Play around with different number of outputs\n",
    "    # Function Definition from Above:\n",
    "    #   fully_conn(x_tensor, num_outputs)\n",
    "    fc = fully_conn(conv_out, 2048)\n",
    "\n",
    "    #fc = tf.nn.dropout(fc, keep_prob)\n",
    "    fc = fully_conn(fc, 3072)\n",
    "    #fc = fully_conn(fc, 512)\n",
    "    fc = tf.nn.dropout(fc, keep_prob)\n",
    "    \n",
    "    # TODO: Apply an Output Layer\n",
    "    #    Set this to the number of classes\n",
    "    # Function Definition from Above:\n",
    "    #   output(x_tensor, num_outputs)\n",
    "    logits = output(fc, 10)\n",
    "    \n",
    "    # TODO: return output\n",
    "    return logits\n",
    "\n",
    "\n",
    "\"\"\"\n",
    "DON'T MODIFY ANYTHING IN THIS CELL THAT IS BELOW THIS LINE\n",
    "\"\"\"\n",
    "\n",
    "##############################\n",
    "## Build the Neural Network ##\n",
    "##############################\n",
    "\n",
    "# Remove previous weights, bias, inputs, etc..\n",
    "tf.reset_default_graph()\n",
    "\n",
    "# Inputs\n",
    "x = neural_net_image_input((32, 32, 3))\n",
    "y = neural_net_label_input(10)\n",
    "keep_prob = neural_net_keep_prob_input()\n",
    "\n",
    "# Model\n",
    "logits = conv_net(x, keep_prob)\n",
    "\n",
    "# Name logits Tensor, so that is can be loaded from disk after training\n",
    "logits = tf.identity(logits, name='logits')\n",
    "\n",
    "# Loss and Optimizer\n",
    "cost = tf.reduce_mean(tf.nn.softmax_cross_entropy_with_logits(logits=logits, labels=y))\n",
    "optimizer = tf.train.AdamOptimizer().minimize(cost)\n",
    "\n",
    "# Accuracy\n",
    "correct_pred = tf.equal(tf.argmax(logits, 1), tf.argmax(y, 1))\n",
    "accuracy = tf.reduce_mean(tf.cast(correct_pred, tf.float32), name='accuracy')\n",
    "\n",
    "tests.test_conv_net(conv_net)"
   ]
  },
  {
   "cell_type": "markdown",
   "metadata": {},
   "source": [
    "## Train the Neural Network\n",
    "### Single Optimization\n",
    "Implement the function `train_neural_network` to do a single optimization.  The optimization should use `optimizer` to optimize in `session` with a `feed_dict` of the following:\n",
    "* `x` for image input\n",
    "* `y` for labels\n",
    "* `keep_prob` for keep probability for dropout\n",
    "\n",
    "This function will be called for each batch, so `tf.global_variables_initializer()` has already been called.\n",
    "\n",
    "Note: Nothing needs to be returned. This function is only optimizing the neural network."
   ]
  },
  {
   "cell_type": "code",
   "execution_count": 8,
   "metadata": {
    "collapsed": false
   },
   "outputs": [
    {
     "name": "stdout",
     "output_type": "stream",
     "text": [
      "Tests Passed\n"
     ]
    }
   ],
   "source": [
    "def train_neural_network(session, optimizer, keep_probability, feature_batch, label_batch):\n",
    "    \"\"\"\n",
    "    Optimize the session on a batch of images and labels\n",
    "    : session: Current TensorFlow session\n",
    "    : optimizer: TensorFlow optimizer function\n",
    "    : keep_probability: keep probability\n",
    "    : feature_batch: Batch of Numpy image data\n",
    "    : label_batch: Batch of Numpy label data\n",
    "    \"\"\"\n",
    "    # TODO: Implement Function\n",
    "    session.run(optimizer, feed_dict={x:feature_batch, y:label_batch, keep_prob:keep_probability})\n",
    "\n",
    "\n",
    "\"\"\"\n",
    "DON'T MODIFY ANYTHING IN THIS CELL THAT IS BELOW THIS LINE\n",
    "\"\"\"\n",
    "tests.test_train_nn(train_neural_network)"
   ]
  },
  {
   "cell_type": "markdown",
   "metadata": {},
   "source": [
    "### Show Stats\n",
    "Implement the function `print_stats` to print loss and validation accuracy.  Use the global variables `valid_features` and `valid_labels` to calculate validation accuracy.  Use a keep probability of `1.0` to calculate the loss and validation accuracy."
   ]
  },
  {
   "cell_type": "code",
   "execution_count": 9,
   "metadata": {
    "collapsed": false
   },
   "outputs": [],
   "source": [
    "def print_stats(session, feature_batch, label_batch, cost, accuracy):\n",
    "    \"\"\"\n",
    "    Print information about loss and validation accuracy\n",
    "    : session: Current TensorFlow session\n",
    "    : feature_batch: Batch of Numpy image data\n",
    "    : label_batch: Batch of Numpy label data\n",
    "    : cost: TensorFlow cost function\n",
    "    : accuracy: TensorFlow accuracy function\n",
    "    \"\"\"\n",
    "    # TODO: Implement Function\n",
    "    loss = session.run(cost, feed_dict={x:feature_batch, y:label_batch, keep_prob:1.0})\n",
    "    train_accu = session.run(accuracy, feed_dict={x:feature_batch, y:label_batch, keep_prob:1.0})\n",
    "    valid_accu = session.run(accuracy, feed_dict={x:valid_features, y:valid_labels, keep_prob:1.0})\n",
    "    print (\" - Loss: {:>10.4f} Trainning Accuracy: {:.6f} Validation Accuracy: {:.6f}\".format(loss, train_accu, valid_accu))\n",
    "    "
   ]
  },
  {
   "cell_type": "markdown",
   "metadata": {},
   "source": [
    "### Hyperparameters\n",
    "Tune the following parameters:\n",
    "* Set `epochs` to the number of iterations until the network stops learning or start overfitting\n",
    "* Set `batch_size` to the highest number that your machine has memory for.  Most people set them to common sizes of memory:\n",
    " * 64\n",
    " * 128\n",
    " * 256\n",
    " * ...\n",
    "* Set `keep_probability` to the probability of keeping a node using dropout"
   ]
  },
  {
   "cell_type": "code",
   "execution_count": 10,
   "metadata": {
    "collapsed": true
   },
   "outputs": [],
   "source": [
    "# TODO: Tune Parameters\n",
    "epochs = 128\n",
    "batch_size = 64\n",
    "keep_probability = 0.95"
   ]
  },
  {
   "cell_type": "markdown",
   "metadata": {},
   "source": [
    "### Train on a Single CIFAR-10 Batch\n",
    "Instead of training the neural network on all the CIFAR-10 batches of data, let's use a single batch. This should save time while you iterate on the model to get a better accuracy.  Once the final validation accuracy is 50% or greater, run the model on all the data in the next section."
   ]
  },
  {
   "cell_type": "code",
   "execution_count": null,
   "metadata": {
    "collapsed": false,
    "scrolled": true
   },
   "outputs": [
    {
     "name": "stdout",
     "output_type": "stream",
     "text": [
      "Checking the Training on a Single Batch...\n"
     ]
    }
   ],
   "source": [
    "\"\"\"\n",
    "DON'T MODIFY ANYTHING IN THIS CELL\n",
    "\"\"\"\n",
    "print('Checking the Training on a Single Batch...')\n",
    "with tf.Session() as sess:\n",
    "    # Initializing the variables\n",
    "    sess.run(tf.global_variables_initializer())\n",
    "    \n",
    "    # Training cycle\n",
    "    for epoch in range(epochs):\n",
    "        batch_i = 1\n",
    "        for batch_features, batch_labels in helper.load_preprocess_training_batch(batch_i, batch_size):\n",
    "            train_neural_network(sess, optimizer, keep_probability, batch_features, batch_labels)\n",
    "        print('Epoch {:>2}, CIFAR-10 Batch {}:  '.format(epoch + 1, batch_i), end='')\n",
    "        print_stats(sess, batch_features, batch_labels, cost, accuracy)"
   ]
  },
  {
   "cell_type": "markdown",
   "metadata": {},
   "source": [
    "### Fully Train the Model\n",
    "Now that you got a good accuracy with a single CIFAR-10 batch, try it with all five batches."
   ]
  },
  {
   "cell_type": "code",
   "execution_count": null,
   "metadata": {
    "collapsed": false,
    "scrolled": true
   },
   "outputs": [
    {
     "name": "stdout",
     "output_type": "stream",
     "text": [
      "Training...\n",
      "Epoch  1, CIFAR-10 Batch 1:   - Loss: 1967562.6250 0.325000 Validation Accuracy: 0.326800\n",
      "Epoch  1, CIFAR-10 Batch 2:   - Loss: 1049806.6250 0.475000 Validation Accuracy: 0.354800\n",
      "Epoch  1, CIFAR-10 Batch 3:   - Loss: 671681.0625 0.500000 Validation Accuracy: 0.388400\n",
      "Epoch  1, CIFAR-10 Batch 4:   - Loss: 381433.9375 0.475000 Validation Accuracy: 0.391400\n",
      "Epoch  1, CIFAR-10 Batch 5:   - Loss: 458570.0000 0.400000 Validation Accuracy: 0.389800\n",
      "Epoch  2, CIFAR-10 Batch 1:   - Loss: 379375.1875 0.400000 Validation Accuracy: 0.403400\n",
      "Epoch  2, CIFAR-10 Batch 2:   - Loss: 305187.5938 0.350000 Validation Accuracy: 0.405200\n",
      "Epoch  2, CIFAR-10 Batch 3:   - Loss: 193039.9531 0.425000 Validation Accuracy: 0.401800\n",
      "Epoch  2, CIFAR-10 Batch 4:   - Loss: 109100.3203 0.600000 Validation Accuracy: 0.390400\n",
      "Epoch  2, CIFAR-10 Batch 5:   - Loss: 190759.2188 0.375000 Validation Accuracy: 0.391800\n",
      "Epoch  3, CIFAR-10 Batch 1:   - Loss: 199059.5312 0.500000 Validation Accuracy: 0.395400\n",
      "Epoch  3, CIFAR-10 Batch 2:   - Loss: 104539.2812 0.425000 Validation Accuracy: 0.399000\n",
      "Epoch  3, CIFAR-10 Batch 3:   - Loss: 112292.0938 0.425000 Validation Accuracy: 0.409000\n",
      "Epoch  3, CIFAR-10 Batch 4:   - Loss: 72937.4531 0.650000 Validation Accuracy: 0.401000\n",
      "Epoch  3, CIFAR-10 Batch 5:   - Loss: 123359.0078 0.375000 Validation Accuracy: 0.407200\n",
      "Epoch  4, CIFAR-10 Batch 1:   - Loss: 105359.0312 0.450000 Validation Accuracy: 0.418800\n",
      "Epoch  4, CIFAR-10 Batch 2:   - Loss: 69210.5625 0.450000 Validation Accuracy: 0.402600\n",
      "Epoch  4, CIFAR-10 Batch 3:   - Loss: 76587.6641 0.450000 Validation Accuracy: 0.416800\n",
      "Epoch  4, CIFAR-10 Batch 4:   - Loss: 47011.5625 0.600000 Validation Accuracy: 0.407200\n",
      "Epoch  4, CIFAR-10 Batch 5:   - Loss: 76051.5469 0.350000 Validation Accuracy: 0.405800\n",
      "Epoch  5, CIFAR-10 Batch 1:   - Loss: 49327.6719 0.600000 Validation Accuracy: 0.421200\n",
      "Epoch  5, CIFAR-10 Batch 2:   - Loss: 37412.3516 0.575000 Validation Accuracy: 0.405000\n",
      "Epoch  5, CIFAR-10 Batch 3:   - Loss: 42162.2656 0.600000 Validation Accuracy: 0.410200\n",
      "Epoch  5, CIFAR-10 Batch 4:   - Loss: 30000.0273 0.600000 Validation Accuracy: 0.413400\n",
      "Epoch  5, CIFAR-10 Batch 5:   - Loss: 48531.2070 0.475000 Validation Accuracy: 0.422400\n",
      "Epoch  6, CIFAR-10 Batch 1:   - Loss: 22941.6152 0.625000 Validation Accuracy: 0.418000\n",
      "Epoch  6, CIFAR-10 Batch 2:   - Loss: 17081.8047 0.700000 Validation Accuracy: 0.408000\n",
      "Epoch  6, CIFAR-10 Batch 3:   - Loss: 14259.2090 0.650000 Validation Accuracy: 0.419400\n",
      "Epoch  6, CIFAR-10 Batch 4:   - Loss: 20109.1133 0.650000 Validation Accuracy: 0.421800\n",
      "Epoch  6, CIFAR-10 Batch 5:   - Loss: 15738.6309 0.700000 Validation Accuracy: 0.422200\n",
      "Epoch  7, CIFAR-10 Batch 1:   - Loss: 23470.3984 0.675000 Validation Accuracy: 0.424400\n",
      "Epoch  7, CIFAR-10 Batch 2:   - Loss: 16327.1807 0.700000 Validation Accuracy: 0.411000\n",
      "Epoch  7, CIFAR-10 Batch 3:   - Loss: 14916.7188 0.650000 Validation Accuracy: 0.431800\n",
      "Epoch  7, CIFAR-10 Batch 4:   - Loss:  9124.9434 0.750000 Validation Accuracy: 0.427400\n",
      "Epoch  7, CIFAR-10 Batch 5:   - Loss: 14323.1572 0.700000 Validation Accuracy: 0.422000\n",
      "Epoch  8, CIFAR-10 Batch 1:   - Loss: 17538.9590 0.725000 Validation Accuracy: 0.441800\n",
      "Epoch  8, CIFAR-10 Batch 2:   - Loss:  8732.9365 0.800000 Validation Accuracy: 0.420200\n",
      "Epoch  8, CIFAR-10 Batch 3:   - Loss:  4359.9561 0.875000 Validation Accuracy: 0.431000\n",
      "Epoch  8, CIFAR-10 Batch 4:   - Loss:  3304.1189 0.800000 Validation Accuracy: 0.428000\n",
      "Epoch  8, CIFAR-10 Batch 5:   - Loss: 12718.2812 0.700000 Validation Accuracy: 0.418000\n",
      "Epoch  9, CIFAR-10 Batch 1:   - Loss: 11040.7422 0.825000 Validation Accuracy: 0.432600\n",
      "Epoch  9, CIFAR-10 Batch 2:   - Loss:  1511.7366 0.900000 Validation Accuracy: 0.427800\n",
      "Epoch  9, CIFAR-10 Batch 3:   - Loss:  7172.0371 0.750000 Validation Accuracy: 0.444800\n",
      "Epoch  9, CIFAR-10 Batch 4:   - Loss:  5912.9502 0.775000 Validation Accuracy: 0.432200\n",
      "Epoch  9, CIFAR-10 Batch 5:   - Loss:  5356.7749 0.800000 Validation Accuracy: 0.441200\n",
      "Epoch 10, CIFAR-10 Batch 1:   - Loss:  7830.3345 0.850000 Validation Accuracy: 0.438600\n",
      "Epoch 10, CIFAR-10 Batch 2:   - Loss:  5982.5195 0.825000 Validation Accuracy: 0.420600\n",
      "Epoch 10, CIFAR-10 Batch 3:   - Loss:  2955.3086 0.850000 Validation Accuracy: 0.442200\n",
      "Epoch 10, CIFAR-10 Batch 4:   - Loss:  2833.4133 0.800000 Validation Accuracy: 0.440400\n",
      "Epoch 10, CIFAR-10 Batch 5:   - Loss:  3298.5525 0.875000 Validation Accuracy: 0.438400\n",
      "Epoch 11, CIFAR-10 Batch 1:   - Loss:  5698.7651 0.850000 Validation Accuracy: 0.452800\n",
      "Epoch 11, CIFAR-10 Batch 2:   - Loss:  2311.0967 0.875000 Validation Accuracy: 0.435600\n",
      "Epoch 11, CIFAR-10 Batch 3:   - Loss:  3376.4973 0.875000 Validation Accuracy: 0.453600\n",
      "Epoch 11, CIFAR-10 Batch 4:   - Loss:  2337.3562 0.875000 Validation Accuracy: 0.437800\n",
      "Epoch 11, CIFAR-10 Batch 5:   - Loss:  3754.2366 0.900000 Validation Accuracy: 0.444000\n",
      "Epoch 12, CIFAR-10 Batch 1:   - Loss:  6588.4297 0.800000 Validation Accuracy: 0.459600\n",
      "Epoch 12, CIFAR-10 Batch 2:   - Loss:  1263.1074 0.925000 Validation Accuracy: 0.436600\n",
      "Epoch 12, CIFAR-10 Batch 3:   - Loss:  1795.2290 0.900000 Validation Accuracy: 0.438800\n",
      "Epoch 12, CIFAR-10 Batch 4:   - Loss:  1403.9963 0.925000 Validation Accuracy: 0.453200\n",
      "Epoch 12, CIFAR-10 Batch 5:   - Loss:  1359.8131 0.925000 Validation Accuracy: 0.442200\n",
      "Epoch 13, CIFAR-10 Batch 1:   - Loss:  5340.5840 0.850000 Validation Accuracy: 0.451400\n",
      "Epoch 13, CIFAR-10 Batch 2:   - Loss:   520.4307 0.950000 Validation Accuracy: 0.435600\n",
      "Epoch 13, CIFAR-10 Batch 3:   - Loss:   673.0474 0.950000 Validation Accuracy: 0.460200\n",
      "Epoch 13, CIFAR-10 Batch 4:   - Loss:   493.3900 0.975000 Validation Accuracy: 0.465400\n",
      "Epoch 13, CIFAR-10 Batch 5:   - Loss:   190.5509 0.975000 Validation Accuracy: 0.458400\n",
      "Epoch 14, CIFAR-10 Batch 1:   - Loss:  1906.8197 0.900000 Validation Accuracy: 0.449600\n",
      "Epoch 14, CIFAR-10 Batch 2:   - Loss:   144.5393 0.975000 Validation Accuracy: 0.453200\n",
      "Epoch 14, CIFAR-10 Batch 3:   - Loss:   273.6275 0.975000 Validation Accuracy: 0.460400\n",
      "Epoch 14, CIFAR-10 Batch 4:   - Loss:  1885.9871 0.925000 Validation Accuracy: 0.464200\n",
      "Epoch 14, CIFAR-10 Batch 5:   - Loss:  1601.5792 0.950000 Validation Accuracy: 0.445600\n",
      "Epoch 15, CIFAR-10 Batch 1:   - Loss:  2228.0852 0.825000 Validation Accuracy: 0.460000\n",
      "Epoch 15, CIFAR-10 Batch 2:   - Loss:  1109.9514 0.925000 Validation Accuracy: 0.462000\n",
      "Epoch 15, CIFAR-10 Batch 3:   - Loss:   389.7440 0.975000 Validation Accuracy: 0.465000\n",
      "Epoch 15, CIFAR-10 Batch 4:   - Loss:   168.7132 0.975000 Validation Accuracy: 0.460400\n",
      "Epoch 15, CIFAR-10 Batch 5:   - Loss:  1182.3351 0.875000 Validation Accuracy: 0.434200\n",
      "Epoch 16, CIFAR-10 Batch 1:   - Loss:  2662.4941 0.875000 Validation Accuracy: 0.468400\n",
      "Epoch 16, CIFAR-10 Batch 2:   - Loss:    51.4980 0.975000 Validation Accuracy: 0.449400\n",
      "Epoch 16, CIFAR-10 Batch 3:   - Loss:   508.9097 0.950000 Validation Accuracy: 0.461000\n",
      "Epoch 16, CIFAR-10 Batch 4:   - Loss:    85.5401 0.975000 Validation Accuracy: 0.454200\n",
      "Epoch 16, CIFAR-10 Batch 5:   - Loss:     0.0000 1.000000 Validation Accuracy: 0.460000\n",
      "Epoch 17, CIFAR-10 Batch 1:   - Loss:   151.6625 0.975000 Validation Accuracy: 0.467600\n",
      "Epoch 17, CIFAR-10 Batch 2:   - Loss:    65.6535 0.975000 Validation Accuracy: 0.458200\n",
      "Epoch 17, CIFAR-10 Batch 3:   - Loss:   523.5491 0.975000 Validation Accuracy: 0.471600\n",
      "Epoch 17, CIFAR-10 Batch 4:   - Loss:   190.0328 0.975000 Validation Accuracy: 0.472600\n",
      "Epoch 17, CIFAR-10 Batch 5:   - Loss:   145.4014 0.975000 Validation Accuracy: 0.456600\n",
      "Epoch 18, CIFAR-10 Batch 1:   - Loss:   809.0555 0.925000 Validation Accuracy: 0.476800\n",
      "Epoch 18, CIFAR-10 Batch 2:   - Loss:   310.6172 0.975000 Validation Accuracy: 0.463400\n",
      "Epoch 18, CIFAR-10 Batch 3:   - Loss:  2823.9470 0.925000 Validation Accuracy: 0.469400\n",
      "Epoch 18, CIFAR-10 Batch 4:   - Loss:     0.0000 1.000000 Validation Accuracy: 0.472000\n",
      "Epoch 18, CIFAR-10 Batch 5:   - Loss:   438.2148 0.975000 Validation Accuracy: 0.458600\n",
      "Epoch 19, CIFAR-10 Batch 1:   - Loss:   570.7307 0.975000 Validation Accuracy: 0.475000\n",
      "Epoch 19, CIFAR-10 Batch 2:   - Loss:     0.0000 1.000000 Validation Accuracy: 0.460800\n",
      "Epoch 19, CIFAR-10 Batch 3:   - Loss:     0.0000 1.000000 Validation Accuracy: 0.462400\n",
      "Epoch 19, CIFAR-10 Batch 4:   - Loss:   892.6784 0.925000 Validation Accuracy: 0.477000\n",
      "Epoch 19, CIFAR-10 Batch 5:   - Loss:   393.7534 0.975000 Validation Accuracy: 0.471200\n",
      "Epoch 20, CIFAR-10 Batch 1:   - Loss:   916.1503 0.925000 Validation Accuracy: 0.470800\n",
      "Epoch 20, CIFAR-10 Batch 2:   - Loss:     0.0000 1.000000 Validation Accuracy: 0.470200\n",
      "Epoch 20, CIFAR-10 Batch 3:   - Loss:     0.0000 1.000000 Validation Accuracy: 0.481800\n",
      "Epoch 20, CIFAR-10 Batch 4:   - Loss:   181.9606 0.975000 Validation Accuracy: 0.478000\n",
      "Epoch 20, CIFAR-10 Batch 5:   - Loss:  1437.7841 0.950000 Validation Accuracy: 0.468200\n",
      "Epoch 21, CIFAR-10 Batch 1:   - Loss:   719.4705 0.950000 Validation Accuracy: 0.481000\n",
      "Epoch 21, CIFAR-10 Batch 2:   - Loss:     0.0000 1.000000 Validation Accuracy: 0.476600\n",
      "Epoch 21, CIFAR-10 Batch 3:   - Loss:     0.0000 1.000000 Validation Accuracy: 0.490400\n",
      "Epoch 21, CIFAR-10 Batch 4:   - Loss:    22.0298 0.950000 Validation Accuracy: 0.489800\n",
      "Epoch 21, CIFAR-10 Batch 5:   - Loss:     0.0000 1.000000 Validation Accuracy: 0.476000\n",
      "Epoch 22, CIFAR-10 Batch 1:   - Loss:   611.9505 0.975000 Validation Accuracy: 0.485800\n",
      "Epoch 22, CIFAR-10 Batch 2:   - Loss:   454.6814 0.925000 Validation Accuracy: 0.471800\n",
      "Epoch 22, CIFAR-10 Batch 3:   - Loss:     0.0000 1.000000 Validation Accuracy: 0.484400\n",
      "Epoch 22, CIFAR-10 Batch 4:   - Loss:   833.3766 0.950000 Validation Accuracy: 0.488200\n",
      "Epoch 22, CIFAR-10 Batch 5:   - Loss:    10.1674 0.975000 Validation Accuracy: 0.483000\n",
      "Epoch 23, CIFAR-10 Batch 1:   - Loss:   356.2180 0.975000 Validation Accuracy: 0.483000\n",
      "Epoch 23, CIFAR-10 Batch 2:   - Loss:   164.8473 0.975000 Validation Accuracy: 0.483400\n",
      "Epoch 23, CIFAR-10 Batch 3:   - Loss:   658.0869 0.975000 Validation Accuracy: 0.494800\n",
      "Epoch 23, CIFAR-10 Batch 4:   - Loss:     0.0000 1.000000 Validation Accuracy: 0.486000\n",
      "Epoch 23, CIFAR-10 Batch 5:   - Loss:     0.0000 1.000000 Validation Accuracy: 0.494800\n",
      "Epoch 24, CIFAR-10 Batch 1:   - Loss:   333.2963 0.975000 Validation Accuracy: 0.474400\n",
      "Epoch 24, CIFAR-10 Batch 2:   - Loss:   301.9613 0.975000 Validation Accuracy: 0.483400\n",
      "Epoch 24, CIFAR-10 Batch 3:   - Loss:   214.4480 0.975000 Validation Accuracy: 0.494200\n",
      "Epoch 24, CIFAR-10 Batch 4:   - Loss:   632.3860 0.925000 Validation Accuracy: 0.494200\n",
      "Epoch 24, CIFAR-10 Batch 5:   - Loss:     7.6326 0.975000 Validation Accuracy: 0.496000\n",
      "Epoch 25, CIFAR-10 Batch 1:   - Loss:   105.5772 0.975000 Validation Accuracy: 0.484600\n",
      "Epoch 25, CIFAR-10 Batch 2:   - Loss:    26.6714 0.975000 Validation Accuracy: 0.484200\n",
      "Epoch 25, CIFAR-10 Batch 3:   - Loss:   367.5064 0.950000 Validation Accuracy: 0.477600\n",
      "Epoch 25, CIFAR-10 Batch 4:   - Loss:     1.3438 0.975000 Validation Accuracy: 0.488800\n",
      "Epoch 25, CIFAR-10 Batch 5:   - Loss:   473.2911 0.925000 Validation Accuracy: 0.494600\n",
      "Epoch 26, CIFAR-10 Batch 1:   - Loss:   730.1024 0.925000 Validation Accuracy: 0.486800\n",
      "Epoch 26, CIFAR-10 Batch 2:   - Loss:     0.0000 1.000000 Validation Accuracy: 0.487400\n",
      "Epoch 26, CIFAR-10 Batch 3:   - Loss:     8.6639 0.975000 Validation Accuracy: 0.502000\n",
      "Epoch 26, CIFAR-10 Batch 4:   - Loss:   370.7442 0.975000 Validation Accuracy: 0.492800\n",
      "Epoch 26, CIFAR-10 Batch 5:   - Loss:     0.0000 1.000000 Validation Accuracy: 0.497800\n",
      "Epoch 27, CIFAR-10 Batch 1:   - Loss:   196.2766 0.950000 Validation Accuracy: 0.479400\n",
      "Epoch 27, CIFAR-10 Batch 2:   - Loss:     0.0000 1.000000 Validation Accuracy: 0.486800\n",
      "Epoch 27, CIFAR-10 Batch 3:   - Loss:   166.7854 0.975000 Validation Accuracy: 0.491800\n",
      "Epoch 27, CIFAR-10 Batch 4:   - Loss:     0.0000 1.000000 Validation Accuracy: 0.479200\n",
      "Epoch 27, CIFAR-10 Batch 5:   - Loss:    97.3867 0.975000 Validation Accuracy: 0.502600\n",
      "Epoch 28, CIFAR-10 Batch 1:   - Loss:     0.0000 1.000000 Validation Accuracy: 0.495600\n",
      "Epoch 28, CIFAR-10 Batch 2:   - Loss:   207.6545 0.975000 Validation Accuracy: 0.474600\n",
      "Epoch 28, CIFAR-10 Batch 3:   - Loss:     0.0000 1.000000 Validation Accuracy: 0.503400\n",
      "Epoch 28, CIFAR-10 Batch 4:   - Loss:     0.0000 1.000000 Validation Accuracy: 0.501800\n",
      "Epoch 28, CIFAR-10 Batch 5:   - Loss:     6.4118 0.975000 Validation Accuracy: 0.499200\n",
      "Epoch 29, CIFAR-10 Batch 1:   - Loss:   334.4856 0.975000 Validation Accuracy: 0.501200\n",
      "Epoch 29, CIFAR-10 Batch 2:   - Loss:     0.0000 1.000000 Validation Accuracy: 0.496600\n",
      "Epoch 29, CIFAR-10 Batch 3:   - Loss:     0.0000 1.000000 Validation Accuracy: 0.501600\n",
      "Epoch 29, CIFAR-10 Batch 4:   - Loss:     0.0000 1.000000 Validation Accuracy: 0.507000\n",
      "Epoch 29, CIFAR-10 Batch 5:   - Loss:     0.0000 1.000000 Validation Accuracy: 0.504000\n",
      "Epoch 30, CIFAR-10 Batch 1:   - Loss:     0.0000 1.000000 Validation Accuracy: 0.502200\n",
      "Epoch 30, CIFAR-10 Batch 2:   - Loss:     0.0000 1.000000 Validation Accuracy: 0.502800\n",
      "Epoch 30, CIFAR-10 Batch 3:   - Loss:     0.0000 1.000000 Validation Accuracy: 0.499800\n",
      "Epoch 30, CIFAR-10 Batch 4:   - Loss:     0.0000 1.000000 Validation Accuracy: 0.510000\n",
      "Epoch 30, CIFAR-10 Batch 5:   - Loss:   320.5134 0.975000 Validation Accuracy: 0.511000\n",
      "Epoch 31, CIFAR-10 Batch 1:   - Loss:     0.0000 1.000000 Validation Accuracy: 0.498800\n",
      "Epoch 31, CIFAR-10 Batch 2:   - Loss:     0.0000 1.000000 Validation Accuracy: 0.510600\n",
      "Epoch 31, CIFAR-10 Batch 3:   - Loss:     0.0000 1.000000 Validation Accuracy: 0.506800\n",
      "Epoch 31, CIFAR-10 Batch 4:   - Loss:     0.0000 1.000000 Validation Accuracy: 0.502400\n",
      "Epoch 31, CIFAR-10 Batch 5:   - Loss:   155.3005 0.975000 Validation Accuracy: 0.504400\n",
      "Epoch 32, CIFAR-10 Batch 1:   - Loss:   298.0915 0.950000 Validation Accuracy: 0.504200\n",
      "Epoch 32, CIFAR-10 Batch 2:   - Loss:   632.6474 0.950000 Validation Accuracy: 0.496800\n",
      "Epoch 32, CIFAR-10 Batch 3:   - Loss:     0.0000 1.000000 Validation Accuracy: 0.510200\n",
      "Epoch 32, CIFAR-10 Batch 4:   - Loss:     0.0000 1.000000 Validation Accuracy: 0.500200\n",
      "Epoch 32, CIFAR-10 Batch 5:   - Loss:   460.5710 0.975000 Validation Accuracy: 0.494800\n",
      "Epoch 33, CIFAR-10 Batch 1:   - Loss:     0.0000 1.000000 Validation Accuracy: 0.508000\n",
      "Epoch 33, CIFAR-10 Batch 2:   - Loss:     0.0000 1.000000 Validation Accuracy: 0.500000\n",
      "Epoch 33, CIFAR-10 Batch 3:   - Loss:     0.0000 1.000000 Validation Accuracy: 0.503400\n",
      "Epoch 33, CIFAR-10 Batch 4:   - Loss:   131.4875 0.975000 Validation Accuracy: 0.504200\n",
      "Epoch 33, CIFAR-10 Batch 5:   - Loss:   376.6551 0.975000 Validation Accuracy: 0.512200\n",
      "Epoch 34, CIFAR-10 Batch 1:   - Loss:     0.0000 1.000000 Validation Accuracy: 0.510200\n",
      "Epoch 34, CIFAR-10 Batch 2:   - Loss:     0.0000 1.000000 Validation Accuracy: 0.507600\n",
      "Epoch 34, CIFAR-10 Batch 3:   - Loss:     0.0000 1.000000 Validation Accuracy: 0.512200\n",
      "Epoch 34, CIFAR-10 Batch 4:   - Loss:     0.0000 1.000000 Validation Accuracy: 0.503000\n",
      "Epoch 34, CIFAR-10 Batch 5:   - Loss:     0.0000 1.000000 Validation Accuracy: 0.507600\n",
      "Epoch 35, CIFAR-10 Batch 1:   - Loss:   504.8197 0.950000 Validation Accuracy: 0.503000\n",
      "Epoch 35, CIFAR-10 Batch 2:   - Loss:     0.0000 1.000000 Validation Accuracy: 0.503800\n",
      "Epoch 35, CIFAR-10 Batch 3:   - Loss:   122.7238 0.975000 Validation Accuracy: 0.512200\n",
      "Epoch 35, CIFAR-10 Batch 4:   - Loss:     0.0000 1.000000 Validation Accuracy: 0.505600\n",
      "Epoch 35, CIFAR-10 Batch 5:   - Loss:     0.0000 1.000000 Validation Accuracy: 0.508800\n",
      "Epoch 36, CIFAR-10 Batch 1:   - Loss:     0.0000 1.000000 Validation Accuracy: 0.507800\n",
      "Epoch 36, CIFAR-10 Batch 2:   - Loss:     0.0000 1.000000 Validation Accuracy: 0.497800\n",
      "Epoch 36, CIFAR-10 Batch 3:   - Loss:     0.0000 1.000000 Validation Accuracy: 0.511000\n",
      "Epoch 36, CIFAR-10 Batch 4:   - Loss:   653.7386 0.975000 Validation Accuracy: 0.514400\n",
      "Epoch 36, CIFAR-10 Batch 5:   - Loss:    73.7330 0.975000 Validation Accuracy: 0.499800\n",
      "Epoch 37, CIFAR-10 Batch 1:   - Loss:   286.7997 0.975000 Validation Accuracy: 0.507600\n",
      "Epoch 37, CIFAR-10 Batch 2:   - Loss:     0.0000 1.000000 Validation Accuracy: 0.506800\n",
      "Epoch 37, CIFAR-10 Batch 3:   - Loss:   197.2930 0.975000 Validation Accuracy: 0.518000\n",
      "Epoch 37, CIFAR-10 Batch 4:   - Loss:     0.0000 1.000000 Validation Accuracy: 0.514200\n",
      "Epoch 37, CIFAR-10 Batch 5:   - Loss:     0.0000 1.000000 Validation Accuracy: 0.514000\n",
      "Epoch 38, CIFAR-10 Batch 1:   - Loss:     0.0000 1.000000 Validation Accuracy: 0.507400\n",
      "Epoch 38, CIFAR-10 Batch 2:   - Loss:     0.0000 1.000000 Validation Accuracy: 0.513200\n",
      "Epoch 38, CIFAR-10 Batch 3:   - Loss:     0.0000 1.000000 Validation Accuracy: 0.519400\n",
      "Epoch 38, CIFAR-10 Batch 4:   - Loss:     0.0000 1.000000 Validation Accuracy: 0.517600\n",
      "Epoch 38, CIFAR-10 Batch 5:   - Loss:   416.0907 0.975000 Validation Accuracy: 0.521200\n",
      "Epoch 39, CIFAR-10 Batch 1:   - Loss:     0.0000 1.000000 Validation Accuracy: 0.500800\n",
      "Epoch 39, CIFAR-10 Batch 2:   - Loss:    18.3135 0.975000 Validation Accuracy: 0.515000\n",
      "Epoch 39, CIFAR-10 Batch 3:   - Loss:   510.6562 0.975000 Validation Accuracy: 0.523400\n",
      "Epoch 39, CIFAR-10 Batch 4:   - Loss:     0.0000 1.000000 Validation Accuracy: 0.524600\n",
      "Epoch 39, CIFAR-10 Batch 5:   - Loss:     0.0000 1.000000 Validation Accuracy: 0.517400\n",
      "Epoch 40, CIFAR-10 Batch 1:   - Loss:     0.0000 1.000000 Validation Accuracy: 0.520600\n",
      "Epoch 40, CIFAR-10 Batch 2:   - Loss:   355.1801 0.950000 Validation Accuracy: 0.518400\n",
      "Epoch 40, CIFAR-10 Batch 3:   - Loss:     0.0000 1.000000 Validation Accuracy: 0.516200\n",
      "Epoch 40, CIFAR-10 Batch 4:   - Loss:     0.0000 1.000000 Validation Accuracy: 0.512000\n",
      "Epoch 40, CIFAR-10 Batch 5:   - Loss:   349.2434 0.975000 Validation Accuracy: 0.528200\n",
      "Epoch 41, CIFAR-10 Batch 1:   - Loss:   113.9148 0.975000 Validation Accuracy: 0.516400\n",
      "Epoch 41, CIFAR-10 Batch 2:   - Loss:     0.0000 1.000000 Validation Accuracy: 0.523800\n",
      "Epoch 41, CIFAR-10 Batch 3:   - Loss:     0.0000 1.000000 Validation Accuracy: 0.519800\n",
      "Epoch 41, CIFAR-10 Batch 4:   - Loss:     0.0000 1.000000 Validation Accuracy: 0.512200\n",
      "Epoch 41, CIFAR-10 Batch 5:   - Loss:     0.0000 1.000000 Validation Accuracy: 0.515200\n",
      "Epoch 42, CIFAR-10 Batch 1:   - Loss:     0.0000 1.000000 Validation Accuracy: 0.513000\n",
      "Epoch 42, CIFAR-10 Batch 2:   - Loss:     0.0000 1.000000 Validation Accuracy: 0.505400\n",
      "Epoch 42, CIFAR-10 Batch 3:   - Loss:     0.0000 1.000000 Validation Accuracy: 0.522400\n",
      "Epoch 42, CIFAR-10 Batch 4:   - Loss:     0.0000 1.000000 Validation Accuracy: 0.516600\n",
      "Epoch 42, CIFAR-10 Batch 5:   - Loss:     0.0000 1.000000 Validation Accuracy: 0.520200\n",
      "Epoch 43, CIFAR-10 Batch 1:   - Loss:    32.8779 0.975000 Validation Accuracy: 0.518400\n",
      "Epoch 43, CIFAR-10 Batch 2:   - Loss:     0.0000 1.000000 Validation Accuracy: 0.512000\n",
      "Epoch 43, CIFAR-10 Batch 3:   - Loss:    23.4180 0.975000 Validation Accuracy: 0.525400\n",
      "Epoch 43, CIFAR-10 Batch 4:   - Loss:     0.0000 1.000000 Validation Accuracy: 0.509200\n",
      "Epoch 43, CIFAR-10 Batch 5:   - Loss:     0.0000 1.000000 Validation Accuracy: 0.529000\n",
      "Epoch 44, CIFAR-10 Batch 1:   - Loss:     0.0000 1.000000 Validation Accuracy: 0.522600\n",
      "Epoch 44, CIFAR-10 Batch 2:   - Loss:    14.5088 0.975000 Validation Accuracy: 0.510400\n",
      "Epoch 44, CIFAR-10 Batch 3:   - Loss:     0.0000 1.000000 Validation Accuracy: 0.519600\n",
      "Epoch 44, CIFAR-10 Batch 4:   - Loss:     0.0000 1.000000 Validation Accuracy: 0.526400\n",
      "Epoch 44, CIFAR-10 Batch 5:   - Loss:     0.0000 1.000000 Validation Accuracy: 0.510600\n",
      "Epoch 45, CIFAR-10 Batch 1:   - Loss:     0.0000 1.000000 Validation Accuracy: 0.516200\n",
      "Epoch 45, CIFAR-10 Batch 2:   - Loss:     0.0000 1.000000 Validation Accuracy: 0.515600\n",
      "Epoch 45, CIFAR-10 Batch 3:   - Loss:   791.2821 0.950000 Validation Accuracy: 0.520400\n",
      "Epoch 45, CIFAR-10 Batch 4:   - Loss:     0.0000 1.000000 Validation Accuracy: 0.518600\n",
      "Epoch 45, CIFAR-10 Batch 5:   - Loss:     0.0000 1.000000 Validation Accuracy: 0.513600\n",
      "Epoch 46, CIFAR-10 Batch 1:   - Loss:   887.5016 0.975000 Validation Accuracy: 0.516800\n",
      "Epoch 46, CIFAR-10 Batch 2:   - Loss:     0.0000 1.000000 Validation Accuracy: 0.521000\n",
      "Epoch 46, CIFAR-10 Batch 3:   - Loss:     0.0000 1.000000 Validation Accuracy: 0.519800\n",
      "Epoch 46, CIFAR-10 Batch 4:   - Loss:    94.4218 0.950000 Validation Accuracy: 0.519200\n",
      "Epoch 46, CIFAR-10 Batch 5:   - Loss:   368.9834 0.950000 Validation Accuracy: 0.517800\n",
      "Epoch 47, CIFAR-10 Batch 1:   - Loss:     0.0000 1.000000 Validation Accuracy: 0.522200\n",
      "Epoch 47, CIFAR-10 Batch 2:   - Loss:     0.0000 1.000000 Validation Accuracy: 0.511400\n",
      "Epoch 47, CIFAR-10 Batch 3:   - Loss:     0.0000 1.000000 Validation Accuracy: 0.520600\n",
      "Epoch 47, CIFAR-10 Batch 4:   - Loss:   274.0172 0.975000 Validation Accuracy: 0.512400\n",
      "Epoch 47, CIFAR-10 Batch 5:   - Loss:     0.0000 1.000000 Validation Accuracy: 0.514400\n",
      "Epoch 48, CIFAR-10 Batch 1:   - Loss:     0.0000 1.000000 Validation Accuracy: 0.527600\n",
      "Epoch 48, CIFAR-10 Batch 2:   - Loss:     0.0000 1.000000 Validation Accuracy: 0.516600\n",
      "Epoch 48, CIFAR-10 Batch 3:   - Loss:     0.0000 1.000000 Validation Accuracy: 0.522200\n",
      "Epoch 48, CIFAR-10 Batch 4:   - Loss:     0.0000 1.000000 Validation Accuracy: 0.517000\n",
      "Epoch 48, CIFAR-10 Batch 5:   - Loss:     0.0000 1.000000 Validation Accuracy: 0.525200\n",
      "Epoch 49, CIFAR-10 Batch 1:   - Loss:   142.6067 0.975000 Validation Accuracy: 0.515600\n",
      "Epoch 49, CIFAR-10 Batch 2:   - Loss:     0.0000 1.000000 Validation Accuracy: 0.518800\n",
      "Epoch 49, CIFAR-10 Batch 3:   - Loss:     0.0000 1.000000 Validation Accuracy: 0.517400\n",
      "Epoch 49, CIFAR-10 Batch 4:   - Loss:   268.5906 0.975000 Validation Accuracy: 0.520000\n",
      "Epoch 49, CIFAR-10 Batch 5:   - Loss:     0.0000 1.000000 Validation Accuracy: 0.513600\n",
      "Epoch 50, CIFAR-10 Batch 1:   - Loss:   123.0691 0.950000 Validation Accuracy: 0.524600\n",
      "Epoch 50, CIFAR-10 Batch 2:   - Loss:     0.0000 1.000000 Validation Accuracy: 0.523800\n",
      "Epoch 50, CIFAR-10 Batch 3:   - Loss:   356.4320 0.975000 Validation Accuracy: 0.521800\n",
      "Epoch 50, CIFAR-10 Batch 4:   - Loss:     0.0000 1.000000 Validation Accuracy: 0.512800\n",
      "Epoch 50, CIFAR-10 Batch 5:   - Loss:   256.5029 0.975000 Validation Accuracy: 0.515800\n",
      "Epoch 51, CIFAR-10 Batch 1:   - Loss:     0.0000 1.000000 Validation Accuracy: 0.531600\n",
      "Epoch 51, CIFAR-10 Batch 2:   - Loss:     0.0000 1.000000 Validation Accuracy: 0.521000\n",
      "Epoch 51, CIFAR-10 Batch 3:   - Loss:    71.3328 0.975000 Validation Accuracy: 0.517200\n",
      "Epoch 51, CIFAR-10 Batch 4:   - Loss:     0.0000 1.000000 Validation Accuracy: 0.530000\n",
      "Epoch 51, CIFAR-10 Batch 5:   - Loss:     0.0000 1.000000 Validation Accuracy: 0.531200\n",
      "Epoch 52, CIFAR-10 Batch 1:   - Loss:     0.0000 1.000000 Validation Accuracy: 0.524600\n",
      "Epoch 52, CIFAR-10 Batch 2:   - Loss:     0.0000 1.000000 Validation Accuracy: 0.520800\n",
      "Epoch 52, CIFAR-10 Batch 3:   - Loss:     0.0000 1.000000 Validation Accuracy: 0.535200\n",
      "Epoch 52, CIFAR-10 Batch 4:   - Loss:   321.1502 0.975000 Validation Accuracy: 0.526400\n",
      "Epoch 52, CIFAR-10 Batch 5:   - Loss:     0.0000 1.000000 Validation Accuracy: 0.528400\n",
      "Epoch 53, CIFAR-10 Batch 1:   - Loss:     0.0000 1.000000 Validation Accuracy: 0.518200\n",
      "Epoch 53, CIFAR-10 Batch 2:   - Loss:     0.0000 1.000000 Validation Accuracy: 0.535000\n",
      "Epoch 53, CIFAR-10 Batch 3:   - Loss:     0.0000 1.000000 Validation Accuracy: 0.533400\n",
      "Epoch 53, CIFAR-10 Batch 4:   - Loss:     0.0000 1.000000 Validation Accuracy: 0.534200\n",
      "Epoch 53, CIFAR-10 Batch 5:   - Loss:     0.0000 1.000000 Validation Accuracy: 0.512800\n",
      "Epoch 54, CIFAR-10 Batch 1:   - Loss:     0.0000 1.000000 Validation Accuracy: 0.519000\n",
      "Epoch 54, CIFAR-10 Batch 2:   - Loss:     0.0000 1.000000 Validation Accuracy: 0.518600\n",
      "Epoch 54, CIFAR-10 Batch 3:   - Loss:     0.0000 1.000000 Validation Accuracy: 0.525400\n",
      "Epoch 54, CIFAR-10 Batch 4:   - Loss:     0.0000 1.000000 Validation Accuracy: 0.526200\n",
      "Epoch 54, CIFAR-10 Batch 5:   - Loss:     0.0000 1.000000 Validation Accuracy: 0.522800\n",
      "Epoch 55, CIFAR-10 Batch 1:   - Loss:    79.2597 0.975000 Validation Accuracy: 0.510400\n",
      "Epoch 55, CIFAR-10 Batch 2:   - Loss:     0.0000 1.000000 Validation Accuracy: 0.520800\n",
      "Epoch 55, CIFAR-10 Batch 3:   - Loss:     0.0000 1.000000 Validation Accuracy: 0.534600\n",
      "Epoch 55, CIFAR-10 Batch 4:   - Loss:     0.0000 1.000000 Validation Accuracy: 0.517600\n",
      "Epoch 55, CIFAR-10 Batch 5:   - Loss:     0.0000 1.000000 Validation Accuracy: 0.523200\n",
      "Epoch 56, CIFAR-10 Batch 1:   - Loss:     0.0000 1.000000 Validation Accuracy: 0.540800\n",
      "Epoch 56, CIFAR-10 Batch 2:   - Loss:     0.0000 1.000000 Validation Accuracy: 0.517200\n",
      "Epoch 56, CIFAR-10 Batch 3:   - Loss:     0.0000 1.000000 Validation Accuracy: 0.533200\n",
      "Epoch 56, CIFAR-10 Batch 4:   - Loss:     0.0000 1.000000 Validation Accuracy: 0.536200\n",
      "Epoch 56, CIFAR-10 Batch 5:   - Loss:     0.0000 1.000000 Validation Accuracy: 0.529000\n",
      "Epoch 57, CIFAR-10 Batch 1:   - Loss:     0.0000 1.000000 Validation Accuracy: 0.533000\n",
      "Epoch 57, CIFAR-10 Batch 2:   - Loss:     0.0000 1.000000 Validation Accuracy: 0.533600\n",
      "Epoch 57, CIFAR-10 Batch 3:   - Loss:   330.2533 0.975000 Validation Accuracy: 0.535000\n",
      "Epoch 57, CIFAR-10 Batch 4:   - Loss:     0.0000 1.000000 Validation Accuracy: 0.525800\n",
      "Epoch 57, CIFAR-10 Batch 5:   - Loss:   465.8798 0.950000 Validation Accuracy: 0.534000\n",
      "Epoch 58, CIFAR-10 Batch 1:   - Loss:    25.0514 0.975000 Validation Accuracy: 0.527000\n",
      "Epoch 58, CIFAR-10 Batch 2:   - Loss:     0.0000 1.000000 Validation Accuracy: 0.520800\n",
      "Epoch 58, CIFAR-10 Batch 3:   - Loss:     0.0000 1.000000 Validation Accuracy: 0.538000\n",
      "Epoch 58, CIFAR-10 Batch 4:   - Loss:     0.0000 1.000000 Validation Accuracy: 0.531800\n",
      "Epoch 58, CIFAR-10 Batch 5:   - Loss:     0.0000 1.000000 Validation Accuracy: 0.532800\n",
      "Epoch 59, CIFAR-10 Batch 1:   - Loss:     0.0000 1.000000 Validation Accuracy: 0.521200\n",
      "Epoch 59, CIFAR-10 Batch 2:   - Loss:     0.0000 1.000000 Validation Accuracy: 0.530200\n",
      "Epoch 59, CIFAR-10 Batch 3:   - Loss:     0.0000 1.000000 Validation Accuracy: 0.543000\n",
      "Epoch 59, CIFAR-10 Batch 4:   - Loss:     0.0000 1.000000 Validation Accuracy: 0.532400\n",
      "Epoch 59, CIFAR-10 Batch 5:   - Loss:     0.0000 1.000000 Validation Accuracy: 0.526000\n",
      "Epoch 60, CIFAR-10 Batch 1:   - Loss:     0.0000 1.000000 Validation Accuracy: 0.533400\n",
      "Epoch 60, CIFAR-10 Batch 2:   - Loss:     0.0000 1.000000 Validation Accuracy: 0.531400\n",
      "Epoch 60, CIFAR-10 Batch 3:   - Loss:    28.9160 0.975000 Validation Accuracy: 0.541800\n",
      "Epoch 60, CIFAR-10 Batch 4:   - Loss:   606.5444 0.975000 Validation Accuracy: 0.536000\n",
      "Epoch 60, CIFAR-10 Batch 5:   - Loss:     0.0000 1.000000 Validation Accuracy: 0.539200\n",
      "Epoch 61, CIFAR-10 Batch 1:   - Loss:     0.0000 1.000000 Validation Accuracy: 0.538000\n",
      "Epoch 61, CIFAR-10 Batch 2:   - Loss:     0.0000 1.000000 Validation Accuracy: 0.525600\n",
      "Epoch 61, CIFAR-10 Batch 3:   - Loss:     0.0000 1.000000 Validation Accuracy: 0.544600\n",
      "Epoch 61, CIFAR-10 Batch 4:   - Loss:     0.0000 1.000000 Validation Accuracy: 0.531800\n",
      "Epoch 61, CIFAR-10 Batch 5:   - Loss:     0.0000 1.000000 Validation Accuracy: 0.534200\n",
      "Epoch 62, CIFAR-10 Batch 1:   - Loss:     0.0000 1.000000 Validation Accuracy: 0.530200\n",
      "Epoch 62, CIFAR-10 Batch 2:   - Loss:     0.0000 1.000000 Validation Accuracy: 0.552800\n",
      "Epoch 62, CIFAR-10 Batch 3:   - Loss:     0.0000 1.000000 Validation Accuracy: 0.547200\n",
      "Epoch 62, CIFAR-10 Batch 4:   - Loss:     0.0000 1.000000 Validation Accuracy: 0.536800\n",
      "Epoch 62, CIFAR-10 Batch 5:   - Loss:     0.0000 1.000000 Validation Accuracy: 0.531800\n",
      "Epoch 63, CIFAR-10 Batch 1:   - Loss:     0.0000 1.000000 Validation Accuracy: 0.534800\n",
      "Epoch 63, CIFAR-10 Batch 2:   - Loss:     0.0000 1.000000 Validation Accuracy: 0.528200\n",
      "Epoch 63, CIFAR-10 Batch 3:   - Loss:     0.0000 1.000000 Validation Accuracy: 0.546800\n",
      "Epoch 63, CIFAR-10 Batch 4:   - Loss:     0.0000 1.000000 Validation Accuracy: 0.532800\n",
      "Epoch 63, CIFAR-10 Batch 5:   - Loss:     0.0000 1.000000 Validation Accuracy: 0.532800\n",
      "Epoch 64, CIFAR-10 Batch 1:   - Loss:   296.1047 0.975000 Validation Accuracy: 0.539600\n",
      "Epoch 64, CIFAR-10 Batch 2:   - Loss:     0.0000 1.000000 Validation Accuracy: 0.538800\n",
      "Epoch 64, CIFAR-10 Batch 3:   - Loss:     0.0000 1.000000 Validation Accuracy: 0.546600\n",
      "Epoch 64, CIFAR-10 Batch 4:   - Loss:     0.0000 1.000000 Validation Accuracy: 0.540200\n",
      "Epoch 64, CIFAR-10 Batch 5:   - Loss:     0.0000 1.000000 Validation Accuracy: 0.539200\n",
      "Epoch 65, CIFAR-10 Batch 1:   - Loss:     0.0000 1.000000 Validation Accuracy: 0.533000\n",
      "Epoch 65, CIFAR-10 Batch 2:   - Loss:     0.0000 1.000000 Validation Accuracy: 0.536000\n",
      "Epoch 65, CIFAR-10 Batch 3:   - Loss:    26.9108 0.975000 Validation Accuracy: 0.532000\n",
      "Epoch 65, CIFAR-10 Batch 4:   - Loss:   737.7062 0.975000 Validation Accuracy: 0.531400\n",
      "Epoch 65, CIFAR-10 Batch 5:   - Loss:     0.0000 1.000000 Validation Accuracy: 0.537800\n",
      "Epoch 66, CIFAR-10 Batch 1:   - Loss:     0.0000 1.000000 Validation Accuracy: 0.528200\n",
      "Epoch 66, CIFAR-10 Batch 2:   - Loss:     0.0000 1.000000 Validation Accuracy: 0.527000\n",
      "Epoch 66, CIFAR-10 Batch 3:   - Loss:     0.0000 1.000000 Validation Accuracy: 0.547600\n",
      "Epoch 66, CIFAR-10 Batch 4:   - Loss:     0.0000 1.000000 Validation Accuracy: 0.532200\n"
     ]
    }
   ],
   "source": [
    "\"\"\"\n",
    "DON'T MODIFY ANYTHING IN THIS CELL\n",
    "\"\"\"\n",
    "save_model_path = './image_classification'\n",
    "\n",
    "print('Training...')\n",
    "with tf.Session() as sess:\n",
    "    # Initializing the variables\n",
    "    sess.run(tf.global_variables_initializer())\n",
    "    \n",
    "    # Training cycle\n",
    "    for epoch in range(epochs):\n",
    "        # Loop over all batches\n",
    "        n_batches = 5\n",
    "        for batch_i in range(1, n_batches + 1):\n",
    "            for batch_features, batch_labels in helper.load_preprocess_training_batch(batch_i, batch_size):\n",
    "                train_neural_network(sess, optimizer, keep_probability, batch_features, batch_labels)\n",
    "            print('Epoch {:>2}, CIFAR-10 Batch {}:  '.format(epoch + 1, batch_i), end='')\n",
    "            print_stats(sess, batch_features, batch_labels, cost, accuracy)\n",
    "            \n",
    "    # Save Model\n",
    "    saver = tf.train.Saver()\n",
    "    save_path = saver.save(sess, save_model_path)"
   ]
  },
  {
   "cell_type": "markdown",
   "metadata": {},
   "source": [
    "\n",
    "\n",
    "\n",
    "\n",
    "# Checkpoint\n",
    "The model has been saved to disk.\n",
    "## Test Model\n",
    "Test your model against the test dataset.  This will be your final accuracy. You should have an accuracy greater than 50%. If you don't, keep tweaking the model architecture and parameters."
   ]
  },
  {
   "cell_type": "code",
   "execution_count": 1,
   "metadata": {
    "collapsed": false
   },
   "outputs": [
    {
     "name": "stdout",
     "output_type": "stream",
     "text": [
      "Testing Accuracy: 0.5431926751592356\n",
      "\n"
     ]
    },
    {
     "data": {
      "image/png": "[encoded data removed]",
      "text/plain": [
       "<matplotlib.figure.Figure at 0x7f4eb39c20b8>"
      ]
     },
     "metadata": {
      "image/png": {
       "height": 319,
       "width": 349
      }
     },
     "output_type": "display_data"
    }
   ],
   "source": [
    "\"\"\"\n",
    "DON'T MODIFY ANYTHING IN THIS CELL\n",
    "\"\"\"\n",
    "%matplotlib inline\n",
    "%config InlineBackend.figure_format = 'retina'\n",
    "\n",
    "import tensorflow as tf\n",
    "import pickle\n",
    "import helper\n",
    "import random\n",
    "\n",
    "# Set batch size if not already set\n",
    "try:\n",
    "    if batch_size:\n",
    "        pass\n",
    "except NameError:\n",
    "    batch_size = 64\n",
    "\n",
    "save_model_path = './image_classification'\n",
    "n_samples = 4\n",
    "top_n_predictions = 3\n",
    "\n",
    "def test_model():\n",
    "    \"\"\"\n",
    "    Test the saved model against the test dataset\n",
    "    \"\"\"\n",
    "\n",
    "    test_features, test_labels = pickle.load(open('preprocess_training.p', mode='rb'))\n",
    "    loaded_graph = tf.Graph()\n",
    "\n",
    "    with tf.Session(graph=loaded_graph) as sess:\n",
    "        # Load model\n",
    "        loader = tf.train.import_meta_graph(save_model_path + '.meta')\n",
    "        loader.restore(sess, save_model_path)\n",
    "\n",
    "        # Get Tensors from loaded model\n",
    "        loaded_x = loaded_graph.get_tensor_by_name('x:0')\n",
    "        loaded_y = loaded_graph.get_tensor_by_name('y:0')\n",
    "        loaded_keep_prob = loaded_graph.get_tensor_by_name('keep_prob:0')\n",
    "        loaded_logits = loaded_graph.get_tensor_by_name('logits:0')\n",
    "        loaded_acc = loaded_graph.get_tensor_by_name('accuracy:0')\n",
    "        \n",
    "        # Get accuracy in batches for memory limitations\n",
    "        test_batch_acc_total = 0\n",
    "        test_batch_count = 0\n",
    "        \n",
    "        for train_feature_batch, train_label_batch in helper.batch_features_labels(test_features, test_labels, batch_size):\n",
    "            test_batch_acc_total += sess.run(\n",
    "                loaded_acc,\n",
    "                feed_dict={loaded_x: train_feature_batch, loaded_y: train_label_batch, loaded_keep_prob: 1.0})\n",
    "            test_batch_count += 1\n",
    "\n",
    "        print('Testing Accuracy: {}\\n'.format(test_batch_acc_total/test_batch_count))\n",
    "\n",
    "        # Print Random Samples\n",
    "        random_test_features, random_test_labels = tuple(zip(*random.sample(list(zip(test_features, test_labels)), n_samples)))\n",
    "        random_test_predictions = sess.run(\n",
    "            tf.nn.top_k(tf.nn.softmax(loaded_logits), top_n_predictions),\n",
    "            feed_dict={loaded_x: random_test_features, loaded_y: random_test_labels, loaded_keep_prob: 1.0})\n",
    "        helper.display_image_predictions(random_test_features, random_test_labels, random_test_predictions)\n",
    "\n",
    "\n",
    "test_model()"
   ]
  },
  {
   "cell_type": "markdown",
   "metadata": {},
   "source": [
    "## Why 50-70% Accuracy?\n",
    "You might be wondering why you can't get an accuracy any higher. First things first, 50% isn't bad for a simple CNN.  Pure guessing would get you 10% accuracy. However, you might notice people are getting scores [well above 70%](http://rodrigob.github.io/are_we_there_yet/build/classification_datasets_results.html#43494641522d3130).  That's because we haven't taught you all there is to know about neural networks. We still need to cover a few more techniques.\n",
    "## Submitting This Project\n",
    "When submitting this project, make sure to run all the cells before saving the notebook.  Save the notebook file as \"dlnd_image_classification.ipynb\" and save it as a HTML file under \"File\" -> \"Download as\".  Include the \"helper.py\" and \"problem_unittests.py\" files in your submission."
   ]
  }
 ],
 "metadata": {
  "kernelspec": {
   "display_name": "tf1.0-py3.5",
   "language": "python",
   "name": "tf1.0"
  },
  "language_info": {
   "codemirror_mode": {
    "name": "ipython",
    "version": 3
   },
   "file_extension": ".py",
   "mimetype": "text/x-python",
   "name": "python",
   "nbconvert_exporter": "python",
   "pygments_lexer": "ipython3",
   "version": "3.5.2"
  }
 },
 "nbformat": 4,
 "nbformat_minor": 0
}
