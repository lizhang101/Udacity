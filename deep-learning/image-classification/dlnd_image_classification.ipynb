{
 "cells": [
  {
   "cell_type": "markdown",
   "metadata": {
    "collapsed": true,
    "deletable": true,
    "editable": true
   },
   "source": [
    "# Image Classification\n",
    "In this project, you'll classify images from the [CIFAR-10 dataset](https://www.cs.toronto.edu/~kriz/cifar.html).  The dataset consists of airplanes, dogs, cats, and other objects. You'll preprocess the images, then train a convolutional neural network on all the samples. The images need to be normalized and the labels need to be one-hot encoded.  You'll get to apply what you learned and build a convolutional, max pooling, dropout, and fully connected layers.  At the end, you'll get to see your neural network's predictions on the sample images.\n",
    "## Get the Data\n",
    "Run the following cell to download the [CIFAR-10 dataset for python](https://www.cs.toronto.edu/~kriz/cifar-10-python.tar.gz)."
   ]
  },
  {
   "cell_type": "code",
   "execution_count": 6,
   "metadata": {
    "collapsed": false,
    "deletable": true,
    "editable": true
   },
   "outputs": [
    {
     "name": "stdout",
     "output_type": "stream",
     "text": [
      "All files found!\n"
     ]
    }
   ],
   "source": [
    "\"\"\"\n",
    "DON'T MODIFY ANYTHING IN THIS CELL THAT IS BELOW THIS LINE\n",
    "\"\"\"\n",
    "from urllib.request import urlretrieve\n",
    "from os.path import isfile, isdir\n",
    "from tqdm import tqdm\n",
    "import problem_unittests as tests\n",
    "import tarfile\n",
    "\n",
    "cifar10_dataset_folder_path = 'cifar-10-batches-py'\n",
    "\n",
    "class DLProgress(tqdm):\n",
    "    last_block = 0\n",
    "\n",
    "    def hook(self, block_num=1, block_size=1, total_size=None):\n",
    "        self.total = total_size\n",
    "        self.update((block_num - self.last_block) * block_size)\n",
    "        self.last_block = block_num\n",
    "\n",
    "if not isfile('cifar-10-python.tar.gz'):\n",
    "    with DLProgress(unit='B', unit_scale=True, miniters=1, desc='CIFAR-10 Dataset') as pbar:\n",
    "        urlretrieve(\n",
    "            'https://www.cs.toronto.edu/~kriz/cifar-10-python.tar.gz',\n",
    "            'cifar-10-python.tar.gz',\n",
    "            pbar.hook)\n",
    "\n",
    "if not isdir(cifar10_dataset_folder_path):\n",
    "    with tarfile.open('cifar-10-python.tar.gz') as tar:\n",
    "        tar.extractall()\n",
    "        tar.close()\n",
    "\n",
    "\n",
    "tests.test_folder_path(cifar10_dataset_folder_path)"
   ]
  },
  {
   "cell_type": "markdown",
   "metadata": {
    "deletable": true,
    "editable": true
   },
   "source": [
    "## Explore the Data\n",
    "The dataset is broken into batches to prevent your machine from running out of memory.  The CIFAR-10 dataset consists of 5 batches, named `data_batch_1`, `data_batch_2`, etc.. Each batch contains the labels and images that are one of the following:\n",
    "* airplane\n",
    "* automobile\n",
    "* bird\n",
    "* cat\n",
    "* deer\n",
    "* dog\n",
    "* frog\n",
    "* horse\n",
    "* ship\n",
    "* truck\n",
    "\n",
    "Understanding a dataset is part of making predictions on the data.  Play around with the code cell below by changing the `batch_id` and `sample_id`. The `batch_id` is the id for a batch (1-5). The `sample_id` is the id for a image and label pair in the batch.\n",
    "\n",
    "Ask yourself \"What are all possible labels?\", \"What is the range of values for the image data?\", \"Are the labels in order or random?\".  Answers to questions like these will help you preprocess the data and end up with better predictions."
   ]
  },
  {
   "cell_type": "code",
   "execution_count": 7,
   "metadata": {
    "collapsed": false,
    "deletable": true,
    "editable": true
   },
   "outputs": [
    {
     "name": "stdout",
     "output_type": "stream",
     "text": [
      "\n",
      "Stats of batch 1:\n",
      "Samples: 10000\n",
      "Label Counts: {0: 1005, 1: 974, 2: 1032, 3: 1016, 4: 999, 5: 937, 6: 1030, 7: 1001, 8: 1025, 9: 981}\n",
      "First 20 Labels: [6, 9, 9, 4, 1, 1, 2, 7, 8, 3, 4, 7, 7, 2, 9, 9, 9, 3, 2, 6]\n",
      "\n",
      "Example of Image 5:\n",
      "Image - Min Value: 0 Max Value: 252\n",
      "Image - Shape: (32, 32, 3)\n",
      "Label - Label Id: 1 Name: automobile\n"
     ]
    },
    {
     "data": {
      "image/png": "[encoded data removed]",
      "text/plain": [
       "<matplotlib.figure.Figure at 0x7f8fc84e9080>"
      ]
     },
     "metadata": {
      "image/png": {
       "height": 250,
       "width": 253
      }
     },
     "output_type": "display_data"
    }
   ],
   "source": [
    "%matplotlib inline\n",
    "%config InlineBackend.figure_format = 'retina'\n",
    "\n",
    "import helper\n",
    "import numpy as np\n",
    "\n",
    "# Explore the dataset\n",
    "batch_id = 1\n",
    "sample_id = 5\n",
    "helper.display_stats(cifar10_dataset_folder_path, batch_id, sample_id)"
   ]
  },
  {
   "cell_type": "code",
   "execution_count": 8,
   "metadata": {
    "collapsed": false,
    "deletable": true,
    "editable": true
   },
   "outputs": [
    {
     "name": "stdout",
     "output_type": "stream",
     "text": [
      "\n",
      "Stats of batch 2:\n",
      "Samples: 10000\n",
      "Label Counts: {0: 984, 1: 1007, 2: 1010, 3: 995, 4: 1010, 5: 988, 6: 1008, 7: 1026, 8: 987, 9: 985}\n",
      "First 20 Labels: [1, 6, 6, 8, 8, 3, 4, 6, 0, 6, 0, 3, 6, 6, 5, 4, 8, 3, 2, 6]\n",
      "\n",
      "Example of Image 5000:\n",
      "Image - Min Value: 68 Max Value: 233\n",
      "Image - Shape: (32, 32, 3)\n",
      "Label - Label Id: 0 Name: airplane\n"
     ]
    },
    {
     "data": {
      "image/png": "[encoded data removed]",
      "text/plain": [
       "<matplotlib.figure.Figure at 0x7f8f67bbcfd0>"
      ]
     },
     "metadata": {
      "image/png": {
       "height": 250,
       "width": 253
      }
     },
     "output_type": "display_data"
    }
   ],
   "source": [
    "batch_id = 2\n",
    "sample_id = 5000\n",
    "helper.display_stats(cifar10_dataset_folder_path, batch_id, sample_id)"
   ]
  },
  {
   "cell_type": "code",
   "execution_count": 9,
   "metadata": {
    "collapsed": false,
    "deletable": true,
    "editable": true,
    "scrolled": true
   },
   "outputs": [
    {
     "name": "stdout",
     "output_type": "stream",
     "text": [
      "\n",
      "Stats of batch 4:\n",
      "Samples: 10000\n",
      "Label Counts: {0: 1003, 1: 963, 2: 1041, 3: 976, 4: 1004, 5: 1021, 6: 1004, 7: 981, 8: 1024, 9: 983}\n",
      "First 20 Labels: [0, 6, 0, 2, 7, 2, 1, 2, 4, 1, 5, 6, 6, 3, 1, 3, 5, 5, 8, 1]\n",
      "\n",
      "Example of Image 9999:\n",
      "Image - Min Value: 0 Max Value: 255\n",
      "Image - Shape: (32, 32, 3)\n",
      "Label - Label Id: 8 Name: ship\n"
     ]
    },
    {
     "data": {
      "image/png": "[encoded data removed]",
      "text/plain": [
       "<matplotlib.figure.Figure at 0x7f8f67b72400>"
      ]
     },
     "metadata": {
      "image/png": {
       "height": 250,
       "width": 253
      }
     },
     "output_type": "display_data"
    }
   ],
   "source": [
    "batch_id = 4\n",
    "sample_id = 9999\n",
    "helper.display_stats(cifar10_dataset_folder_path, batch_id, sample_id)"
   ]
  },
  {
   "cell_type": "markdown",
   "metadata": {
    "deletable": true,
    "editable": true
   },
   "source": [
    "##Lizhang \n",
    "\n",
    "There are total 10 classes. Each class is almost equaly split into these 5 batches. Labels are in random order. And the range of values of the image data is [0, 255].  \n",
    "Q1: Should I scale the range to [0, 255] for every image?   \n",
    "Q2 : If Yes, Linear scaling or depending on some statistic characteristic of that image?  "
   ]
  },
  {
   "cell_type": "markdown",
   "metadata": {
    "deletable": true,
    "editable": true
   },
   "source": [
    "## Implement Preprocess Functions\n",
    "### Normalize\n",
    "In the cell below, implement the `normalize` function to take in image data, `x`, and return it as a normalized Numpy array. The values should be in the range of 0 to 1, inclusive.  The return object should be the same shape as `x`."
   ]
  },
  {
   "cell_type": "code",
   "execution_count": 10,
   "metadata": {
    "collapsed": false,
    "deletable": true,
    "editable": true
   },
   "outputs": [
    {
     "name": "stdout",
     "output_type": "stream",
     "text": [
      "Tests Passed\n"
     ]
    }
   ],
   "source": [
    "import numpy as np\n",
    "def normalize(x):\n",
    "    \"\"\"\n",
    "    Normalize a list of sample image data in the range of 0 to 1\n",
    "    : x: List of image data.  The image shape is (32, 32, 3)\n",
    "    : return: Numpy array of normalize data\n",
    "    \"\"\"\n",
    "    \n",
    "    # TODO: Implement Function\n",
    "#     x_ = x.astype(float)\n",
    "#     for img in x_:\n",
    "        \n",
    "#         for i in range(img.shape[0]):\n",
    "#             for j in range(img.shape[1]):\n",
    "#                 img[i,j,:] = (img[i,j,:] / sum(img[i, j, :]))\n",
    "#     return x_\n",
    "\n",
    "#     print (x.mean(), x.std())\n",
    "#     return (x - x.mean()) / x.std()\n",
    "    return x/255.0\n",
    "\n",
    "\n",
    "\"\"\"\n",
    "DON'T MODIFY ANYTHING IN THIS CELL THAT IS BELOW THIS LINE\n",
    "\"\"\"\n",
    "tests.test_normalize(normalize)"
   ]
  },
  {
   "cell_type": "code",
   "execution_count": 11,
   "metadata": {
    "collapsed": false,
    "deletable": true,
    "editable": true
   },
   "outputs": [
    {
     "name": "stdout",
     "output_type": "stream",
     "text": [
      "(32, 32, 3)\n"
     ]
    }
   ],
   "source": [
    "x = np.random.rand(32,32,3)\n",
    "s = np.dsplit(x,3)\n",
    "mins = np.array([c.min() for c in s])\n",
    "maxs = np.array([c.max() for c in s])\n",
    "scale = 255. / (maxs - mins)\n",
    "y = np.array([(s[i] - mins[i]) * scale[i] for i in range(len(s))])\n",
    "y = np.dstack(y)\n",
    "print (y.shape)"
   ]
  },
  {
   "cell_type": "markdown",
   "metadata": {
    "deletable": true,
    "editable": true
   },
   "source": [
    "### One-hot encode\n",
    "Just like the previous code cell, you'll be implementing a function for preprocessing.  This time, you'll implement the `one_hot_encode` function. The input, `x`, are a list of labels.  Implement the function to return the list of labels as One-Hot encoded Numpy array.  The possible values for labels are 0 to 9. The one-hot encoding function should return the same encoding for each value between each call to `one_hot_encode`.  Make sure to save the map of encodings outside the function.\n",
    "\n",
    "Hint: Don't reinvent the wheel."
   ]
  },
  {
   "cell_type": "code",
   "execution_count": 12,
   "metadata": {
    "collapsed": false,
    "deletable": true,
    "editable": true
   },
   "outputs": [
    {
     "name": "stdout",
     "output_type": "stream",
     "text": [
      "Tests Passed\n"
     ]
    }
   ],
   "source": [
    "def one_hot_encode(x):\n",
    "    \"\"\"\n",
    "    One hot encode a list of sample labels. Return a one-hot encoded vector for each label.\n",
    "    : x: List of sample Labels\n",
    "    : return: Numpy array of one-hot encoded labels\n",
    "    \"\"\"\n",
    "    # TODO: Implement Function\n",
    "    #alloc memory first\n",
    "    encodings = np.zeros((len(x), 10))\n",
    "    for i, l in enumerate(x):\n",
    "        encodings[i][l] = 1.\n",
    "    return encodings\n",
    "\n",
    "\n",
    "\"\"\"\n",
    "DON'T MODIFY ANYTHING IN THIS CELL THAT IS BELOW THIS LINE\n",
    "\"\"\"\n",
    "tests.test_one_hot_encode(one_hot_encode)"
   ]
  },
  {
   "cell_type": "markdown",
   "metadata": {
    "deletable": true,
    "editable": true
   },
   "source": [
    "### Randomize Data\n",
    "As you saw from exploring the data above, the order of the samples are randomized.  It doesn't hurt to randomize it again, but you don't need to for this dataset."
   ]
  },
  {
   "cell_type": "markdown",
   "metadata": {
    "deletable": true,
    "editable": true
   },
   "source": [
    "## Preprocess all the data and save it\n",
    "Running the code cell below will preprocess all the CIFAR-10 data and save it to file. The code below also uses 10% of the training data for validation."
   ]
  },
  {
   "cell_type": "code",
   "execution_count": 13,
   "metadata": {
    "collapsed": false,
    "deletable": true,
    "editable": true
   },
   "outputs": [],
   "source": [
    "\"\"\"\n",
    "DON'T MODIFY ANYTHING IN THIS CELL\n",
    "\"\"\"\n",
    "# Preprocess Training, Validation, and Testing Data\n",
    "helper.preprocess_and_save_data(cifar10_dataset_folder_path, normalize, one_hot_encode)"
   ]
  },
  {
   "cell_type": "markdown",
   "metadata": {
    "deletable": true,
    "editable": true
   },
   "source": [
    "# Check Point\n",
    "This is your first checkpoint.  If you ever decide to come back to this notebook or have to restart the notebook, you can start from here.  The preprocessed data has been saved to disk."
   ]
  },
  {
   "cell_type": "code",
   "execution_count": 1,
   "metadata": {
    "collapsed": false,
    "deletable": true,
    "editable": true
   },
   "outputs": [],
   "source": [
    "\"\"\"\n",
    "DON'T MODIFY ANYTHING IN THIS CELL\n",
    "\"\"\"\n",
    "import pickle\n",
    "import problem_unittests as tests\n",
    "import helper\n",
    "\n",
    "# Load the Preprocessed Validation data\n",
    "valid_features, valid_labels = pickle.load(open('preprocess_validation.p', mode='rb'))"
   ]
  },
  {
   "cell_type": "markdown",
   "metadata": {
    "deletable": true,
    "editable": true
   },
   "source": [
    "## Build the network\n",
    "For the neural network, you'll build each layer into a function.  Most of the code you've seen has been outside of functions. To test your code more thoroughly, we require that you put each layer in a function.  This allows us to give you better feedback and test for simple mistakes using our unittests before you submit your project.\n",
    "\n",
    "If you're finding it hard to dedicate enough time for this course a week, we've provided a small shortcut to this part of the project. In the next couple of problems, you'll have the option to use [TensorFlow Layers](https://www.tensorflow.org/api_docs/python/tf/layers) or [TensorFlow Layers (contrib)](https://www.tensorflow.org/api_guides/python/contrib.layers) to build each layer, except \"Convolutional & Max Pooling\" layer.  TF Layers is similar to Keras's and TFLearn's abstraction to layers, so it's easy to pickup.\n",
    "\n",
    "If you would like to get the most of this course, try to solve all the problems without TF Layers.  Let's begin!\n",
    "### Input\n",
    "The neural network needs to read the image data, one-hot encoded labels, and dropout keep probability. Implement the following functions\n",
    "* Implement `neural_net_image_input`\n",
    " * Return a [TF Placeholder](https://www.tensorflow.org/api_docs/python/tf/placeholder)\n",
    " * Set the shape using `image_shape` with batch size set to `None`.\n",
    " * Name the TensorFlow placeholder \"x\" using the TensorFlow `name` parameter in the [TF Placeholder](https://www.tensorflow.org/api_docs/python/tf/placeholder).\n",
    "* Implement `neural_net_label_input`\n",
    " * Return a [TF Placeholder](https://www.tensorflow.org/api_docs/python/tf/placeholder)\n",
    " * Set the shape using `n_classes` with batch size set to `None`.\n",
    " * Name the TensorFlow placeholder \"y\" using the TensorFlow `name` parameter in the [TF Placeholder](https://www.tensorflow.org/api_docs/python/tf/placeholder).\n",
    "* Implement `neural_net_keep_prob_input`\n",
    " * Return a [TF Placeholder](https://www.tensorflow.org/api_docs/python/tf/placeholder) for dropout keep probability.\n",
    " * Name the TensorFlow placeholder \"keep_prob\" using the TensorFlow `name` parameter in the [TF Placeholder](https://www.tensorflow.org/api_docs/python/tf/placeholder).\n",
    "\n",
    "These names will be used at the end of the project to load your saved model.\n",
    "\n",
    "Note: `None` for shapes in TensorFlow allow for a dynamic size."
   ]
  },
  {
   "cell_type": "code",
   "execution_count": 2,
   "metadata": {
    "collapsed": false,
    "deletable": true,
    "editable": true
   },
   "outputs": [
    {
     "name": "stdout",
     "output_type": "stream",
     "text": [
      "(32, 32, 3)\n",
      "Image Input Tests Passed.\n",
      "Label Input Tests Passed.\n",
      "Keep Prob Tests Passed.\n"
     ]
    }
   ],
   "source": [
    "import tensorflow as tf\n",
    "\n",
    "def neural_net_image_input(image_shape):\n",
    "    \"\"\"\n",
    "    Return a Tensor for a bach of image input\n",
    "    : image_shape: Shape of the images\n",
    "    : return: Tensor for image input.\n",
    "    \"\"\"\n",
    "    # TODO: Implement Function\n",
    "    print (image_shape)\n",
    "    x = tf.placeholder(tf.float32, shape=[None]+list(image_shape), name='x')\n",
    "    return x\n",
    "\n",
    "\n",
    "def neural_net_label_input(n_classes):\n",
    "    \"\"\"\n",
    "    Return a Tensor for a batch of label input\n",
    "    : n_classes: Number of classes\n",
    "    : return: Tensor for label input.\n",
    "    \"\"\"\n",
    "    # TODO: Implement Function\n",
    "    y = tf.placeholder(tf.float32, shape=[None, n_classes], name='y')\n",
    "    return y\n",
    "\n",
    "\n",
    "def neural_net_keep_prob_input():\n",
    "    \"\"\"\n",
    "    Return a Tensor for keep probability\n",
    "    : return: Tensor for keep probability.\n",
    "    \"\"\"\n",
    "    # TODO: Implement Function\n",
    "    k = tf.placeholder(tf.float32, name='keep_prob')\n",
    "    return k\n",
    "\n",
    "\n",
    "\"\"\"\n",
    "DON'T MODIFY ANYTHING IN THIS CELL THAT IS BELOW THIS LINE\n",
    "\"\"\"\n",
    "tf.reset_default_graph()\n",
    "tests.test_nn_image_inputs(neural_net_image_input)\n",
    "tests.test_nn_label_inputs(neural_net_label_input)\n",
    "tests.test_nn_keep_prob_inputs(neural_net_keep_prob_input)"
   ]
  },
  {
   "cell_type": "markdown",
   "metadata": {
    "deletable": true,
    "editable": true
   },
   "source": [
    "### Convolution and Max Pooling Layer\n",
    "Convolution layers have a lot of success with images. For this code cell, you should implement the function `conv2d_maxpool` to apply convolution then max pooling:\n",
    "* Create the weight and bias using `conv_ksize`, `conv_num_outputs` and the shape of `x_tensor`.\n",
    "* Apply a convolution to `x_tensor` using weight and `conv_strides`.\n",
    " * We recommend you use same padding, but you're welcome to use any padding.\n",
    "* Add bias\n",
    "* Add a nonlinear activation to the convolution.\n",
    "* Apply Max Pooling using `pool_ksize` and `pool_strides`.\n",
    " * We recommend you use same padding, but you're welcome to use any padding.\n",
    "\n",
    "Note: You **can't** use [TensorFlow Layers](https://www.tensorflow.org/api_docs/python/tf/layers) or [TensorFlow Layers (contrib)](https://www.tensorflow.org/api_guides/python/contrib.layers) for this layer.  You're free to use any TensorFlow package for all the other layers."
   ]
  },
  {
   "cell_type": "markdown",
   "metadata": {
    "deletable": true,
    "editable": true
   },
   "source": [
    "[tf.slice](https://www.tensorflow.org/api_docs/python/tf/slice)  \n",
    "[tf.reshape](https://www.tensorflow.org/api_docs/python/tf/reshape)  \n",
    "[tf.slice_stride](https://www.tensorflow.org/api_docs/python/tf/strided_slice)  \n",
    "[tf.transpose](https://www.tensorflow.org/api_docs/python/tf/transpose)  \n",
    "[tf.nn.convolution](https://www.tensorflow.org/versions/master/api_docs/python/nn/convolution)  \n",
    "[stackoverflow conv2d](https://stackoverflow.com/questions/34619177/what-does-tf-nn-conv2d-do-in-tensorflow/34698115#34698115)  \n"
   ]
  },
  {
   "cell_type": "code",
   "execution_count": 3,
   "metadata": {
    "collapsed": false,
    "deletable": true,
    "editable": true
   },
   "outputs": [
    {
     "name": "stdout",
     "output_type": "stream",
     "text": [
      "Tests Passed\n"
     ]
    }
   ],
   "source": [
    "def conv2d_maxpool(x_tensor, conv_num_outputs, conv_ksize, conv_strides, pool_ksize, pool_strides):\n",
    "    \"\"\"\n",
    "    Apply convolution then max pooling to x_tensor\n",
    "    :param x_tensor: TensorFlow Tensor\n",
    "    :param conv_num_outputs: Number of outputs for the convolutional layer\n",
    "    :param conv_strides: Stride 2-D Tuple for convolution\n",
    "    :param pool_ksize: kernal size 2-D Tuple for pool\n",
    "    :param pool_strides: Stride 2-D Tuple for pool\n",
    "    : return: A tensor that represents convolution and max pooling of x_tensor\n",
    "    \"\"\"\n",
    "    # TODO: Implement Function\n",
    "\n",
    "    #print (conv_num_outputs, conv_ksize, conv_strides, pool_ksize, pool_strides)\n",
    "    input_shape = x_tensor.get_shape().as_list()\n",
    "   \n",
    "    W = tf.Variable(tf.random_normal([conv_ksize[0], conv_ksize[1], input_shape[3], conv_num_outputs], stddev=0.1))\n",
    "    b = tf.Variable(tf.zeros([conv_num_outputs]))\n",
    "\n",
    "    \n",
    "    x = tf.nn.conv2d(x_tensor, W, strides=[1, conv_strides[0], conv_strides[1], 1], padding='SAME')\n",
    "    x = tf.nn.bias_add(x, b)\n",
    "    x = tf.nn.relu(x)\n",
    "    \n",
    "    x = tf.nn.max_pool(x, ksize=[1, pool_ksize[0], pool_ksize[1], 1], strides=[1, pool_strides[0], pool_strides[1], 1], padding='SAME')\n",
    "    return x \n",
    "\n",
    "\n",
    "\"\"\"\n",
    "DON'T MODIFY ANYTHING IN THIS CELL THAT IS BELOW THIS LINE\n",
    "\"\"\"\n",
    "tests.test_con_pool(conv2d_maxpool)"
   ]
  },
  {
   "cell_type": "markdown",
   "metadata": {
    "deletable": true,
    "editable": true
   },
   "source": [
    "### Flatten Layer\n",
    "Implement the `flatten` function to change the dimension of `x_tensor` from a 4-D tensor to a 2-D tensor.  The output should be the shape (*Batch Size*, *Flattened Image Size*). You can use [TensorFlow Layers](https://www.tensorflow.org/api_docs/python/tf/layers) or [TensorFlow Layers (contrib)](https://www.tensorflow.org/api_guides/python/contrib.layers) for this layer."
   ]
  },
  {
   "cell_type": "code",
   "execution_count": 4,
   "metadata": {
    "collapsed": false,
    "deletable": true,
    "editable": true
   },
   "outputs": [
    {
     "name": "stdout",
     "output_type": "stream",
     "text": [
      "Tests Passed\n"
     ]
    }
   ],
   "source": [
    "def flatten(x_tensor):\n",
    "    \"\"\"\n",
    "    Flatten x_tensor to (Batch Size, Flattened Image Size)\n",
    "    : x_tensor: A tensor of size (Batch Size, ...), where ... are the image dimensions.\n",
    "    : return: A tensor of size (Batch Size, Flattened Image Size).\n",
    "    \"\"\"\n",
    "    # TODO: Implement Function\n",
    "    from functools import reduce\n",
    "    flat_length = reduce(lambda x,y: x*y, x_tensor.get_shape().as_list()[1:])\n",
    "    return tf.reshape(x_tensor, [-1, flat_length])\n",
    "\n",
    "\n",
    "\"\"\"\n",
    "DON'T MODIFY ANYTHING IN THIS CELL THAT IS BELOW THIS LINE\n",
    "\"\"\"\n",
    "tests.test_flatten(flatten)"
   ]
  },
  {
   "cell_type": "markdown",
   "metadata": {
    "deletable": true,
    "editable": true
   },
   "source": [
    "### Fully-Connected Layer\n",
    "Implement the `fully_conn` function to apply a fully connected layer to `x_tensor` with the shape (*Batch Size*, *num_outputs*). You can use [TensorFlow Layers](https://www.tensorflow.org/api_docs/python/tf/layers) or [TensorFlow Layers (contrib)](https://www.tensorflow.org/api_guides/python/contrib.layers) for this layer."
   ]
  },
  {
   "cell_type": "code",
   "execution_count": 5,
   "metadata": {
    "collapsed": false,
    "deletable": true,
    "editable": true
   },
   "outputs": [
    {
     "name": "stdout",
     "output_type": "stream",
     "text": [
      "Tests Passed\n"
     ]
    }
   ],
   "source": [
    "def fully_conn(x_tensor, num_outputs):\n",
    "    \"\"\"\n",
    "    Apply a fully connected layer to x_tensor using weight and bias\n",
    "    : x_tensor: A 2-D tensor where the first dimension is batch size.\n",
    "    : num_outputs: The number of output that the new tensor should be.\n",
    "    : return: A 2-D tensor where the second dimension is num_outputs.\n",
    "    \"\"\"\n",
    "    # TODO: Implement Function    \n",
    "    w = tf.Variable(tf.random_normal([x_tensor.get_shape().as_list()[1], num_outputs],stddev=0.1))\n",
    "    b = tf.Variable(tf.zeros([num_outputs]))\n",
    "\n",
    "    y = tf.nn.relu(tf.add(tf.matmul(x_tensor, w), b))\n",
    "    return y\n",
    "\n",
    "\n",
    "\"\"\"\n",
    "DON'T MODIFY ANYTHING IN THIS CELL THAT IS BELOW THIS LINE\n",
    "\"\"\"\n",
    "tests.test_fully_conn(fully_conn)"
   ]
  },
  {
   "cell_type": "markdown",
   "metadata": {
    "deletable": true,
    "editable": true
   },
   "source": [
    "### Output Layer\n",
    "Implement the `output` function to apply a fully connected layer to `x_tensor` with the shape (*Batch Size*, *num_outputs*). You can use [TensorFlow Layers](https://www.tensorflow.org/api_docs/python/tf/layers) or [TensorFlow Layers (contrib)](https://www.tensorflow.org/api_guides/python/contrib.layers) for this layer.\n",
    "\n",
    "Note: Activation, softmax, or cross entropy shouldn't be applied to this."
   ]
  },
  {
   "cell_type": "code",
   "execution_count": 6,
   "metadata": {
    "collapsed": false,
    "deletable": true,
    "editable": true
   },
   "outputs": [
    {
     "name": "stdout",
     "output_type": "stream",
     "text": [
      "Tests Passed\n"
     ]
    }
   ],
   "source": [
    "def output(x_tensor, num_outputs):\n",
    "    \"\"\"\n",
    "    Apply a output layer to x_tensor using weight and bias\n",
    "    : x_tensor: A 2-D tensor where the first dimension is batch size.\n",
    "    : num_outputs: The number of output that the new tensor should be.\n",
    "    : return: A 2-D tensor where the second dimension is num_outputs.\n",
    "    \"\"\"\n",
    "    # TODO: Implement Function\n",
    "    w = tf.Variable(tf.random_normal([x_tensor.get_shape().as_list()[1], num_outputs], stddev=0.1))\n",
    "    b = tf.Variable(tf.zeros([num_outputs]))\n",
    "    y = tf.add(tf.matmul(x_tensor, w), b)\n",
    "    return y\n",
    "\n",
    "\n",
    "\"\"\"\n",
    "DON'T MODIFY ANYTHING IN THIS CELL THAT IS BELOW THIS LINE\n",
    "\"\"\"\n",
    "tests.test_output(output)"
   ]
  },
  {
   "cell_type": "markdown",
   "metadata": {
    "deletable": true,
    "editable": true
   },
   "source": [
    "### Create Convolutional Model\n",
    "Implement the function `conv_net` to create a convolutional neural network model. The function takes in a batch of images, `x`, and outputs logits.  Use the layers you created above to create this model:\n",
    "\n",
    "* Apply 1, 2, or 3 Convolution and Max Pool layers\n",
    "* Apply a Flatten Layer\n",
    "* Apply 1, 2, or 3 Fully Connected Layers\n",
    "* Apply an Output Layer\n",
    "* Return the output\n",
    "* Apply [TensorFlow's Dropout](https://www.tensorflow.org/api_docs/python/tf/nn/dropout) to one or more layers in the model using `keep_prob`. "
   ]
  },
  {
   "cell_type": "code",
   "execution_count": 7,
   "metadata": {
    "collapsed": false,
    "deletable": true,
    "editable": true
   },
   "outputs": [
    {
     "name": "stdout",
     "output_type": "stream",
     "text": [
      "(32, 32, 3)\n",
      "Neural Network Built!\n"
     ]
    }
   ],
   "source": [
    "def conv_net(x, keep_prob):\n",
    "    \"\"\"\n",
    "    Create a convolutional neural network model\n",
    "    : x: Placeholder tensor that holds image data.\n",
    "    : keep_prob: Placeholder tensor that hold dropout keep probability.\n",
    "    : return: Tensor that represents logits\n",
    "    \"\"\"\n",
    "    # TODO: Apply 1, 2, or 3 Convolution and Max Pool layers\n",
    "    #    Play around with different number of outputs, kernel size and stride\n",
    "    # Function Definition from Above:\n",
    "    #    conv2d_maxpool(x_tensor, conv_num_outputs, conv_ksize, conv_strides, pool_ksize, pool_strides)\n",
    "    \n",
    "    #source image: 32x32x3\n",
    "    \n",
    "    conv = conv2d_maxpool(x, 64, [5,5], [1,1], [2,2], [2,2])\n",
    "    conv = tf.nn.dropout(conv, keep_prob)\n",
    "    conv = conv2d_maxpool(conv, 128, [5,5],[1,1],[2,2],[2,2])\n",
    "    conv = conv2d_maxpool(conv, 256, [3,3],[1,1],[2,2],[2,2])\n",
    "    conv = tf.nn.dropout(conv, keep_prob)\n",
    "\n",
    "    # TODO: Apply a Flatten Layer\n",
    "    # Function Definition from Above:\n",
    "    #   flatten(x_tensor)\n",
    "    conv_out = flatten(conv)\n",
    "    \n",
    "\n",
    "    # TODO: Apply 1, 2, or 3 Fully Connected Layers\n",
    "    #    Play around with different number of outputs\n",
    "    # Function Definition from Above:\n",
    "    #   fully_conn(x_tensor, num_outputs)\n",
    "    fc = fully_conn(conv_out, 2048)\n",
    "    fc = fully_conn(fc, 1024)\n",
    "    fc = fully_conn(fc, 512)\n",
    "    fc = tf.nn.dropout(fc, keep_prob)\n",
    "    \n",
    "    # TODO: Apply an Output Layer\n",
    "    #    Set this to the number of classes\n",
    "    # Function Definition from Above:\n",
    "    #   output(x_tensor, num_outputs)\n",
    "    logits = output(fc, 10)\n",
    "    \n",
    "    # TODO: return output\n",
    "    return logits\n",
    "\n",
    "\n",
    "\"\"\"\n",
    "DON'T MODIFY ANYTHING IN THIS CELL THAT IS BELOW THIS LINE\n",
    "\"\"\"\n",
    "\n",
    "##############################\n",
    "## Build the Neural Network ##\n",
    "##############################\n",
    "\n",
    "# Remove previous weights, bias, inputs, etc..\n",
    "tf.reset_default_graph()\n",
    "\n",
    "# Inputs\n",
    "x = neural_net_image_input((32, 32, 3))\n",
    "y = neural_net_label_input(10)\n",
    "keep_prob = neural_net_keep_prob_input()\n",
    "\n",
    "# Model\n",
    "logits = conv_net(x, keep_prob)\n",
    "\n",
    "# Name logits Tensor, so that is can be loaded from disk after training\n",
    "logits = tf.identity(logits, name='logits')\n",
    "\n",
    "# Loss and Optimizer\n",
    "cost = tf.reduce_mean(tf.nn.softmax_cross_entropy_with_logits(logits=logits, labels=y))\n",
    "optimizer = tf.train.AdamOptimizer().minimize(cost)\n",
    "\n",
    "# Accuracy\n",
    "correct_pred = tf.equal(tf.argmax(logits, 1), tf.argmax(y, 1))\n",
    "accuracy = tf.reduce_mean(tf.cast(correct_pred, tf.float32), name='accuracy')\n",
    "\n",
    "tests.test_conv_net(conv_net)"
   ]
  },
  {
   "cell_type": "markdown",
   "metadata": {
    "deletable": true,
    "editable": true
   },
   "source": [
    "## Train the Neural Network\n",
    "### Single Optimization\n",
    "Implement the function `train_neural_network` to do a single optimization.  The optimization should use `optimizer` to optimize in `session` with a `feed_dict` of the following:\n",
    "* `x` for image input\n",
    "* `y` for labels\n",
    "* `keep_prob` for keep probability for dropout\n",
    "\n",
    "This function will be called for each batch, so `tf.global_variables_initializer()` has already been called.\n",
    "\n",
    "Note: Nothing needs to be returned. This function is only optimizing the neural network."
   ]
  },
  {
   "cell_type": "code",
   "execution_count": 8,
   "metadata": {
    "collapsed": false,
    "deletable": true,
    "editable": true
   },
   "outputs": [
    {
     "name": "stdout",
     "output_type": "stream",
     "text": [
      "Tests Passed\n"
     ]
    }
   ],
   "source": [
    "def train_neural_network(session, optimizer, keep_probability, feature_batch, label_batch):\n",
    "    \"\"\"\n",
    "    Optimize the session on a batch of images and labels\n",
    "    : session: Current TensorFlow session\n",
    "    : optimizer: TensorFlow optimizer function\n",
    "    : keep_probability: keep probability\n",
    "    : feature_batch: Batch of Numpy image data\n",
    "    : label_batch: Batch of Numpy label data\n",
    "    \"\"\"\n",
    "    # TODO: Implement Function\n",
    "    session.run(optimizer, feed_dict={x:feature_batch, y:label_batch, keep_prob:keep_probability})\n",
    "\n",
    "\n",
    "\"\"\"\n",
    "DON'T MODIFY ANYTHING IN THIS CELL THAT IS BELOW THIS LINE\n",
    "\"\"\"\n",
    "tests.test_train_nn(train_neural_network)"
   ]
  },
  {
   "cell_type": "markdown",
   "metadata": {
    "deletable": true,
    "editable": true
   },
   "source": [
    "### Show Stats\n",
    "Implement the function `print_stats` to print loss and validation accuracy.  Use the global variables `valid_features` and `valid_labels` to calculate validation accuracy.  Use a keep probability of `1.0` to calculate the loss and validation accuracy."
   ]
  },
  {
   "cell_type": "code",
   "execution_count": 9,
   "metadata": {
    "collapsed": false,
    "deletable": true,
    "editable": true
   },
   "outputs": [],
   "source": [
    "def print_stats(session, feature_batch, label_batch, cost, accuracy):\n",
    "    \"\"\"\n",
    "    Print information about loss and validation accuracy\n",
    "    : session: Current TensorFlow session\n",
    "    : feature_batch: Batch of Numpy image data\n",
    "    : label_batch: Batch of Numpy label data\n",
    "    : cost: TensorFlow cost function\n",
    "    : accuracy: TensorFlow accuracy function\n",
    "    \"\"\"\n",
    "    # TODO: Implement Function\n",
    "    loss = session.run(cost, feed_dict={x:feature_batch, y:label_batch, keep_prob:1.0})\n",
    "    train_accu = session.run(accuracy, feed_dict={x:feature_batch, y:label_batch, keep_prob:1.0})\n",
    "    valid_accu = session.run(accuracy, feed_dict={x:valid_features, y:valid_labels, keep_prob:1.0})\n",
    "    print (\" - Loss: {:>10.4f} Trainning Accuracy: {:.6f} Validation Accuracy: {:.6f}\".format(loss, train_accu, valid_accu))\n",
    "    "
   ]
  },
  {
   "cell_type": "markdown",
   "metadata": {
    "deletable": true,
    "editable": true
   },
   "source": [
    "### Hyperparameters\n",
    "Tune the following parameters:\n",
    "* Set `epochs` to the number of iterations until the network stops learning or start overfitting\n",
    "* Set `batch_size` to the highest number that your machine has memory for.  Most people set them to common sizes of memory:\n",
    " * 64\n",
    " * 128\n",
    " * 256\n",
    " * ...\n",
    "* Set `keep_probability` to the probability of keeping a node using dropout"
   ]
  },
  {
   "cell_type": "code",
   "execution_count": 10,
   "metadata": {
    "collapsed": true,
    "deletable": true,
    "editable": true
   },
   "outputs": [],
   "source": [
    "# TODO: Tune Parameters\n",
    "epochs = 24\n",
    "batch_size = 64\n",
    "keep_probability = 0.8"
   ]
  },
  {
   "cell_type": "markdown",
   "metadata": {
    "deletable": true,
    "editable": true
   },
   "source": [
    "### Train on a Single CIFAR-10 Batch\n",
    "Instead of training the neural network on all the CIFAR-10 batches of data, let's use a single batch. This should save time while you iterate on the model to get a better accuracy.  Once the final validation accuracy is 50% or greater, run the model on all the data in the next section."
   ]
  },
  {
   "cell_type": "code",
   "execution_count": 24,
   "metadata": {
    "collapsed": false,
    "deletable": true,
    "editable": true,
    "scrolled": true
   },
   "outputs": [
    {
     "name": "stdout",
     "output_type": "stream",
     "text": [
      "Checking the Training on a Single Batch...\n",
      "Epoch  1, CIFAR-10 Batch 1:   - Loss:     1.6463 Trainning Accuracy: 0.475000 Validation Accuracy: 0.400000\n",
      "Epoch  2, CIFAR-10 Batch 1:   - Loss:     1.1241 Trainning Accuracy: 0.700000 Validation Accuracy: 0.453400\n",
      "Epoch  3, CIFAR-10 Batch 1:   - Loss:     0.8183 Trainning Accuracy: 0.750000 Validation Accuracy: 0.483600\n",
      "Epoch  4, CIFAR-10 Batch 1:   - Loss:     0.5586 Trainning Accuracy: 0.850000 Validation Accuracy: 0.477400\n",
      "Epoch  5, CIFAR-10 Batch 1:   - Loss:     0.4163 Trainning Accuracy: 0.875000 Validation Accuracy: 0.487400\n",
      "Epoch  6, CIFAR-10 Batch 1:   - Loss:     0.2679 Trainning Accuracy: 0.975000 Validation Accuracy: 0.476800\n",
      "Epoch  7, CIFAR-10 Batch 1:   - Loss:     0.2514 Trainning Accuracy: 0.925000 Validation Accuracy: 0.462200\n",
      "Epoch  8, CIFAR-10 Batch 1:   - Loss:     0.1632 Trainning Accuracy: 0.975000 Validation Accuracy: 0.467400\n",
      "Epoch  9, CIFAR-10 Batch 1:   - Loss:     0.1554 Trainning Accuracy: 0.975000 Validation Accuracy: 0.479200\n",
      "Epoch 10, CIFAR-10 Batch 1:   - Loss:     0.0939 Trainning Accuracy: 0.975000 Validation Accuracy: 0.504400\n",
      "Epoch 11, CIFAR-10 Batch 1:   - Loss:     0.0827 Trainning Accuracy: 0.975000 Validation Accuracy: 0.488400\n",
      "Epoch 12, CIFAR-10 Batch 1:   - Loss:     0.0688 Trainning Accuracy: 0.975000 Validation Accuracy: 0.488600\n",
      "Epoch 13, CIFAR-10 Batch 1:   - Loss:     0.0234 Trainning Accuracy: 1.000000 Validation Accuracy: 0.472800\n",
      "Epoch 14, CIFAR-10 Batch 1:   - Loss:     0.0521 Trainning Accuracy: 0.975000 Validation Accuracy: 0.478600\n",
      "Epoch 15, CIFAR-10 Batch 1:   - Loss:     0.0127 Trainning Accuracy: 1.000000 Validation Accuracy: 0.513800\n",
      "Epoch 16, CIFAR-10 Batch 1:   - Loss:     0.0131 Trainning Accuracy: 1.000000 Validation Accuracy: 0.514000\n"
     ]
    }
   ],
   "source": [
    "\"\"\"\n",
    "DON'T MODIFY ANYTHING IN THIS CELL\n",
    "\"\"\"\n",
    "print('Checking the Training on a Single Batch...')\n",
    "with tf.Session() as sess:\n",
    "    # Initializing the variables\n",
    "    sess.run(tf.global_variables_initializer())\n",
    "    \n",
    "    # Training cycle\n",
    "    for epoch in range(epochs):\n",
    "        batch_i = 1\n",
    "        for batch_features, batch_labels in helper.load_preprocess_training_batch(batch_i, batch_size):\n",
    "            train_neural_network(sess, optimizer, keep_probability, batch_features, batch_labels)\n",
    "        print('Epoch {:>2}, CIFAR-10 Batch {}:  '.format(epoch + 1, batch_i), end='')\n",
    "        print_stats(sess, batch_features, batch_labels, cost, accuracy)"
   ]
  },
  {
   "cell_type": "markdown",
   "metadata": {
    "deletable": true,
    "editable": true
   },
   "source": [
    "### Fully Train the Model\n",
    "Now that you got a good accuracy with a single CIFAR-10 batch, try it with all five batches."
   ]
  },
  {
   "cell_type": "code",
   "execution_count": 16,
   "metadata": {
    "collapsed": false,
    "deletable": true,
    "editable": true,
    "scrolled": false
   },
   "outputs": [
    {
     "name": "stdout",
     "output_type": "stream",
     "text": [
      "Training...\n",
      "Epoch  1, CIFAR-10 Batch 1:   - Loss:     1.7854 Trainning Accuracy: 0.450000 Validation Accuracy: 0.371600\n",
      "Epoch  1, CIFAR-10 Batch 2:   - Loss:     1.6983 Trainning Accuracy: 0.375000 Validation Accuracy: 0.409600\n",
      "Epoch  1, CIFAR-10 Batch 3:   - Loss:     1.4933 Trainning Accuracy: 0.475000 Validation Accuracy: 0.422600\n",
      "Epoch  1, CIFAR-10 Batch 4:   - Loss:     1.3755 Trainning Accuracy: 0.525000 Validation Accuracy: 0.468600\n",
      "Epoch  1, CIFAR-10 Batch 5:   - Loss:     1.4232 Trainning Accuracy: 0.525000 Validation Accuracy: 0.486000\n",
      "Epoch  2, CIFAR-10 Batch 1:   - Loss:     1.4501 Trainning Accuracy: 0.525000 Validation Accuracy: 0.497200\n",
      "Epoch  2, CIFAR-10 Batch 2:   - Loss:     1.1798 Trainning Accuracy: 0.575000 Validation Accuracy: 0.486400\n",
      "Epoch  2, CIFAR-10 Batch 3:   - Loss:     1.1312 Trainning Accuracy: 0.550000 Validation Accuracy: 0.492200\n",
      "Epoch  2, CIFAR-10 Batch 4:   - Loss:     1.1808 Trainning Accuracy: 0.625000 Validation Accuracy: 0.518600\n",
      "Epoch  2, CIFAR-10 Batch 5:   - Loss:     1.3082 Trainning Accuracy: 0.475000 Validation Accuracy: 0.545400\n",
      "Epoch  3, CIFAR-10 Batch 1:   - Loss:     1.3119 Trainning Accuracy: 0.700000 Validation Accuracy: 0.555000\n",
      "Epoch  3, CIFAR-10 Batch 2:   - Loss:     0.9948 Trainning Accuracy: 0.600000 Validation Accuracy: 0.546600\n",
      "Epoch  3, CIFAR-10 Batch 3:   - Loss:     0.8551 Trainning Accuracy: 0.700000 Validation Accuracy: 0.539200\n",
      "Epoch  3, CIFAR-10 Batch 4:   - Loss:     0.9722 Trainning Accuracy: 0.675000 Validation Accuracy: 0.567200\n",
      "Epoch  3, CIFAR-10 Batch 5:   - Loss:     1.0473 Trainning Accuracy: 0.650000 Validation Accuracy: 0.567800\n",
      "Epoch  4, CIFAR-10 Batch 1:   - Loss:     1.1619 Trainning Accuracy: 0.700000 Validation Accuracy: 0.557800\n",
      "Epoch  4, CIFAR-10 Batch 2:   - Loss:     0.8890 Trainning Accuracy: 0.575000 Validation Accuracy: 0.581200\n",
      "Epoch  4, CIFAR-10 Batch 3:   - Loss:     0.8055 Trainning Accuracy: 0.675000 Validation Accuracy: 0.581600\n",
      "Epoch  4, CIFAR-10 Batch 4:   - Loss:     0.8566 Trainning Accuracy: 0.625000 Validation Accuracy: 0.586200\n",
      "Epoch  4, CIFAR-10 Batch 5:   - Loss:     0.8764 Trainning Accuracy: 0.775000 Validation Accuracy: 0.604800\n",
      "Epoch  5, CIFAR-10 Batch 1:   - Loss:     1.0007 Trainning Accuracy: 0.750000 Validation Accuracy: 0.577400\n",
      "Epoch  5, CIFAR-10 Batch 2:   - Loss:     0.7402 Trainning Accuracy: 0.775000 Validation Accuracy: 0.609600\n",
      "Epoch  5, CIFAR-10 Batch 3:   - Loss:     0.7392 Trainning Accuracy: 0.725000 Validation Accuracy: 0.610600\n",
      "Epoch  5, CIFAR-10 Batch 4:   - Loss:     0.6025 Trainning Accuracy: 0.775000 Validation Accuracy: 0.605200\n",
      "Epoch  5, CIFAR-10 Batch 5:   - Loss:     0.8309 Trainning Accuracy: 0.675000 Validation Accuracy: 0.621800\n",
      "Epoch  6, CIFAR-10 Batch 1:   - Loss:     0.8176 Trainning Accuracy: 0.800000 Validation Accuracy: 0.605200\n",
      "Epoch  6, CIFAR-10 Batch 2:   - Loss:     0.6996 Trainning Accuracy: 0.775000 Validation Accuracy: 0.626200\n",
      "Epoch  6, CIFAR-10 Batch 3:   - Loss:     0.4671 Trainning Accuracy: 0.900000 Validation Accuracy: 0.610600\n",
      "Epoch  6, CIFAR-10 Batch 4:   - Loss:     0.5955 Trainning Accuracy: 0.800000 Validation Accuracy: 0.616000\n",
      "Epoch  6, CIFAR-10 Batch 5:   - Loss:     0.6170 Trainning Accuracy: 0.825000 Validation Accuracy: 0.630600\n",
      "Epoch  7, CIFAR-10 Batch 1:   - Loss:     0.7639 Trainning Accuracy: 0.775000 Validation Accuracy: 0.623200\n",
      "Epoch  7, CIFAR-10 Batch 2:   - Loss:     0.4799 Trainning Accuracy: 0.875000 Validation Accuracy: 0.632000\n",
      "Epoch  7, CIFAR-10 Batch 3:   - Loss:     0.3686 Trainning Accuracy: 0.875000 Validation Accuracy: 0.621600\n",
      "Epoch  7, CIFAR-10 Batch 4:   - Loss:     0.4240 Trainning Accuracy: 0.825000 Validation Accuracy: 0.629600\n",
      "Epoch  7, CIFAR-10 Batch 5:   - Loss:     0.5253 Trainning Accuracy: 0.850000 Validation Accuracy: 0.635600\n",
      "Epoch  8, CIFAR-10 Batch 1:   - Loss:     0.7112 Trainning Accuracy: 0.800000 Validation Accuracy: 0.647400\n",
      "Epoch  8, CIFAR-10 Batch 2:   - Loss:     0.4126 Trainning Accuracy: 0.900000 Validation Accuracy: 0.631800\n",
      "Epoch  8, CIFAR-10 Batch 3:   - Loss:     0.3595 Trainning Accuracy: 0.900000 Validation Accuracy: 0.642200\n",
      "Epoch  8, CIFAR-10 Batch 4:   - Loss:     0.4258 Trainning Accuracy: 0.900000 Validation Accuracy: 0.639800\n",
      "Epoch  8, CIFAR-10 Batch 5:   - Loss:     0.3170 Trainning Accuracy: 0.950000 Validation Accuracy: 0.649400\n",
      "Epoch  9, CIFAR-10 Batch 1:   - Loss:     0.5479 Trainning Accuracy: 0.800000 Validation Accuracy: 0.657600\n",
      "Epoch  9, CIFAR-10 Batch 2:   - Loss:     0.2712 Trainning Accuracy: 0.925000 Validation Accuracy: 0.661800\n",
      "Epoch  9, CIFAR-10 Batch 3:   - Loss:     0.2409 Trainning Accuracy: 0.950000 Validation Accuracy: 0.647400\n",
      "Epoch  9, CIFAR-10 Batch 4:   - Loss:     0.3830 Trainning Accuracy: 0.850000 Validation Accuracy: 0.651800\n",
      "Epoch  9, CIFAR-10 Batch 5:   - Loss:     0.1879 Trainning Accuracy: 1.000000 Validation Accuracy: 0.664800\n",
      "Epoch 10, CIFAR-10 Batch 1:   - Loss:     0.4831 Trainning Accuracy: 0.800000 Validation Accuracy: 0.648400\n",
      "Epoch 10, CIFAR-10 Batch 2:   - Loss:     0.3950 Trainning Accuracy: 0.900000 Validation Accuracy: 0.660800\n",
      "Epoch 10, CIFAR-10 Batch 3:   - Loss:     0.2338 Trainning Accuracy: 0.925000 Validation Accuracy: 0.639400\n",
      "Epoch 10, CIFAR-10 Batch 4:   - Loss:     0.3001 Trainning Accuracy: 0.925000 Validation Accuracy: 0.654600\n",
      "Epoch 10, CIFAR-10 Batch 5:   - Loss:     0.1838 Trainning Accuracy: 1.000000 Validation Accuracy: 0.653800\n",
      "Epoch 11, CIFAR-10 Batch 1:   - Loss:     0.3653 Trainning Accuracy: 0.925000 Validation Accuracy: 0.648600\n",
      "Epoch 11, CIFAR-10 Batch 2:   - Loss:     0.1909 Trainning Accuracy: 0.950000 Validation Accuracy: 0.668800\n",
      "Epoch 11, CIFAR-10 Batch 3:   - Loss:     0.1337 Trainning Accuracy: 1.000000 Validation Accuracy: 0.659600\n",
      "Epoch 11, CIFAR-10 Batch 4:   - Loss:     0.3013 Trainning Accuracy: 0.950000 Validation Accuracy: 0.660000\n",
      "Epoch 11, CIFAR-10 Batch 5:   - Loss:     0.1362 Trainning Accuracy: 1.000000 Validation Accuracy: 0.660600\n",
      "Epoch 12, CIFAR-10 Batch 1:   - Loss:     0.2958 Trainning Accuracy: 0.925000 Validation Accuracy: 0.664600\n",
      "Epoch 12, CIFAR-10 Batch 2:   - Loss:     0.1584 Trainning Accuracy: 1.000000 Validation Accuracy: 0.663600\n",
      "Epoch 12, CIFAR-10 Batch 3:   - Loss:     0.0965 Trainning Accuracy: 0.975000 Validation Accuracy: 0.664800\n",
      "Epoch 12, CIFAR-10 Batch 4:   - Loss:     0.1632 Trainning Accuracy: 0.975000 Validation Accuracy: 0.664000\n",
      "Epoch 12, CIFAR-10 Batch 5:   - Loss:     0.0895 Trainning Accuracy: 1.000000 Validation Accuracy: 0.635600\n",
      "Epoch 13, CIFAR-10 Batch 1:   - Loss:     0.2629 Trainning Accuracy: 0.950000 Validation Accuracy: 0.668600\n",
      "Epoch 13, CIFAR-10 Batch 2:   - Loss:     0.0915 Trainning Accuracy: 1.000000 Validation Accuracy: 0.670400\n",
      "Epoch 13, CIFAR-10 Batch 3:   - Loss:     0.1233 Trainning Accuracy: 0.975000 Validation Accuracy: 0.662400\n",
      "Epoch 13, CIFAR-10 Batch 4:   - Loss:     0.1308 Trainning Accuracy: 0.925000 Validation Accuracy: 0.668000\n",
      "Epoch 13, CIFAR-10 Batch 5:   - Loss:     0.1415 Trainning Accuracy: 0.950000 Validation Accuracy: 0.660000\n",
      "Epoch 14, CIFAR-10 Batch 1:   - Loss:     0.1888 Trainning Accuracy: 0.925000 Validation Accuracy: 0.680400\n",
      "Epoch 14, CIFAR-10 Batch 2:   - Loss:     0.1070 Trainning Accuracy: 0.975000 Validation Accuracy: 0.651400\n",
      "Epoch 14, CIFAR-10 Batch 3:   - Loss:     0.0941 Trainning Accuracy: 0.975000 Validation Accuracy: 0.668400\n",
      "Epoch 14, CIFAR-10 Batch 4:   - Loss:     0.0961 Trainning Accuracy: 0.950000 Validation Accuracy: 0.684600\n",
      "Epoch 14, CIFAR-10 Batch 5:   - Loss:     0.0712 Trainning Accuracy: 1.000000 Validation Accuracy: 0.677000\n",
      "Epoch 15, CIFAR-10 Batch 1:   - Loss:     0.0775 Trainning Accuracy: 1.000000 Validation Accuracy: 0.687000\n",
      "Epoch 15, CIFAR-10 Batch 2:   - Loss:     0.0664 Trainning Accuracy: 0.975000 Validation Accuracy: 0.663200\n",
      "Epoch 15, CIFAR-10 Batch 3:   - Loss:     0.0338 Trainning Accuracy: 1.000000 Validation Accuracy: 0.662200\n",
      "Epoch 15, CIFAR-10 Batch 4:   - Loss:     0.0975 Trainning Accuracy: 0.975000 Validation Accuracy: 0.641000\n",
      "Epoch 15, CIFAR-10 Batch 5:   - Loss:     0.0529 Trainning Accuracy: 1.000000 Validation Accuracy: 0.669200\n",
      "Epoch 16, CIFAR-10 Batch 1:   - Loss:     0.0810 Trainning Accuracy: 1.000000 Validation Accuracy: 0.664400\n",
      "Epoch 16, CIFAR-10 Batch 2:   - Loss:     0.0752 Trainning Accuracy: 0.975000 Validation Accuracy: 0.668000\n",
      "Epoch 16, CIFAR-10 Batch 3:   - Loss:     0.0187 Trainning Accuracy: 1.000000 Validation Accuracy: 0.658600\n",
      "Epoch 16, CIFAR-10 Batch 4:   - Loss:     0.0259 Trainning Accuracy: 1.000000 Validation Accuracy: 0.665000\n",
      "Epoch 16, CIFAR-10 Batch 5:   - Loss:     0.0508 Trainning Accuracy: 1.000000 Validation Accuracy: 0.660800\n",
      "Epoch 17, CIFAR-10 Batch 1:   - Loss:     0.0971 Trainning Accuracy: 0.975000 Validation Accuracy: 0.674000\n",
      "Epoch 17, CIFAR-10 Batch 2:   - Loss:     0.0571 Trainning Accuracy: 0.975000 Validation Accuracy: 0.670600\n",
      "Epoch 17, CIFAR-10 Batch 3:   - Loss:     0.0326 Trainning Accuracy: 1.000000 Validation Accuracy: 0.672400\n",
      "Epoch 17, CIFAR-10 Batch 4:   - Loss:     0.0424 Trainning Accuracy: 0.975000 Validation Accuracy: 0.667200\n",
      "Epoch 17, CIFAR-10 Batch 5:   - Loss:     0.0548 Trainning Accuracy: 1.000000 Validation Accuracy: 0.663400\n",
      "Epoch 18, CIFAR-10 Batch 1:   - Loss:     0.0558 Trainning Accuracy: 1.000000 Validation Accuracy: 0.661200\n",
      "Epoch 18, CIFAR-10 Batch 2:   - Loss:     0.0231 Trainning Accuracy: 1.000000 Validation Accuracy: 0.660600\n",
      "Epoch 18, CIFAR-10 Batch 3:   - Loss:     0.0148 Trainning Accuracy: 1.000000 Validation Accuracy: 0.661600\n",
      "Epoch 18, CIFAR-10 Batch 4:   - Loss:     0.0203 Trainning Accuracy: 1.000000 Validation Accuracy: 0.679600\n",
      "Epoch 18, CIFAR-10 Batch 5:   - Loss:     0.0399 Trainning Accuracy: 1.000000 Validation Accuracy: 0.675800\n",
      "Epoch 19, CIFAR-10 Batch 1:   - Loss:     0.0305 Trainning Accuracy: 1.000000 Validation Accuracy: 0.667800\n",
      "Epoch 19, CIFAR-10 Batch 2:   - Loss:     0.0160 Trainning Accuracy: 1.000000 Validation Accuracy: 0.664000\n",
      "Epoch 19, CIFAR-10 Batch 3:   - Loss:     0.0195 Trainning Accuracy: 1.000000 Validation Accuracy: 0.681200\n",
      "Epoch 19, CIFAR-10 Batch 4:   - Loss:     0.0117 Trainning Accuracy: 1.000000 Validation Accuracy: 0.659400\n",
      "Epoch 19, CIFAR-10 Batch 5:   - Loss:     0.0648 Trainning Accuracy: 0.975000 Validation Accuracy: 0.675800\n",
      "Epoch 20, CIFAR-10 Batch 1:   - Loss:     0.0341 Trainning Accuracy: 1.000000 Validation Accuracy: 0.675800\n",
      "Epoch 20, CIFAR-10 Batch 2:   - Loss:     0.0174 Trainning Accuracy: 1.000000 Validation Accuracy: 0.656200\n",
      "Epoch 20, CIFAR-10 Batch 3:   - Loss:     0.0071 Trainning Accuracy: 1.000000 Validation Accuracy: 0.675200\n",
      "Epoch 20, CIFAR-10 Batch 4:   - Loss:     0.0170 Trainning Accuracy: 1.000000 Validation Accuracy: 0.677800\n",
      "Epoch 20, CIFAR-10 Batch 5:   - Loss:     0.0095 Trainning Accuracy: 1.000000 Validation Accuracy: 0.671000\n",
      "Epoch 21, CIFAR-10 Batch 1:   - Loss:     0.0158 Trainning Accuracy: 1.000000 Validation Accuracy: 0.681800\n",
      "Epoch 21, CIFAR-10 Batch 2:   - Loss:     0.0310 Trainning Accuracy: 1.000000 Validation Accuracy: 0.671000\n",
      "Epoch 21, CIFAR-10 Batch 3:   - Loss:     0.0377 Trainning Accuracy: 1.000000 Validation Accuracy: 0.678200\n",
      "Epoch 21, CIFAR-10 Batch 4:   - Loss:     0.0043 Trainning Accuracy: 1.000000 Validation Accuracy: 0.684400\n",
      "Epoch 21, CIFAR-10 Batch 5:   - Loss:     0.0132 Trainning Accuracy: 1.000000 Validation Accuracy: 0.680000\n",
      "Epoch 22, CIFAR-10 Batch 1:   - Loss:     0.0091 Trainning Accuracy: 1.000000 Validation Accuracy: 0.677400\n",
      "Epoch 22, CIFAR-10 Batch 2:   - Loss:     0.0176 Trainning Accuracy: 1.000000 Validation Accuracy: 0.660400\n",
      "Epoch 22, CIFAR-10 Batch 3:   - Loss:     0.0037 Trainning Accuracy: 1.000000 Validation Accuracy: 0.670400\n",
      "Epoch 22, CIFAR-10 Batch 4:   - Loss:     0.0154 Trainning Accuracy: 1.000000 Validation Accuracy: 0.665200\n",
      "Epoch 22, CIFAR-10 Batch 5:   - Loss:     0.0172 Trainning Accuracy: 1.000000 Validation Accuracy: 0.675200\n",
      "Epoch 23, CIFAR-10 Batch 1:   - Loss:     0.0184 Trainning Accuracy: 1.000000 Validation Accuracy: 0.670600\n",
      "Epoch 23, CIFAR-10 Batch 2:   - Loss:     0.0043 Trainning Accuracy: 1.000000 Validation Accuracy: 0.675000\n",
      "Epoch 23, CIFAR-10 Batch 3:   - Loss:     0.0023 Trainning Accuracy: 1.000000 Validation Accuracy: 0.688200\n",
      "Epoch 23, CIFAR-10 Batch 4:   - Loss:     0.0216 Trainning Accuracy: 1.000000 Validation Accuracy: 0.675200\n",
      "Epoch 23, CIFAR-10 Batch 5:   - Loss:     0.0287 Trainning Accuracy: 0.975000 Validation Accuracy: 0.674600\n",
      "Epoch 24, CIFAR-10 Batch 1:   - Loss:     0.0229 Trainning Accuracy: 0.975000 Validation Accuracy: 0.659800\n",
      "Epoch 24, CIFAR-10 Batch 2:   - Loss:     0.0152 Trainning Accuracy: 1.000000 Validation Accuracy: 0.676000\n",
      "Epoch 24, CIFAR-10 Batch 3:   - Loss:     0.0039 Trainning Accuracy: 1.000000 Validation Accuracy: 0.682400\n",
      "Epoch 24, CIFAR-10 Batch 4:   - Loss:     0.0073 Trainning Accuracy: 1.000000 Validation Accuracy: 0.677200\n",
      "Epoch 24, CIFAR-10 Batch 5:   - Loss:     0.0599 Trainning Accuracy: 0.950000 Validation Accuracy: 0.674200\n"
     ]
    }
   ],
   "source": [
    "\"\"\"\n",
    "DON'T MODIFY ANYTHING IN THIS CELL\n",
    "\"\"\"\n",
    "save_model_path = './image_classification'\n",
    "\n",
    "print('Training...')\n",
    "with tf.Session() as sess:\n",
    "    # Initializing the variables\n",
    "    sess.run(tf.global_variables_initializer())\n",
    "    \n",
    "    # Training cycle\n",
    "    for epoch in range(epochs):\n",
    "        # Loop over all batches\n",
    "        n_batches = 5\n",
    "        for batch_i in range(1, n_batches + 1):\n",
    "            for batch_features, batch_labels in helper.load_preprocess_training_batch(batch_i, batch_size):\n",
    "                train_neural_network(sess, optimizer, keep_probability, batch_features, batch_labels)\n",
    "            print('Epoch {:>2}, CIFAR-10 Batch {}:  '.format(epoch + 1, batch_i), end='')\n",
    "            print_stats(sess, batch_features, batch_labels, cost, accuracy)\n",
    "            \n",
    "    # Save Model\n",
    "    saver = tf.train.Saver()\n",
    "    save_path = saver.save(sess, save_model_path)"
   ]
  },
  {
   "cell_type": "markdown",
   "metadata": {
    "deletable": true,
    "editable": true
   },
   "source": [
    "\n",
    "\n",
    "\n",
    "\n",
    "# Checkpoint\n",
    "The model has been saved to disk.\n",
    "## Test Model\n",
    "Test your model against the test dataset.  This will be your final accuracy. You should have an accuracy greater than 50%. If you don't, keep tweaking the model architecture and parameters."
   ]
  },
  {
   "cell_type": "code",
   "execution_count": 11,
   "metadata": {
    "collapsed": false,
    "deletable": true,
    "editable": true
   },
   "outputs": [
    {
     "name": "stdout",
     "output_type": "stream",
     "text": [
      "Testing Accuracy: 0.703125\n",
      "\n"
     ]
    },
    {
     "data": {
      "image/png": "[encoded data removed]",
      "text/plain": [
       "<matplotlib.figure.Figure at 0x7ff13c6b3278>"
      ]
     },
     "metadata": {
      "image/png": {
       "height": 319,
       "width": 355
      }
     },
     "output_type": "display_data"
    }
   ],
   "source": [
    "\"\"\"\n",
    "DON'T MODIFY ANYTHING IN THIS CELL\n",
    "\"\"\"\n",
    "%matplotlib inline\n",
    "%config InlineBackend.figure_format = 'retina'\n",
    "\n",
    "import tensorflow as tf\n",
    "import pickle\n",
    "import helper\n",
    "import random\n",
    "\n",
    "# Set batch size if not already set\n",
    "try:\n",
    "    if batch_size:\n",
    "        pass\n",
    "except NameError:\n",
    "    batch_size = 64\n",
    "\n",
    "save_model_path = './image_classification'\n",
    "n_samples = 4\n",
    "top_n_predictions = 3\n",
    "\n",
    "def test_model():\n",
    "    \"\"\"\n",
    "    Test the saved model against the test dataset\n",
    "    \"\"\"\n",
    "\n",
    "    test_features, test_labels = pickle.load(open('preprocess_training.p', mode='rb'))\n",
    "    loaded_graph = tf.Graph()\n",
    "\n",
    "    with tf.Session(graph=loaded_graph) as sess:\n",
    "        # Load model\n",
    "        loader = tf.train.import_meta_graph(save_model_path + '.meta')\n",
    "        loader.restore(sess, save_model_path)\n",
    "\n",
    "        # Get Tensors from loaded model\n",
    "        loaded_x = loaded_graph.get_tensor_by_name('x:0')\n",
    "        loaded_y = loaded_graph.get_tensor_by_name('y:0')\n",
    "        loaded_keep_prob = loaded_graph.get_tensor_by_name('keep_prob:0')\n",
    "        loaded_logits = loaded_graph.get_tensor_by_name('logits:0')\n",
    "        loaded_acc = loaded_graph.get_tensor_by_name('accuracy:0')\n",
    "        \n",
    "        # Get accuracy in batches for memory limitations\n",
    "        test_batch_acc_total = 0\n",
    "        test_batch_count = 0\n",
    "        \n",
    "        for train_feature_batch, train_label_batch in helper.batch_features_labels(test_features, test_labels, batch_size):\n",
    "            test_batch_acc_total += sess.run(\n",
    "                loaded_acc,\n",
    "                feed_dict={loaded_x: train_feature_batch, loaded_y: train_label_batch, loaded_keep_prob: 1.0})\n",
    "            test_batch_count += 1\n",
    "\n",
    "        print('Testing Accuracy: {}\\n'.format(test_batch_acc_total/test_batch_count))\n",
    "\n",
    "        # Print Random Samples\n",
    "        random_test_features, random_test_labels = tuple(zip(*random.sample(list(zip(test_features, test_labels)), n_samples)))\n",
    "        random_test_predictions = sess.run(\n",
    "            tf.nn.top_k(tf.nn.softmax(loaded_logits), top_n_predictions),\n",
    "            feed_dict={loaded_x: random_test_features, loaded_y: random_test_labels, loaded_keep_prob: 1.0})\n",
    "        helper.display_image_predictions(random_test_features, random_test_labels, random_test_predictions)\n",
    "\n",
    "\n",
    "test_model()"
   ]
  },
  {
   "cell_type": "markdown",
   "metadata": {
    "deletable": true,
    "editable": true
   },
   "source": [
    "## Why 50-70% Accuracy?\n",
    "You might be wondering why you can't get an accuracy any higher. First things first, 50% isn't bad for a simple CNN.  Pure guessing would get you 10% accuracy. However, you might notice people are getting scores [well above 70%](http://rodrigob.github.io/are_we_there_yet/build/classification_datasets_results.html#43494641522d3130).  That's because we haven't taught you all there is to know about neural networks. We still need to cover a few more techniques.\n",
    "## Submitting This Project\n",
    "When submitting this project, make sure to run all the cells before saving the notebook.  Save the notebook file as \"dlnd_image_classification.ipynb\" and save it as a HTML file under \"File\" -> \"Download as\".  Include the \"helper.py\" and \"problem_unittests.py\" files in your submission."
   ]
  }
 ],
 "metadata": {
  "kernelspec": {
   "display_name": "tf1.0-py3.5",
   "language": "python",
   "name": "tf1.0"
  },
  "language_info": {
   "codemirror_mode": {
    "name": "ipython",
    "version": 3
   },
   "file_extension": ".py",
   "mimetype": "text/x-python",
   "name": "python",
   "nbconvert_exporter": "python",
   "pygments_lexer": "ipython3",
   "version": "3.5.2"
  }
 },
 "nbformat": 4,
 "nbformat_minor": 0
}
